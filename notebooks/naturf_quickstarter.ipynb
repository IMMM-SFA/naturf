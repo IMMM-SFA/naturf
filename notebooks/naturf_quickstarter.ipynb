{
 "cells": [
  {
   "cell_type": "markdown",
   "id": "f13a762d-dbbe-4ad4-aa07-7ba70f128bb5",
   "metadata": {},
   "source": [
    "**Notes**:\n",
    "- Should we buffer the actual building or the centroid?  Buffering the centroid could cause an erroneous result because the building footprint is larger than the buffer from the centroid.\n"
   ]
  },
  {
   "cell_type": "code",
   "execution_count": 1,
   "id": "cd45a941-91fe-46ee-ae24-4142810491a2",
   "metadata": {},
   "outputs": [],
   "source": [
    "import os\n",
    "\n",
    "import numpy as np\n",
    "import pandas as pd\n",
    "import rasterio\n",
    "import geopandas as gpd\n",
    "import matplotlib.pyplot as plt\n",
    "\n",
    "import naturf\n",
    "\n",
    "data_dir = \"/Users/d3y010/projects/naturf/data\"\n",
    "\n",
    "input_shapefile = os.path.join(data_dir, \"inputs\", \"C-5.shp\")\n",
    "\n",
    "model = naturf.Model(input_shapefile)\n",
    "\n",
    "gxf = model.generate()\n"
   ]
  },
  {
   "cell_type": "code",
   "execution_count": 2,
   "id": "8ea9ad65-3dad-4ceb-95a3-fe4baf03b137",
   "metadata": {},
   "outputs": [
    {
     "data": {
      "text/plain": [
       "(9324, 2)"
      ]
     },
     "execution_count": 2,
     "metadata": {},
     "output_type": "execute_result"
    }
   ],
   "source": [
    "gxf.shape"
   ]
  },
  {
   "cell_type": "code",
   "execution_count": 3,
   "id": "d7ff49da-40b9-4e75-a9b3-9b2d4d2f36ef",
   "metadata": {},
   "outputs": [
    {
     "data": {
      "text/html": [
       "<div>\n",
       "<style scoped>\n",
       "    .dataframe tbody tr th:only-of-type {\n",
       "        vertical-align: middle;\n",
       "    }\n",
       "\n",
       "    .dataframe tbody tr th {\n",
       "        vertical-align: top;\n",
       "    }\n",
       "\n",
       "    .dataframe thead th {\n",
       "        text-align: right;\n",
       "    }\n",
       "</style>\n",
       "<table border=\"1\" class=\"dataframe\">\n",
       "  <thead>\n",
       "    <tr style=\"text-align: right;\">\n",
       "      <th></th>\n",
       "      <th>distance_to_neighbor</th>\n",
       "      <th>angle_in_degrees_to_neighbor</th>\n",
       "    </tr>\n",
       "  </thead>\n",
       "  <tbody>\n",
       "    <tr>\n",
       "      <th>0</th>\n",
       "      <td>0.000000</td>\n",
       "      <td>0.000000</td>\n",
       "    </tr>\n",
       "    <tr>\n",
       "      <th>0</th>\n",
       "      <td>15.126073</td>\n",
       "      <td>90.630695</td>\n",
       "    </tr>\n",
       "    <tr>\n",
       "      <th>1</th>\n",
       "      <td>15.126073</td>\n",
       "      <td>270.630695</td>\n",
       "    </tr>\n",
       "    <tr>\n",
       "      <th>1</th>\n",
       "      <td>0.000000</td>\n",
       "      <td>0.000000</td>\n",
       "    </tr>\n",
       "    <tr>\n",
       "      <th>2</th>\n",
       "      <td>0.000000</td>\n",
       "      <td>0.000000</td>\n",
       "    </tr>\n",
       "  </tbody>\n",
       "</table>\n",
       "</div>"
      ],
      "text/plain": [
       "   distance_to_neighbor  angle_in_degrees_to_neighbor\n",
       "0              0.000000                      0.000000\n",
       "0             15.126073                     90.630695\n",
       "1             15.126073                    270.630695\n",
       "1              0.000000                      0.000000\n",
       "2              0.000000                      0.000000"
      ]
     },
     "execution_count": 3,
     "metadata": {},
     "output_type": "execute_result"
    }
   ],
   "source": [
    "gxf.head()"
   ]
  },
  {
   "cell_type": "code",
   "execution_count": 4,
   "id": "8b3cba16-a5e0-4f80-afd5-23d6fada136e",
   "metadata": {},
   "outputs": [
    {
     "data": {
      "text/html": [
       "<div>\n",
       "<style scoped>\n",
       "    .dataframe tbody tr th:only-of-type {\n",
       "        vertical-align: middle;\n",
       "    }\n",
       "\n",
       "    .dataframe tbody tr th {\n",
       "        vertical-align: top;\n",
       "    }\n",
       "\n",
       "    .dataframe thead th {\n",
       "        text-align: right;\n",
       "    }\n",
       "</style>\n",
       "<table border=\"1\" class=\"dataframe\">\n",
       "  <thead>\n",
       "    <tr style=\"text-align: right;\">\n",
       "      <th></th>\n",
       "      <th>distance_to_neighbor</th>\n",
       "      <th>building_height_target</th>\n",
       "      <th>building_height_neighbor</th>\n",
       "      <th>building_id_target</th>\n",
       "      <th>building_id_neighbor</th>\n",
       "      <th>building_area_target</th>\n",
       "      <th>building_area_neighbor</th>\n",
       "      <th>building_polygon_geometry_target</th>\n",
       "      <th>building_polygon_geometry_neighbor</th>\n",
       "    </tr>\n",
       "  </thead>\n",
       "  <tbody>\n",
       "    <tr>\n",
       "      <th>0</th>\n",
       "      <td>0.000000</td>\n",
       "      <td>2.66</td>\n",
       "      <td>2.66</td>\n",
       "      <td>132230</td>\n",
       "      <td>132230</td>\n",
       "      <td>320.512854</td>\n",
       "      <td>320.512854</td>\n",
       "      <td>POLYGON ((1618052.020 1922797.834, 1618051.749...</td>\n",
       "      <td>POLYGON ((1618052.020 1922797.834, 1618051.749...</td>\n",
       "    </tr>\n",
       "    <tr>\n",
       "      <th>0</th>\n",
       "      <td>15.126073</td>\n",
       "      <td>2.66</td>\n",
       "      <td>2.66</td>\n",
       "      <td>132230</td>\n",
       "      <td>132237</td>\n",
       "      <td>320.512854</td>\n",
       "      <td>34.959333</td>\n",
       "      <td>POLYGON ((1618052.020 1922797.834, 1618051.749...</td>\n",
       "      <td>POLYGON ((1618059.647 1922806.024, 1618058.415...</td>\n",
       "    </tr>\n",
       "    <tr>\n",
       "      <th>1</th>\n",
       "      <td>15.126073</td>\n",
       "      <td>2.66</td>\n",
       "      <td>2.66</td>\n",
       "      <td>132237</td>\n",
       "      <td>132230</td>\n",
       "      <td>34.959333</td>\n",
       "      <td>320.512854</td>\n",
       "      <td>POLYGON ((1618059.647 1922806.024, 1618058.415...</td>\n",
       "      <td>POLYGON ((1618052.020 1922797.834, 1618051.749...</td>\n",
       "    </tr>\n",
       "    <tr>\n",
       "      <th>1</th>\n",
       "      <td>0.000000</td>\n",
       "      <td>2.66</td>\n",
       "      <td>2.66</td>\n",
       "      <td>132237</td>\n",
       "      <td>132237</td>\n",
       "      <td>34.959333</td>\n",
       "      <td>34.959333</td>\n",
       "      <td>POLYGON ((1618059.647 1922806.024, 1618058.415...</td>\n",
       "      <td>POLYGON ((1618059.647 1922806.024, 1618058.415...</td>\n",
       "    </tr>\n",
       "    <tr>\n",
       "      <th>2</th>\n",
       "      <td>0.000000</td>\n",
       "      <td>25.41</td>\n",
       "      <td>25.41</td>\n",
       "      <td>132338</td>\n",
       "      <td>132338</td>\n",
       "      <td>8241.992817</td>\n",
       "      <td>8241.992817</td>\n",
       "      <td>POLYGON ((1620424.742 1923453.039, 1620423.981...</td>\n",
       "      <td>POLYGON ((1620424.742 1923453.039, 1620423.981...</td>\n",
       "    </tr>\n",
       "    <tr>\n",
       "      <th>...</th>\n",
       "      <td>...</td>\n",
       "      <td>...</td>\n",
       "      <td>...</td>\n",
       "      <td>...</td>\n",
       "      <td>...</td>\n",
       "      <td>...</td>\n",
       "      <td>...</td>\n",
       "      <td>...</td>\n",
       "      <td>...</td>\n",
       "    </tr>\n",
       "    <tr>\n",
       "      <th>191</th>\n",
       "      <td>89.651255</td>\n",
       "      <td>7.28</td>\n",
       "      <td>4.95</td>\n",
       "      <td>163411</td>\n",
       "      <td>157051</td>\n",
       "      <td>2948.264256</td>\n",
       "      <td>42.242959</td>\n",
       "      <td>POLYGON ((1619357.797 1923445.956, 1619344.502...</td>\n",
       "      <td>POLYGON ((1619445.248 1923345.231, 1619443.257...</td>\n",
       "    </tr>\n",
       "    <tr>\n",
       "      <th>191</th>\n",
       "      <td>93.208569</td>\n",
       "      <td>7.28</td>\n",
       "      <td>4.95</td>\n",
       "      <td>163411</td>\n",
       "      <td>159784</td>\n",
       "      <td>2948.264256</td>\n",
       "      <td>6.565565</td>\n",
       "      <td>POLYGON ((1619357.797 1923445.956, 1619344.502...</td>\n",
       "      <td>POLYGON ((1619442.911 1923341.729, 1619441.670...</td>\n",
       "    </tr>\n",
       "    <tr>\n",
       "      <th>191</th>\n",
       "      <td>121.374729</td>\n",
       "      <td>7.28</td>\n",
       "      <td>13.04</td>\n",
       "      <td>163411</td>\n",
       "      <td>140294</td>\n",
       "      <td>2948.264256</td>\n",
       "      <td>121.603499</td>\n",
       "      <td>POLYGON ((1619357.797 1923445.956, 1619344.502...</td>\n",
       "      <td>POLYGON ((1619458.879 1923517.532, 1619458.491...</td>\n",
       "    </tr>\n",
       "    <tr>\n",
       "      <th>191</th>\n",
       "      <td>172.370094</td>\n",
       "      <td>7.28</td>\n",
       "      <td>4.45</td>\n",
       "      <td>163411</td>\n",
       "      <td>137043</td>\n",
       "      <td>2948.264256</td>\n",
       "      <td>225.367914</td>\n",
       "      <td>POLYGON ((1619357.797 1923445.956, 1619344.502...</td>\n",
       "      <td>POLYGON ((1619230.693 1923364.655, 1619231.822...</td>\n",
       "    </tr>\n",
       "    <tr>\n",
       "      <th>191</th>\n",
       "      <td>127.062429</td>\n",
       "      <td>7.28</td>\n",
       "      <td>13.04</td>\n",
       "      <td>163411</td>\n",
       "      <td>134507</td>\n",
       "      <td>2948.264256</td>\n",
       "      <td>2776.591893</td>\n",
       "      <td>POLYGON ((1619357.797 1923445.956, 1619344.502...</td>\n",
       "      <td>POLYGON ((1619446.048 1923563.566, 1619447.984...</td>\n",
       "    </tr>\n",
       "  </tbody>\n",
       "</table>\n",
       "<p>9324 rows × 9 columns</p>\n",
       "</div>"
      ],
      "text/plain": [
       "     distance_to_neighbor  building_height_target  building_height_neighbor  \\\n",
       "0                0.000000                    2.66                      2.66   \n",
       "0               15.126073                    2.66                      2.66   \n",
       "1               15.126073                    2.66                      2.66   \n",
       "1                0.000000                    2.66                      2.66   \n",
       "2                0.000000                   25.41                     25.41   \n",
       "..                    ...                     ...                       ...   \n",
       "191             89.651255                    7.28                      4.95   \n",
       "191             93.208569                    7.28                      4.95   \n",
       "191            121.374729                    7.28                     13.04   \n",
       "191            172.370094                    7.28                      4.45   \n",
       "191            127.062429                    7.28                     13.04   \n",
       "\n",
       "     building_id_target  building_id_neighbor  building_area_target  \\\n",
       "0                132230                132230            320.512854   \n",
       "0                132230                132237            320.512854   \n",
       "1                132237                132230             34.959333   \n",
       "1                132237                132237             34.959333   \n",
       "2                132338                132338           8241.992817   \n",
       "..                  ...                   ...                   ...   \n",
       "191              163411                157051           2948.264256   \n",
       "191              163411                159784           2948.264256   \n",
       "191              163411                140294           2948.264256   \n",
       "191              163411                137043           2948.264256   \n",
       "191              163411                134507           2948.264256   \n",
       "\n",
       "     building_area_neighbor  \\\n",
       "0                320.512854   \n",
       "0                 34.959333   \n",
       "1                320.512854   \n",
       "1                 34.959333   \n",
       "2               8241.992817   \n",
       "..                      ...   \n",
       "191               42.242959   \n",
       "191                6.565565   \n",
       "191              121.603499   \n",
       "191              225.367914   \n",
       "191             2776.591893   \n",
       "\n",
       "                      building_polygon_geometry_target  \\\n",
       "0    POLYGON ((1618052.020 1922797.834, 1618051.749...   \n",
       "0    POLYGON ((1618052.020 1922797.834, 1618051.749...   \n",
       "1    POLYGON ((1618059.647 1922806.024, 1618058.415...   \n",
       "1    POLYGON ((1618059.647 1922806.024, 1618058.415...   \n",
       "2    POLYGON ((1620424.742 1923453.039, 1620423.981...   \n",
       "..                                                 ...   \n",
       "191  POLYGON ((1619357.797 1923445.956, 1619344.502...   \n",
       "191  POLYGON ((1619357.797 1923445.956, 1619344.502...   \n",
       "191  POLYGON ((1619357.797 1923445.956, 1619344.502...   \n",
       "191  POLYGON ((1619357.797 1923445.956, 1619344.502...   \n",
       "191  POLYGON ((1619357.797 1923445.956, 1619344.502...   \n",
       "\n",
       "                    building_polygon_geometry_neighbor  \n",
       "0    POLYGON ((1618052.020 1922797.834, 1618051.749...  \n",
       "0    POLYGON ((1618059.647 1922806.024, 1618058.415...  \n",
       "1    POLYGON ((1618052.020 1922797.834, 1618051.749...  \n",
       "1    POLYGON ((1618059.647 1922806.024, 1618058.415...  \n",
       "2    POLYGON ((1620424.742 1923453.039, 1620423.981...  \n",
       "..                                                 ...  \n",
       "191  POLYGON ((1619445.248 1923345.231, 1619443.257...  \n",
       "191  POLYGON ((1619442.911 1923341.729, 1619441.670...  \n",
       "191  POLYGON ((1619458.879 1923517.532, 1619458.491...  \n",
       "191  POLYGON ((1619230.693 1923364.655, 1619231.822...  \n",
       "191  POLYGON ((1619446.048 1923563.566, 1619447.984...  \n",
       "\n",
       "[9324 rows x 9 columns]"
      ]
     },
     "execution_count": 4,
     "metadata": {},
     "output_type": "execute_result"
    }
   ],
   "source": [
    "gxf.sort_values(by=\"building_id_target\")"
   ]
  },
  {
   "cell_type": "code",
   "execution_count": 14,
   "id": "d08ab942-1abc-4ffe-81c6-0112d4b2d2b1",
   "metadata": {},
   "outputs": [
    {
     "data": {
      "text/plain": [
       "<AxesSubplot:>"
      ]
     },
     "execution_count": 14,
     "metadata": {},
     "output_type": "execute_result"
    },
    {
     "data": {
      "image/png": "[encoded data removed]",
      "text/plain": [
       "<Figure size 432x288 with 1 Axes>"
      ]
     },
     "metadata": {
      "needs_background": "light"
     },
     "output_type": "display_data"
    }
   ],
   "source": [
    "gpd.GeoSeries(gxf.building_polygon_geometry_target.iloc[0:4], crs=gxf.target_crs.unique()[0]).buffer(10, cap_style=3).plot()"
   ]
  },
  {
   "cell_type": "code",
   "execution_count": 7,
   "id": "365d2d44-7065-428f-8abc-5633aad36447",
   "metadata": {},
   "outputs": [
    {
     "data": {
      "text/plain": [
       "<AxesSubplot:>"
      ]
     },
     "execution_count": 7,
     "metadata": {},
     "output_type": "execute_result"
    },
    {
     "data": {
      "image/png": "[encoded data removed]",
      "text/plain": [
       "<Figure size 432x288 with 1 Axes>"
      ]
     },
     "metadata": {
      "needs_background": "light"
     },
     "output_type": "display_data"
    }
   ],
   "source": [
    "gpd.GeoSeries(gxf.building_polygon_geometry.iloc[0:2], crs=gxf.target_crs.unique()[0]).plot()"
   ]
  },
  {
   "cell_type": "code",
   "execution_count": 8,
   "id": "0580ccbb-773d-418b-9705-577cb441737c",
   "metadata": {},
   "outputs": [
    {
     "data": {
      "text/plain": [
       "<AxesSubplot:>"
      ]
     },
     "execution_count": 8,
     "metadata": {},
     "output_type": "execute_result"
    },
    {
     "data": {
      "image/png": "[encoded data removed]",
      "text/plain": [
       "<Figure size 432x288 with 1 Axes>"
      ]
     },
     "metadata": {
      "needs_background": "light"
     },
     "output_type": "display_data"
    }
   ],
   "source": [
    "gpd.GeoSeries(gxf.building_centroid_buffered.iloc[0:2], crs=gxf.target_crs.unique()[0]).plot()"
   ]
  },
  {
   "cell_type": "code",
   "execution_count": null,
   "id": "240d79e0-27db-4c4d-85d9-3dbdcdcaf244",
   "metadata": {},
   "outputs": [],
   "source": []
  },
  {
   "cell_type": "code",
   "execution_count": null,
   "id": "138df7cc-ff72-4576-afd7-6ea40af2c18a",
   "metadata": {},
   "outputs": [],
   "source": []
  },
  {
   "cell_type": "code",
   "execution_count": null,
   "id": "e4228526-482b-4a9d-9081-f797129157d2",
   "metadata": {},
   "outputs": [],
   "source": []
  },
  {
   "cell_type": "code",
   "execution_count": null,
   "id": "edf36509-2625-43eb-8f97-caa87ad85551",
   "metadata": {},
   "outputs": [],
   "source": []
  },
  {
   "cell_type": "code",
   "execution_count": null,
   "id": "b1a75897-18f4-40a5-872f-5d6daf56c7ee",
   "metadata": {},
   "outputs": [],
   "source": []
  },
  {
   "cell_type": "code",
   "execution_count": null,
   "id": "7a1dca47-6f7e-4ec3-9305-3a9cb1d67752",
   "metadata": {},
   "outputs": [],
   "source": []
  },
  {
   "cell_type": "code",
   "execution_count": null,
   "id": "e25f804f-7d48-47ff-8bcd-5b246ab981cd",
   "metadata": {},
   "outputs": [],
   "source": []
  },
  {
   "cell_type": "markdown",
   "id": "c31cd260-de92-485a-aa49-079b987923d5",
   "metadata": {},
   "source": [
    "# Notes\n",
    "- When changing from using the area as calculated from the raster grids to using the raw geometry, the area is different\n",
    "\n"
   ]
  },
  {
   "cell_type": "markdown",
   "id": "e29946c1-2571-42df-a8af-b10d6e8a9683",
   "metadata": {},
   "source": [
    "# TODO\n",
    "- ignore the target building in the statistics\n",
    "- for building areas and heigts include the target\n",
    "- [**done**] for the 0 heights, exclude out 0 height or 0 area values (when reading in shapefile - do this as filter)\n",
    "- don't need the pickle files: do need binary file for WRF, index file for WRF, CSV for breakdown via params, TIFs for diagnostic evaluation so rasterize the polygon output\n",
    "- add new parameter :: skyview :: either 101 or 102\n"
   ]
  },
  {
   "cell_type": "markdown",
   "id": "ccf10d1e-4a81-4304-8022-49db81f7dda1",
   "metadata": {},
   "source": [
    "# Flat process"
   ]
  },
  {
   "cell_type": "code",
   "execution_count": 5,
   "id": "41fc51fa-1c2e-45c6-a1a8-0184f7338152",
   "metadata": {},
   "outputs": [],
   "source": [
    "data_dir = \"/Users/d3y010/projects/naturf/data\"\n",
    "\n",
    "\n",
    "input_shapefile = os.path.join(data_dir, \"inputs\", \"C-5.shp\")\n",
    "raster_dir = os.path.join(data_dir, \"outputs\")\n",
    "\n",
    "latitude_center = 38.9\n",
    "longitude_center = -77.0\n",
    "\n",
    "id_field = \"OBJECTID\"\n",
    "height_field = \"Max_HOUSE_\"\n",
    "area_field = \"area\"\n",
    "sequential_id_field = \"xid\"\n",
    "geometry_field = \"geometry\"\n",
    "\n",
    "raster_value = 127\n",
    "no_data_value = 255\n",
    "target_resolution = 0.5\n",
    "\n",
    "radius = 100\n",
    "\n",
    "raster_ids_file = os.path.join(data_dir, \"example_naturf_outputs_v2\", \"Chris_and_Emily_C-5\", \"Tifs\", \"Building_IDs.tif\")\n",
    "\n",
    "NORTHWEST_DEGREES = 135\n",
    "NORTHEAST_DEGREES = 45\n",
    "SOUTHWEST_DEGREES = 225\n",
    "SOUTHEAST_DEGREES = 315\n",
    "DEGREES_IN_CIRCLE = 360\n",
    "START_OF_CIRCLE_DEGREES = 0\n",
    "\n",
    "BUILDING_HEIGHT_INTERVAL = 5\n",
    "CONSTANT_NEG_04 = -0.4\n",
    "CONSTANT_0193 = 0.193\n",
    "CONSTANT_0303 = 0.303\n",
    "CONSTANT_359 = 3.59\n",
    "CONSTANT_15 = 15\n",
    "DEGREES_IN_CIRCLE = 360\n",
    "DILAREA_DEFAULT = 10000\n",
    "DISPLACEMENT_HEIGHT_FACTOR = 0.67\n",
    "MAX_BUILDING_HEIGHT = 75\n",
    "NORTHEAST_DEGREES = 45\n",
    "NORTHWEST_DEGREES = 135\n",
    "RADIUS = 100\n",
    "RDH_THRESHOLD_MAX = 3\n",
    "RDH_THRESHOLD_MIN = 0 \n",
    "ROUGHNESS_LENGTH_FACTOR = 0.1\n",
    "RRL_THRESHOLD_MAX = 3\n",
    "RRL_THRESHOLD_MIN = 0\n",
    "SMALL_DECIMAL = 0.0000000000000000000000000000001\n",
    "SOUTHEAST_DEGREES = 315\n",
    "SOUTHWEST_DEGREES = 225\n",
    "START_OF_CIRCLE_DEGREES = 0\n",
    "ZXCV_FACTOR = 3.5\n"
   ]
  },
  {
   "cell_type": "code",
   "execution_count": 6,
   "id": "4fb27d34-a498-4e9d-b191-0829cce3e238",
   "metadata": {},
   "outputs": [
    {
     "name": "stdout",
     "output_type": "stream",
     "text": [
      "CPU times: user 125 ms, sys: 6.45 ms, total: 131 ms\n",
      "Wall time: 131 ms\n"
     ]
    }
   ],
   "source": [
    "%%time\n",
    "\n",
    "# read in shapefile and only keep necessary fields\n",
    "gdf = gpd.read_file(input_shapefile)[[id_field, height_field, geometry_field]]\n",
    "\n",
    "# calculate the actual building area\n",
    "gdf[area_field] = gdf.geometry.area\n",
    "\n",
    "# filter out any 0 height or 0 area buildings and reindex the data frame\n",
    "gdf = gdf.loc[(gdf[height_field] > 0) & (gdf[area_field] > 0)].reset_index(drop=True)\n",
    "\n",
    "# create a field representing the centroid of the polygon\n",
    "gdf[\"centroid\"] = gdf.geometry.centroid\n",
    "\n",
    "# create a field with the buffered building\n",
    "gdf[\"buffered\"] = gdf.geometry.centroid.buffer(distance=radius, cap_style=3)\n",
    "\n",
    "# conduct a spatial join to get the building centroids that intersect the buffered target buildings\n",
    "gdf = gpd.sjoin(left_df=gpd.GeoDataFrame(gdf[[id_field, height_field, area_field, geometry_field, \"centroid\", \"buffered\"]], crs=gdf.crs, geometry=\"buffered\"), \n",
    "                right_df=gpd.GeoDataFrame(gdf[[id_field, height_field, area_field, \"centroid\"]], crs=gdf.crs, geometry=\"centroid\"), \n",
    "                how=\"left\", \n",
    "                predicate='intersects',\n",
    "                lsuffix=\"target\",\n",
    "                rsuffix=\"neighbors\")\n",
    "\n",
    "# reset the geometry field as the original building geometry\n",
    "gdf.set_geometry(\"geometry\", inplace=True, crs=gdf.crs)\n",
    "\n",
    "# modified field name variables after merge\n",
    "target_height_field = f\"{height_field}_target\"\n",
    "neighbor_height_field = f\"{height_field}_neighbors\"\n",
    "target_id_field = f\"{id_field}_target\"\n",
    "neighbor_id_field = f\"{id_field}_neighbors\"\n",
    "target_area_field = f\"{area_field}_target\"\n",
    "neighbor_area_field = f\"{area_field}_neighbors\"\n",
    "\n",
    "# generate the building centroid of each neighbor building\n",
    "gdf[\"neighbor_centroid\"] = gpd.GeoSeries(gdf[neighbor_id_field].map(gdf.groupby(target_id_field)[\"centroid\"].first()), crs=gdf.crs)\n",
    "\n",
    "# calculate the distance from the target building neighbor to each neighbor building centroid\n",
    "gdf[\"distance\"] = gdf.geometry.centroid.distance(gdf[\"neighbor_centroid\"])\n",
    "\n",
    "# calculate the angle in degrees of the neighbor building orientation to the target\n",
    "gdf[\"angle_in_degrees\"] = np.degrees(np.arctan2(gdf[\"neighbor_centroid\"].y - gdf[\"centroid\"].y, gdf[\"neighbor_centroid\"].x - gdf[\"centroid\"].x))\n",
    "\n",
    "# adjust the angle to correspond to a circle where 0/360 degrees is directly east, and the degrees increase counter-clockwise\n",
    "gdf[\"angle_in_degrees\"] = np.where(gdf[\"angle_in_degrees\"] < 0, \n",
    "                                   gdf[\"angle_in_degrees\"] + DEGREES_IN_CIRCLE, \n",
    "                                   gdf[\"angle_in_degrees\"])\n",
    "\n",
    "# identify east-west orientation\n",
    "gdf[\"direction\"] = np.where((((SOUTHEAST_DEGREES <= gdf[\"angle_in_degrees\"]) & (gdf[\"angle_in_degrees\"] <= DEGREES_IN_CIRCLE)) \n",
    "                            | ((START_OF_CIRCLE_DEGREES <= gdf[\"angle_in_degrees\"]) & (gdf[\"angle_in_degrees\"] < NORTHEAST_DEGREES)))\n",
    "                            | ((NORTHWEST_DEGREES <= gdf[\"angle_in_degrees\"]) & (gdf[\"angle_in_degrees\"] < SOUTHWEST_DEGREES)),\n",
    "                           \"east_west\",\n",
    "                           \"\")\n",
    "\n",
    "# identify north-south orientation\n",
    "gdf[\"direction\"] = np.where(((NORTHEAST_DEGREES <= gdf[\"angle_in_degrees\"]) & (gdf[\"angle_in_degrees\"] < NORTHWEST_DEGREES))\n",
    "                            | ((SOUTHWEST_DEGREES <= gdf[\"angle_in_degrees\"]) & (gdf[\"angle_in_degrees\"] < SOUTHEAST_DEGREES)),\n",
    "                           \"north_south\",\n",
    "                           gdf[\"direction\"])\n",
    "\n",
    "# calculate the area of all buildings within the plan area\n",
    "plan_area_dict = gdf.groupby(target_id_field)[neighbor_area_field].sum().to_dict()\n",
    "\n",
    "# building height\n",
    "building_height_dict = gdf.groupby(target_id_field)[target_height_field].max().to_dict()\n",
    "\n",
    "# add the height and plan_area to a dictonary where the key is the target building ID\n",
    "footprint_building_areas = {i: [building_height_dict[i], plan_area_dict[i]] for i in plan_area_dict.keys()}\n",
    "\n",
    "# average building heights for each target building when considering themselves and those that are within their buffered area\n",
    "average_building_heights = gdf.groupby(target_id_field)[neighbor_height_field].mean().fillna(0).tolist()\n",
    "\n",
    "# standard deviation for building heights for each target building when considering themselves and those that are within their buffered area\n",
    "standard_deviation_building_heights = gdf.groupby(target_id_field)[neighbor_height_field].std().fillna(0).tolist()\n",
    "\n",
    "# calculate the average directional distances for each target building to its neighbors\n",
    "average_direction_distance = gdf.groupby([target_id_field, \"direction\"])[\"distance\"].mean().reset_index()\n",
    "\n",
    "# exclude the target building to target building distance and direction (would be == 0)\n",
    "average_direction_distance = average_direction_distance.loc[average_direction_distance[\"distance\"] > 0]\n",
    "\n",
    "# TODO:  ensure that there is a distance recorded for both east-west and north-south measurements\n",
    "\n",
    "# initialize dictionaries with 0 for each target building\n",
    "average_north_south_building_distances = {i: 0 for i in np.sort(gdf[target_id_field].unique())}\n",
    "average_east_west_building_distances = average_north_south_building_distances.copy()\n",
    "\n",
    "# update dictionaries where values exists\n",
    "average_north_south_building_distances.update(average_direction_distance.loc[average_direction_distance[\"direction\"] == \"north_south\"][[target_id_field, \"distance\"]].set_index(target_id_field).to_dict()[\"distance\"])\n",
    "average_east_west_building_distances.update(average_direction_distance.loc[average_direction_distance[\"direction\"] == \"east_west\"][[target_id_field, \"distance\"]].set_index(target_id_field).to_dict()[\"distance\"])\n",
    "\n",
    "# calculate the building area * height for each neighbor building\n",
    "gdf[\"neighbor_volume\"] = gdf[neighbor_area_field] * gdf[neighbor_height_field]\n",
    "\n",
    "# calculate the area weighted building heights and replace any inf and nan with 0 (these come from 0 areas where height is 0)\n",
    "area_weighted_average_building_heights = ((gdf.groupby(target_id_field)[\"neighbor_volume\"].sum()) / \n",
    "                                          (gdf.groupby(target_id_field)[neighbor_area_field].sum())\n",
    "                                         ).replace([np.inf, -np.inf], 0).fillna(0).to_list()\n",
    "\n",
    "# average of all of the building surface areas in the shapefile\n",
    "average_building_area = gdf.groupby(target_id_field)[target_area_field].max().mean()\n",
    "\n",
    "gdf.loc[gdf[target_id_field] == 132230]\n",
    "\n"
   ]
  },
  {
   "cell_type": "code",
   "execution_count": 7,
   "id": "3a85edc4-3c41-4f08-8257-3a74dd7ab27a",
   "metadata": {},
   "outputs": [
    {
     "data": {
      "text/plain": [
       "(9368, 10)"
      ]
     },
     "execution_count": 7,
     "metadata": {},
     "output_type": "execute_result"
    }
   ],
   "source": [
    "gdf.shape"
   ]
  },
  {
   "cell_type": "code",
   "execution_count": 9,
   "id": "59e9b628-88f3-447e-9fbd-c58d2e0ab1a7",
   "metadata": {},
   "outputs": [
    {
     "data": {
      "text/html": [
       "<div>\n",
       "<style scoped>\n",
       "    .dataframe tbody tr th:only-of-type {\n",
       "        vertical-align: middle;\n",
       "    }\n",
       "\n",
       "    .dataframe tbody tr th {\n",
       "        vertical-align: top;\n",
       "    }\n",
       "\n",
       "    .dataframe thead th {\n",
       "        text-align: right;\n",
       "    }\n",
       "</style>\n",
       "<table border=\"1\" class=\"dataframe\">\n",
       "  <thead>\n",
       "    <tr style=\"text-align: right;\">\n",
       "      <th></th>\n",
       "      <th>OBJECTID_target</th>\n",
       "      <th>Max_HOUSE__target</th>\n",
       "      <th>area_target</th>\n",
       "      <th>geometry</th>\n",
       "      <th>centroid</th>\n",
       "      <th>buffered</th>\n",
       "      <th>index_neighbors</th>\n",
       "      <th>OBJECTID_neighbors</th>\n",
       "      <th>Max_HOUSE__neighbors</th>\n",
       "      <th>area_neighbors</th>\n",
       "    </tr>\n",
       "  </thead>\n",
       "  <tbody>\n",
       "    <tr>\n",
       "      <th>0</th>\n",
       "      <td>132230</td>\n",
       "      <td>2.66</td>\n",
       "      <td>320.512854</td>\n",
       "      <td>POLYGON ((1618052.020 1922797.834, 1618051.749...</td>\n",
       "      <td>POINT (1618056.329 1922788.642)</td>\n",
       "      <td>POLYGON ((1618156.329 1922888.642, 1618156.329...</td>\n",
       "      <td>0</td>\n",
       "      <td>132230</td>\n",
       "      <td>2.66</td>\n",
       "      <td>320.512854</td>\n",
       "    </tr>\n",
       "    <tr>\n",
       "      <th>0</th>\n",
       "      <td>132230</td>\n",
       "      <td>2.66</td>\n",
       "      <td>320.512854</td>\n",
       "      <td>POLYGON ((1618052.020 1922797.834, 1618051.749...</td>\n",
       "      <td>POINT (1618056.329 1922788.642)</td>\n",
       "      <td>POLYGON ((1618156.329 1922888.642, 1618156.329...</td>\n",
       "      <td>1</td>\n",
       "      <td>132237</td>\n",
       "      <td>2.66</td>\n",
       "      <td>34.959333</td>\n",
       "    </tr>\n",
       "    <tr>\n",
       "      <th>1</th>\n",
       "      <td>132237</td>\n",
       "      <td>2.66</td>\n",
       "      <td>34.959333</td>\n",
       "      <td>POLYGON ((1618059.647 1922806.024, 1618058.415...</td>\n",
       "      <td>POINT (1618056.162 1922803.767)</td>\n",
       "      <td>POLYGON ((1618156.162 1922903.767, 1618156.162...</td>\n",
       "      <td>0</td>\n",
       "      <td>132230</td>\n",
       "      <td>2.66</td>\n",
       "      <td>320.512854</td>\n",
       "    </tr>\n",
       "    <tr>\n",
       "      <th>1</th>\n",
       "      <td>132237</td>\n",
       "      <td>2.66</td>\n",
       "      <td>34.959333</td>\n",
       "      <td>POLYGON ((1618059.647 1922806.024, 1618058.415...</td>\n",
       "      <td>POINT (1618056.162 1922803.767)</td>\n",
       "      <td>POLYGON ((1618156.162 1922903.767, 1618156.162...</td>\n",
       "      <td>1</td>\n",
       "      <td>132237</td>\n",
       "      <td>2.66</td>\n",
       "      <td>34.959333</td>\n",
       "    </tr>\n",
       "    <tr>\n",
       "      <th>2</th>\n",
       "      <td>132338</td>\n",
       "      <td>25.41</td>\n",
       "      <td>8241.992817</td>\n",
       "      <td>POLYGON ((1620424.742 1923453.039, 1620423.981...</td>\n",
       "      <td>POINT (1620397.530 1923516.071)</td>\n",
       "      <td>POLYGON ((1620497.530 1923616.071, 1620497.530...</td>\n",
       "      <td>2</td>\n",
       "      <td>132338</td>\n",
       "      <td>25.41</td>\n",
       "      <td>8241.992817</td>\n",
       "    </tr>\n",
       "    <tr>\n",
       "      <th>...</th>\n",
       "      <td>...</td>\n",
       "      <td>...</td>\n",
       "      <td>...</td>\n",
       "      <td>...</td>\n",
       "      <td>...</td>\n",
       "      <td>...</td>\n",
       "      <td>...</td>\n",
       "      <td>...</td>\n",
       "      <td>...</td>\n",
       "      <td>...</td>\n",
       "    </tr>\n",
       "    <tr>\n",
       "      <th>191</th>\n",
       "      <td>163411</td>\n",
       "      <td>7.28</td>\n",
       "      <td>2948.264256</td>\n",
       "      <td>POLYGON ((1619357.797 1923445.956, 1619344.502...</td>\n",
       "      <td>POINT (1619390.113 1923419.337)</td>\n",
       "      <td>POLYGON ((1619490.113 1923519.337, 1619490.113...</td>\n",
       "      <td>17</td>\n",
       "      <td>134777</td>\n",
       "      <td>4.95</td>\n",
       "      <td>1533.406866</td>\n",
       "    </tr>\n",
       "    <tr>\n",
       "      <th>191</th>\n",
       "      <td>163411</td>\n",
       "      <td>7.28</td>\n",
       "      <td>2948.264256</td>\n",
       "      <td>POLYGON ((1619357.797 1923445.956, 1619344.502...</td>\n",
       "      <td>POINT (1619390.113 1923419.337)</td>\n",
       "      <td>POLYGON ((1619490.113 1923519.337, 1619490.113...</td>\n",
       "      <td>48</td>\n",
       "      <td>139162</td>\n",
       "      <td>7.43</td>\n",
       "      <td>138.198447</td>\n",
       "    </tr>\n",
       "    <tr>\n",
       "      <th>191</th>\n",
       "      <td>163411</td>\n",
       "      <td>7.28</td>\n",
       "      <td>2948.264256</td>\n",
       "      <td>POLYGON ((1619357.797 1923445.956, 1619344.502...</td>\n",
       "      <td>POINT (1619390.113 1923419.337)</td>\n",
       "      <td>POLYGON ((1619490.113 1923519.337, 1619490.113...</td>\n",
       "      <td>168</td>\n",
       "      <td>156500</td>\n",
       "      <td>2.60</td>\n",
       "      <td>46.412548</td>\n",
       "    </tr>\n",
       "    <tr>\n",
       "      <th>191</th>\n",
       "      <td>163411</td>\n",
       "      <td>7.28</td>\n",
       "      <td>2948.264256</td>\n",
       "      <td>POLYGON ((1619357.797 1923445.956, 1619344.502...</td>\n",
       "      <td>POINT (1619390.113 1923419.337)</td>\n",
       "      <td>POLYGON ((1619490.113 1923519.337, 1619490.113...</td>\n",
       "      <td>96</td>\n",
       "      <td>151264</td>\n",
       "      <td>9.21</td>\n",
       "      <td>72.015843</td>\n",
       "    </tr>\n",
       "    <tr>\n",
       "      <th>191</th>\n",
       "      <td>163411</td>\n",
       "      <td>7.28</td>\n",
       "      <td>2948.264256</td>\n",
       "      <td>POLYGON ((1619357.797 1923445.956, 1619344.502...</td>\n",
       "      <td>POINT (1619390.113 1923419.337)</td>\n",
       "      <td>POLYGON ((1619490.113 1923519.337, 1619490.113...</td>\n",
       "      <td>191</td>\n",
       "      <td>163411</td>\n",
       "      <td>7.28</td>\n",
       "      <td>2948.264256</td>\n",
       "    </tr>\n",
       "  </tbody>\n",
       "</table>\n",
       "<p>9368 rows × 10 columns</p>\n",
       "</div>"
      ],
      "text/plain": [
       "     OBJECTID_target  Max_HOUSE__target  area_target  \\\n",
       "0             132230               2.66   320.512854   \n",
       "0             132230               2.66   320.512854   \n",
       "1             132237               2.66    34.959333   \n",
       "1             132237               2.66    34.959333   \n",
       "2             132338              25.41  8241.992817   \n",
       "..               ...                ...          ...   \n",
       "191           163411               7.28  2948.264256   \n",
       "191           163411               7.28  2948.264256   \n",
       "191           163411               7.28  2948.264256   \n",
       "191           163411               7.28  2948.264256   \n",
       "191           163411               7.28  2948.264256   \n",
       "\n",
       "                                              geometry  \\\n",
       "0    POLYGON ((1618052.020 1922797.834, 1618051.749...   \n",
       "0    POLYGON ((1618052.020 1922797.834, 1618051.749...   \n",
       "1    POLYGON ((1618059.647 1922806.024, 1618058.415...   \n",
       "1    POLYGON ((1618059.647 1922806.024, 1618058.415...   \n",
       "2    POLYGON ((1620424.742 1923453.039, 1620423.981...   \n",
       "..                                                 ...   \n",
       "191  POLYGON ((1619357.797 1923445.956, 1619344.502...   \n",
       "191  POLYGON ((1619357.797 1923445.956, 1619344.502...   \n",
       "191  POLYGON ((1619357.797 1923445.956, 1619344.502...   \n",
       "191  POLYGON ((1619357.797 1923445.956, 1619344.502...   \n",
       "191  POLYGON ((1619357.797 1923445.956, 1619344.502...   \n",
       "\n",
       "                            centroid  \\\n",
       "0    POINT (1618056.329 1922788.642)   \n",
       "0    POINT (1618056.329 1922788.642)   \n",
       "1    POINT (1618056.162 1922803.767)   \n",
       "1    POINT (1618056.162 1922803.767)   \n",
       "2    POINT (1620397.530 1923516.071)   \n",
       "..                               ...   \n",
       "191  POINT (1619390.113 1923419.337)   \n",
       "191  POINT (1619390.113 1923419.337)   \n",
       "191  POINT (1619390.113 1923419.337)   \n",
       "191  POINT (1619390.113 1923419.337)   \n",
       "191  POINT (1619390.113 1923419.337)   \n",
       "\n",
       "                                              buffered  index_neighbors  \\\n",
       "0    POLYGON ((1618156.329 1922888.642, 1618156.329...                0   \n",
       "0    POLYGON ((1618156.329 1922888.642, 1618156.329...                1   \n",
       "1    POLYGON ((1618156.162 1922903.767, 1618156.162...                0   \n",
       "1    POLYGON ((1618156.162 1922903.767, 1618156.162...                1   \n",
       "2    POLYGON ((1620497.530 1923616.071, 1620497.530...                2   \n",
       "..                                                 ...              ...   \n",
       "191  POLYGON ((1619490.113 1923519.337, 1619490.113...               17   \n",
       "191  POLYGON ((1619490.113 1923519.337, 1619490.113...               48   \n",
       "191  POLYGON ((1619490.113 1923519.337, 1619490.113...              168   \n",
       "191  POLYGON ((1619490.113 1923519.337, 1619490.113...               96   \n",
       "191  POLYGON ((1619490.113 1923519.337, 1619490.113...              191   \n",
       "\n",
       "     OBJECTID_neighbors  Max_HOUSE__neighbors  area_neighbors  \n",
       "0                132230                  2.66      320.512854  \n",
       "0                132237                  2.66       34.959333  \n",
       "1                132230                  2.66      320.512854  \n",
       "1                132237                  2.66       34.959333  \n",
       "2                132338                 25.41     8241.992817  \n",
       "..                  ...                   ...             ...  \n",
       "191              134777                  4.95     1533.406866  \n",
       "191              139162                  7.43      138.198447  \n",
       "191              156500                  2.60       46.412548  \n",
       "191              151264                  9.21       72.015843  \n",
       "191              163411                  7.28     2948.264256  \n",
       "\n",
       "[9368 rows x 10 columns]"
      ]
     },
     "execution_count": 9,
     "metadata": {},
     "output_type": "execute_result"
    }
   ],
   "source": [
    "gdf.sort_values(by=\"OBJECTID_target\")"
   ]
  },
  {
   "cell_type": "code",
   "execution_count": null,
   "id": "caf306d0-1a0c-40f7-8671-af42deed9f94",
   "metadata": {},
   "outputs": [],
   "source": []
  },
  {
   "cell_type": "code",
   "execution_count": null,
   "id": "c96c2ff2-d0c4-40e7-bab1-761e799cb475",
   "metadata": {},
   "outputs": [],
   "source": []
  },
  {
   "cell_type": "code",
   "execution_count": null,
   "id": "d0004cf8-cdba-4ab6-8751-68174cd04af3",
   "metadata": {},
   "outputs": [],
   "source": []
  },
  {
   "cell_type": "code",
   "execution_count": null,
   "id": "b20407e9-bb22-4d29-8e43-7ce18be052f3",
   "metadata": {},
   "outputs": [],
   "source": []
  },
  {
   "cell_type": "markdown",
   "id": "6b7ad354-bad2-4171-95a1-7f460475c2c7",
   "metadata": {},
   "source": [
    "### Explore the input data"
   ]
  },
  {
   "cell_type": "code",
   "execution_count": 2,
   "id": "e615d9c9-4158-4deb-b09e-2342c2a7f65d",
   "metadata": {},
   "outputs": [],
   "source": [
    "data_dir = \"/Users/d3y010/projects/naturf/data\"\n",
    "\n",
    "input_shapefile = os.path.join(data_dir, \"inputs\", \"C-5.shp\")\n"
   ]
  },
  {
   "cell_type": "code",
   "execution_count": 4,
   "id": "2f6dbf21-c045-48ad-8365-c6a10f5b8f67",
   "metadata": {},
   "outputs": [],
   "source": [
    "# read in shapefile and take a look\n",
    "gdf = gpd.read_file(input_shapefile)\n"
   ]
  },
  {
   "cell_type": "code",
   "execution_count": 5,
   "id": "714c5ff7-5299-41fb-961b-83398c318bf0",
   "metadata": {},
   "outputs": [
    {
     "data": {
      "text/html": [
       "<div>\n",
       "<style scoped>\n",
       "    .dataframe tbody tr th:only-of-type {\n",
       "        vertical-align: middle;\n",
       "    }\n",
       "\n",
       "    .dataframe tbody tr th {\n",
       "        vertical-align: top;\n",
       "    }\n",
       "\n",
       "    .dataframe thead th {\n",
       "        text-align: right;\n",
       "    }\n",
       "</style>\n",
       "<table border=\"1\" class=\"dataframe\">\n",
       "  <thead>\n",
       "    <tr style=\"text-align: right;\">\n",
       "      <th></th>\n",
       "      <th>Join_Count</th>\n",
       "      <th>TARGET_FID</th>\n",
       "      <th>FID_1</th>\n",
       "      <th>OBJECTID</th>\n",
       "      <th>GIS_ID</th>\n",
       "      <th>FEATURECOD</th>\n",
       "      <th>DESCRIPTIO</th>\n",
       "      <th>CAPTUREYEA</th>\n",
       "      <th>CAPTUREACT</th>\n",
       "      <th>SHAPE_Leng</th>\n",
       "      <th>...</th>\n",
       "      <th>Col</th>\n",
       "      <th>Row</th>\n",
       "      <th>Let_To_Num</th>\n",
       "      <th>First_Inde</th>\n",
       "      <th>Second_Ind</th>\n",
       "      <th>First_In_1</th>\n",
       "      <th>Second_I_1</th>\n",
       "      <th>Shape_Le_1</th>\n",
       "      <th>Shape_Area</th>\n",
       "      <th>geometry</th>\n",
       "    </tr>\n",
       "  </thead>\n",
       "  <tbody>\n",
       "    <tr>\n",
       "      <th>0</th>\n",
       "      <td>1</td>\n",
       "      <td>132147</td>\n",
       "      <td>132146</td>\n",
       "      <td>132147</td>\n",
       "      <td>None</td>\n",
       "      <td>BUILDING</td>\n",
       "      <td>Building</td>\n",
       "      <td>2015-04-24T00:00:00.000Z</td>\n",
       "      <td>Existing</td>\n",
       "      <td>12.991845</td>\n",
       "      <td>...</td>\n",
       "      <td>C</td>\n",
       "      <td>5.0</td>\n",
       "      <td>3.0</td>\n",
       "      <td>65.0</td>\n",
       "      <td>96.0</td>\n",
       "      <td>65.0</td>\n",
       "      <td>96.0</td>\n",
       "      <td>13.001421</td>\n",
       "      <td>10.433831</td>\n",
       "      <td>POLYGON ((1618111.652 1922706.443, 1618109.381...</td>\n",
       "    </tr>\n",
       "    <tr>\n",
       "      <th>1</th>\n",
       "      <td>1</td>\n",
       "      <td>132186</td>\n",
       "      <td>132185</td>\n",
       "      <td>132186</td>\n",
       "      <td>None</td>\n",
       "      <td>BUILDING</td>\n",
       "      <td>Building</td>\n",
       "      <td>2015-04-24T00:00:00.000Z</td>\n",
       "      <td>Existing</td>\n",
       "      <td>25.555249</td>\n",
       "      <td>...</td>\n",
       "      <td>C</td>\n",
       "      <td>5.0</td>\n",
       "      <td>3.0</td>\n",
       "      <td>65.0</td>\n",
       "      <td>96.0</td>\n",
       "      <td>65.0</td>\n",
       "      <td>96.0</td>\n",
       "      <td>25.553881</td>\n",
       "      <td>37.983140</td>\n",
       "      <td>POLYGON ((1618092.351 1922752.255, 1618088.410...</td>\n",
       "    </tr>\n",
       "    <tr>\n",
       "      <th>2</th>\n",
       "      <td>1</td>\n",
       "      <td>132230</td>\n",
       "      <td>132229</td>\n",
       "      <td>132230</td>\n",
       "      <td>None</td>\n",
       "      <td>BUILDING</td>\n",
       "      <td>Building</td>\n",
       "      <td>2017-03-09T00:00:00.000Z</td>\n",
       "      <td>Update</td>\n",
       "      <td>88.360518</td>\n",
       "      <td>...</td>\n",
       "      <td>C</td>\n",
       "      <td>5.0</td>\n",
       "      <td>3.0</td>\n",
       "      <td>65.0</td>\n",
       "      <td>96.0</td>\n",
       "      <td>65.0</td>\n",
       "      <td>96.0</td>\n",
       "      <td>88.376402</td>\n",
       "      <td>320.512854</td>\n",
       "      <td>POLYGON ((1618052.020 1922797.834, 1618051.749...</td>\n",
       "    </tr>\n",
       "  </tbody>\n",
       "</table>\n",
       "<p>3 rows × 37 columns</p>\n",
       "</div>"
      ],
      "text/plain": [
       "   Join_Count  TARGET_FID   FID_1  OBJECTID GIS_ID FEATURECOD DESCRIPTIO  \\\n",
       "0           1      132147  132146    132147   None   BUILDING   Building   \n",
       "1           1      132186  132185    132186   None   BUILDING   Building   \n",
       "2           1      132230  132229    132230   None   BUILDING   Building   \n",
       "\n",
       "                 CAPTUREYEA CAPTUREACT  SHAPE_Leng  ...  Col  Row  Let_To_Num  \\\n",
       "0  2015-04-24T00:00:00.000Z   Existing   12.991845  ...    C  5.0         3.0   \n",
       "1  2015-04-24T00:00:00.000Z   Existing   25.555249  ...    C  5.0         3.0   \n",
       "2  2017-03-09T00:00:00.000Z     Update   88.360518  ...    C  5.0         3.0   \n",
       "\n",
       "   First_Inde Second_Ind  First_In_1  Second_I_1  Shape_Le_1  Shape_Area  \\\n",
       "0        65.0       96.0        65.0        96.0   13.001421   10.433831   \n",
       "1        65.0       96.0        65.0        96.0   25.553881   37.983140   \n",
       "2        65.0       96.0        65.0        96.0   88.376402  320.512854   \n",
       "\n",
       "                                            geometry  \n",
       "0  POLYGON ((1618111.652 1922706.443, 1618109.381...  \n",
       "1  POLYGON ((1618092.351 1922752.255, 1618088.410...  \n",
       "2  POLYGON ((1618052.020 1922797.834, 1618051.749...  \n",
       "\n",
       "[3 rows x 37 columns]"
      ]
     },
     "execution_count": 5,
     "metadata": {},
     "output_type": "execute_result"
    }
   ],
   "source": [
    "gdf.head(3)"
   ]
  },
  {
   "cell_type": "code",
   "execution_count": 5,
   "id": "4f2db000-a28b-4328-b24a-6ccefade14f8",
   "metadata": {},
   "outputs": [
    {
     "data": {
      "text/plain": [
       "<AxesSubplot:>"
      ]
     },
     "execution_count": 5,
     "metadata": {},
     "output_type": "execute_result"
    },
    {
     "data": {
      "image/png": "[encoded data removed]",
      "text/plain": [
       "<Figure size 432x288 with 1 Axes>"
      ]
     },
     "metadata": {
      "needs_background": "light"
     },
     "output_type": "display_data"
    }
   ],
   "source": [
    "# plot one of the polygons\n",
    "gdf.loc[gdf[\"TARGET_FID\"] == 132147].plot()\n"
   ]
  },
  {
   "cell_type": "code",
   "execution_count": 12,
   "id": "d82b193c-a15b-41a9-b567-15763034ed37",
   "metadata": {},
   "outputs": [
    {
     "data": {
      "text/plain": [
       "<Derived Projected CRS: EPSG:5070>\n",
       "Name: NAD83 / Conus Albers\n",
       "Axis Info [cartesian]:\n",
       "- X[east]: Easting (metre)\n",
       "- Y[north]: Northing (metre)\n",
       "Area of Use:\n",
       "- name: United States (USA) - CONUS onshore - Alabama; Arizona; Arkansas; California; Colorado; Connecticut; Delaware; Florida; Georgia; Idaho; Illinois; Indiana; Iowa; Kansas; Kentucky; Louisiana; Maine; Maryland; Massachusetts; Michigan; Minnesota; Mississippi; Missouri; Montana; Nebraska; Nevada; New Hampshire; New Jersey; New Mexico; New York; North Carolina; North Dakota; Ohio; Oklahoma; Oregon; Pennsylvania; Rhode Island; South Carolina; South Dakota; Tennessee; Texas; Utah; Vermont; Virginia; Washington; West Virginia; Wisconsin; Wyoming.\n",
       "- bounds: (-124.79, 24.41, -66.91, 49.38)\n",
       "Coordinate Operation:\n",
       "- name: Conus Albers\n",
       "- method: Albers Equal Area\n",
       "Datum: North American Datum 1983\n",
       "- Ellipsoid: GRS 1980\n",
       "- Prime Meridian: Greenwich"
      ]
     },
     "execution_count": 12,
     "metadata": {},
     "output_type": "execute_result"
    }
   ],
   "source": [
    "# take a look at the coordinate reference system\n",
    "gdf.crs\n"
   ]
  },
  {
   "cell_type": "code",
   "execution_count": 14,
   "id": "fee6fbc0-4a9d-4a21-b9bb-4af550e517b3",
   "metadata": {},
   "outputs": [
    {
     "data": {
      "text/plain": [
       "<AxesSubplot:>"
      ]
     },
     "execution_count": 14,
     "metadata": {},
     "output_type": "execute_result"
    },
    {
     "data": {
      "image/png": "[encoded data removed]",
      "text/plain": [
       "<Figure size 864x576 with 1 Axes>"
      ]
     },
     "metadata": {
      "needs_background": "light"
     },
     "output_type": "display_data"
    }
   ],
   "source": [
    "fig, ax = plt.subplots(figsize=(12, 8))\n",
    "\n",
    "gdf.plot(ax=ax)\n"
   ]
  },
  {
   "cell_type": "markdown",
   "id": "9f08fc7d-e418-410a-9336-7a8a3a6b5496",
   "metadata": {},
   "source": [
    "## Original code"
   ]
  },
  {
   "cell_type": "code",
   "execution_count": 1,
   "id": "6fd4c600-89cb-4d2c-a5d7-1ff0ec5966c6",
   "metadata": {},
   "outputs": [],
   "source": [
    "import os\n",
    "\n",
    "import numpy as np\n",
    "from rasterio.plot import show\n",
    "from osgeo import gdal, ogr, osr\n",
    "from skimage.draw import polygon\n",
    "\n"
   ]
  },
  {
   "cell_type": "code",
   "execution_count": 2,
   "id": "b9401db4-58f7-4a7e-ba21-79fb5deee642",
   "metadata": {},
   "outputs": [],
   "source": [
    "data_dir = \"/Users/d3y010/projects/naturf/data\"\n",
    "\n",
    "input_shapefile = os.path.join(data_dir, \"inputs\", \"C-5.shp\")\n",
    "raster_dir = os.path.join(data_dir, \"outputs\")\n",
    "latitude_center = 38.9\n",
    "longitude_center = -77.0\n",
    "id_field = \"OBJECTID\"\n",
    "height_field = \"Max_HOUSE_\"\n"
   ]
  },
  {
   "cell_type": "code",
   "execution_count": 3,
   "id": "2c06afc6-a8a0-4b6b-bdfc-8a8077663774",
   "metadata": {},
   "outputs": [],
   "source": [
    "driver = ogr.GetDriverByName('ESRI Shapefile')\n"
   ]
  },
  {
   "cell_type": "code",
   "execution_count": 4,
   "id": "03ac483b-45b6-48a6-b102-4d150cda8745",
   "metadata": {},
   "outputs": [],
   "source": [
    "datasource2 = driver.Open(input_shapefile, 0)\n"
   ]
  },
  {
   "cell_type": "code",
   "execution_count": 5,
   "id": "d72e5517-ad60-46a5-b5ab-0195984e6ab1",
   "metadata": {},
   "outputs": [],
   "source": [
    "gdal.AllRegister()\n"
   ]
  },
  {
   "cell_type": "code",
   "execution_count": 6,
   "id": "b63985b8-5f91-40de-aece-c8521e736363",
   "metadata": {},
   "outputs": [],
   "source": [
    "layer2 = datasource2.GetLayer()\n"
   ]
  },
  {
   "cell_type": "code",
   "execution_count": 7,
   "id": "806ed48e-d3fc-42ad-bedc-369b344c35e9",
   "metadata": {},
   "outputs": [
    {
     "data": {
      "text/plain": [
       "(1617992.0141000003, 1620526.423200001, 1921653.0683999993, 1924009.7564999992)"
      ]
     },
     "execution_count": 7,
     "metadata": {},
     "output_type": "execute_result"
    }
   ],
   "source": [
    "extent2 = layer2.GetExtent()\n",
    "\n",
    "extent2\n"
   ]
  },
  {
   "cell_type": "code",
   "execution_count": 8,
   "id": "3dfd7aef-f622-4bb0-8e97-9e00471e83f0",
   "metadata": {},
   "outputs": [
    {
     "data": {
      "text/plain": [
       "(1617992.0141000003, 1924009.7564999992)"
      ]
     },
     "execution_count": 8,
     "metadata": {},
     "output_type": "execute_result"
    }
   ],
   "source": [
    "xOrigin = extent2[0]\n",
    "yOrigin = extent2[3]\n",
    "\n",
    "xOrigin, yOrigin\n"
   ]
  },
  {
   "cell_type": "code",
   "execution_count": 9,
   "id": "d99cbdf0-2fe6-4c33-9af3-71826baeb086",
   "metadata": {},
   "outputs": [
    {
     "data": {
      "text/plain": [
       "(4814, 5170)"
      ]
     },
     "execution_count": 9,
     "metadata": {},
     "output_type": "execute_result"
    }
   ],
   "source": [
    "PIXEL_SIZE = 0.5\n",
    "\n",
    "IMAGE_SIZE_X = int((2 * np.ceil(extent2[3]-extent2[2])) + 100)\n",
    "IMAGE_SIZE_Y = int((2 * np.ceil(extent2[1]-extent2[0])) + 100)\n",
    "\n",
    "pixelWidth = PIXEL_SIZE\n",
    "pixelHeight = -PIXEL_SIZE\n",
    "\n",
    "IMAGE_SIZE_X, IMAGE_SIZE_Y\n"
   ]
  },
  {
   "cell_type": "code",
   "execution_count": 10,
   "id": "22d8f7c6-0567-4709-963a-4cc844bddb00",
   "metadata": {},
   "outputs": [
    {
     "data": {
      "text/plain": [
       "(0, 0)"
      ]
     },
     "execution_count": 10,
     "metadata": {},
     "output_type": "execute_result"
    }
   ],
   "source": [
    "start_x = int(xOrigin)\n",
    "start_y = np.ceil(yOrigin)\n",
    "\n",
    "start_x_p = int((start_x - xOrigin) / pixelWidth)\n",
    "start_y_p = int((start_y - yOrigin) / pixelHeight)\n",
    "\n",
    "start_x_p, start_y_p\n"
   ]
  },
  {
   "cell_type": "code",
   "execution_count": 11,
   "id": "89f81b4f-a550-4b54-83f0-0d5b210045ec",
   "metadata": {},
   "outputs": [],
   "source": [
    "driver_out = gdal.GetDriverByName('GTiff')\n"
   ]
  },
  {
   "cell_type": "markdown",
   "id": "c634d0cc-fd2a-41cd-bb37-47de161f6c97",
   "metadata": {},
   "source": [
    "#### NOTE: potential error in passing Y size into xsize argument position"
   ]
  },
  {
   "cell_type": "code",
   "execution_count": 12,
   "id": "755b16cb-49ff-4aa8-9950-09c84deca2a4",
   "metadata": {},
   "outputs": [
    {
     "name": "stdout",
     "output_type": "stream",
     "text": [
      "Help on method Create in module osgeo.gdal:\n",
      "\n",
      "Create(*args, **kwargs) method of osgeo.gdal.Driver instance\n",
      "    Create(Driver self, char const * utf8_path, int xsize, int ysize, int bands=1, GDALDataType eType=GDT_Byte, \n",
      "        char ** options=None) -> Dataset\n",
      "\n"
     ]
    }
   ],
   "source": [
    "help(driver_out.Create)"
   ]
  },
  {
   "cell_type": "markdown",
   "id": "24a6f94c-de19-4ca1-b4c9-7d0ad3185fe3",
   "metadata": {},
   "source": [
    "Alternate possibility:\n",
    "\n",
    "```python\n",
    "imgOut = driver_out.Create(utf8_path=os.path.join(raster_dir, 'Buildings_Raster.tif'), \n",
    "                           ysize=IMAGE_SIZE_Y, \n",
    "                           xsize=IMAGE_SIZE_X, \n",
    "                           bands=1, \n",
    "                           eType=gdal.GDT_Int32)\n",
    "```"
   ]
  },
  {
   "cell_type": "code",
   "execution_count": 13,
   "id": "35b5f1de-cbe0-42fd-8105-1a9348a87073",
   "metadata": {},
   "outputs": [],
   "source": [
    "imgOut = driver_out.Create(os.path.join(raster_dir, 'Buildings_Raster.tif'), \n",
    "                           IMAGE_SIZE_Y, \n",
    "                           IMAGE_SIZE_X, \n",
    "                           1, \n",
    "                           gdal.GDT_Int32)\n"
   ]
  },
  {
   "cell_type": "code",
   "execution_count": 14,
   "id": "a4b5a543-38f7-49bb-98a6-11ef16103065",
   "metadata": {},
   "outputs": [
    {
     "data": {
      "text/plain": [
       "0"
      ]
     },
     "execution_count": 14,
     "metadata": {},
     "output_type": "execute_result"
    }
   ],
   "source": [
    "proj = osr.SpatialReference()\n",
    "proj.SetWellKnownGeogCS(\"NAD1983\")\n",
    "proj.SetACEA(29.5, 45.5, latitude_center, longitude_center, 0, 0)\n"
   ]
  },
  {
   "cell_type": "code",
   "execution_count": 15,
   "id": "2b688bb3-703e-439e-86ab-6500512111f4",
   "metadata": {},
   "outputs": [],
   "source": [
    "bandOut1 = imgOut.GetRasterBand(1)\n",
    "\n",
    "data1 = np.empty((IMAGE_SIZE_X, IMAGE_SIZE_Y), dtype=np.uint8)\n",
    "data1.fill(255)\n",
    "\n",
    "ids = np.empty((IMAGE_SIZE_X, IMAGE_SIZE_Y), dtype=np.uint16)\n",
    "ids.fill(255)\n",
    "\n",
    "buils = np.empty((IMAGE_SIZE_X, IMAGE_SIZE_Y), dtype=np.uint16)\n",
    "buils.fill(255)\n",
    "\n",
    "tempxyz = np.empty((IMAGE_SIZE_X, IMAGE_SIZE_Y), dtype=np.float64)\n",
    "\n",
    "distarr = np.empty((IMAGE_SIZE_X, IMAGE_SIZE_Y), dtype=np.float64)\n",
    "distarr.fill(0)\n"
   ]
  },
  {
   "cell_type": "markdown",
   "id": "02c78345-da52-4a9d-8b00-7c99c0bc67e4",
   "metadata": {},
   "source": [
    "#### ------------ BEGIN Option 1:  run full loop ------------\n"
   ]
  },
  {
   "cell_type": "code",
   "execution_count": 16,
   "id": "5435f2a7-3cf3-48bd-8b7e-3cb81159fc7f",
   "metadata": {},
   "outputs": [],
   "source": [
    "# loop through the buildings\n",
    "feature_buil = layer2.GetNextFeature()\n",
    "\n",
    "while feature_buil:\n",
    "    \n",
    "    geomb = feature_buil.GetGeometryRef()\n",
    "    ring = geomb.GetGeometryRef(0)\n",
    "    numpoints = ring.GetPointCount()\n",
    "    \n",
    "    if numpoints != 0:\n",
    "    \n",
    "        nx, ny, _ = ring.GetPoint(0)\n",
    "\n",
    "        xOffset = int((nx - xOrigin) / pixelWidth)\n",
    "        yOffset = int((ny - yOrigin) / pixelHeight)\n",
    "\n",
    "        parrx = [[xOffset]]\n",
    "        parry = [[yOffset]]\n",
    "\n",
    "        for i in range(1, numpoints):\n",
    "\n",
    "            bpt = ring.GetPoint(i)\n",
    "\n",
    "            xoff = int((bpt[0] - xOrigin) / pixelWidth)\n",
    "            yoff = int((bpt[1] - yOrigin) / pixelHeight)\n",
    "\n",
    "            parrx.append([xoff])\n",
    "            parry.append([yoff])\n",
    "\n",
    "        parrx[:] = [x[0] - start_x_p for x in parrx]\n",
    "        parry[:] = [y[0] - start_y_p for y in parry]\n",
    "\n",
    "        parrx = np.array(parrx)\n",
    "        parry = np.array(parry)\n",
    "\n",
    "        rr, cc = polygon(parrx, parry, [IMAGE_SIZE_Y, IMAGE_SIZE_X])\n",
    "\n",
    "        buils[cc, rr] = 127\n",
    "\n",
    "    feature_buil.Destroy()\n",
    "    feature_buil = layer2.GetNextFeature()\n"
   ]
  },
  {
   "cell_type": "markdown",
   "id": "e23f63f5-4615-4f66-bc04-933006b5577f",
   "metadata": {},
   "source": [
    "#### ------------ END Option 1:  run full loop ------------\n"
   ]
  },
  {
   "cell_type": "code",
   "execution_count": null,
   "id": "b3e6d6bb-9be4-419f-806c-992933a0157a",
   "metadata": {},
   "outputs": [],
   "source": []
  },
  {
   "cell_type": "markdown",
   "id": "c6a29dae-4d31-458c-9a6b-46d83b6cce91",
   "metadata": {},
   "source": [
    "#### ------------ BEGIN Option 2: break loop into parts to evaluate ------------"
   ]
  },
  {
   "cell_type": "code",
   "execution_count": null,
   "id": "4d954215-65f3-4d58-89dd-82af70605678",
   "metadata": {},
   "outputs": [],
   "source": [
    "# loop through the buildings\n",
    "feature_buil = layer2.GetNextFeature()"
   ]
  },
  {
   "cell_type": "markdown",
   "id": "304e9dbf-ff0b-41fe-9c23-bf2066dce008",
   "metadata": {},
   "source": [
    "#### [0] START LOOP"
   ]
  },
  {
   "cell_type": "code",
   "execution_count": 31,
   "id": "119446cf-3bb6-401a-92a3-62100fc9b9e8",
   "metadata": {},
   "outputs": [],
   "source": [
    "geomb = feature_buil.GetGeometryRef()\n",
    "ring = geomb.GetGeometryRef(0)\n",
    "numpoints = ring.GetPointCount()\n"
   ]
  },
  {
   "cell_type": "code",
   "execution_count": 32,
   "id": "7f86e517-76a4-423a-afd6-5ae88875a4bd",
   "metadata": {},
   "outputs": [
    {
     "data": {
      "text/plain": [
       "<osgeo.ogr.Geometry; proxy of <Swig Object of type 'OGRGeometryShadow *' at 0x1166a4390> >"
      ]
     },
     "execution_count": 32,
     "metadata": {},
     "output_type": "execute_result"
    }
   ],
   "source": [
    "ring"
   ]
  },
  {
   "cell_type": "code",
   "execution_count": 33,
   "id": "956365b8-94ae-41b5-b66d-1adc20fdeb02",
   "metadata": {},
   "outputs": [
    {
     "data": {
      "text/plain": [
       "9"
      ]
     },
     "execution_count": 33,
     "metadata": {},
     "output_type": "execute_result"
    }
   ],
   "source": [
    "numpoints"
   ]
  },
  {
   "cell_type": "code",
   "execution_count": 34,
   "id": "461d4a82-c84e-4af1-b5ca-bd3962bcbe30",
   "metadata": {},
   "outputs": [
    {
     "data": {
      "text/plain": [
       "(1618111.6521999985, 1922706.4426000006, 0.0)"
      ]
     },
     "execution_count": 34,
     "metadata": {},
     "output_type": "execute_result"
    }
   ],
   "source": [
    "nx, ny, _ = ring.GetPoint(0)\n",
    "\n",
    "nx, ny, _"
   ]
  },
  {
   "cell_type": "code",
   "execution_count": 35,
   "id": "b6c9984c-4873-4d1f-b708-92c73a68a1f7",
   "metadata": {},
   "outputs": [
    {
     "data": {
      "text/plain": [
       "(239, 2606)"
      ]
     },
     "execution_count": 35,
     "metadata": {},
     "output_type": "execute_result"
    }
   ],
   "source": [
    "xOffset = int((nx - xOrigin) / pixelWidth)\n",
    "yOffset = int((ny - yOrigin) / pixelHeight)\n",
    "\n",
    "xOffset, yOffset\n"
   ]
  },
  {
   "cell_type": "code",
   "execution_count": 37,
   "id": "7a153061-bc96-4d6b-a938-7519a92b683a",
   "metadata": {},
   "outputs": [
    {
     "data": {
      "text/plain": [
       "([[239]], [[2606]])"
      ]
     },
     "execution_count": 37,
     "metadata": {},
     "output_type": "execute_result"
    }
   ],
   "source": [
    "parrx = [[xOffset]]\n",
    "parry = [[yOffset]]\n",
    "\n",
    "parrx, parry\n"
   ]
  },
  {
   "cell_type": "code",
   "execution_count": 38,
   "id": "36a05bca-e2cb-4593-aea6-1092ea65e478",
   "metadata": {},
   "outputs": [
    {
     "name": "stdout",
     "output_type": "stream",
     "text": [
      "(1618109.3806000017, 1922704.6578000002, 0.0)\n",
      "(1618108.8795999996, 1922705.3160999995, 0.0)\n",
      "(1618107.362399999, 1922707.3079000004, 0.0)\n",
      "(1618107.1928000003, 1922707.5310999993, 0.0)\n",
      "(1618109.4642000012, 1922709.3165000007, 0.0)\n",
      "(1618109.5769000016, 1922709.1688, 0.0)\n",
      "(1618111.2226999998, 1922707.0072000008, 0.0)\n",
      "(1618111.6521999985, 1922706.4426000006, 0.0)\n"
     ]
    },
    {
     "data": {
      "text/plain": [
       "([[239], [234], [233], [230], [230], [234], [235], [238], [239]],\n",
       " [[2606], [2610], [2608], [2604], [2604], [2600], [2601], [2605], [2606]])"
      ]
     },
     "execution_count": 38,
     "metadata": {},
     "output_type": "execute_result"
    }
   ],
   "source": [
    "for i in range(1, numpoints):\n",
    "    \n",
    "    bpt = ring.GetPoint(i)\n",
    "    \n",
    "    print(bpt)\n",
    "\n",
    "    xoff = int((bpt[0] - xOrigin) / pixelWidth)\n",
    "    yoff = int((bpt[1] - yOrigin) / pixelHeight)\n",
    "\n",
    "    parrx.append([xoff])\n",
    "    parry.append([yoff])\n",
    "\n",
    "parrx, parry\n"
   ]
  },
  {
   "cell_type": "code",
   "execution_count": 39,
   "id": "70894eb9-d8af-41bf-aa5a-ea32a8d81303",
   "metadata": {},
   "outputs": [
    {
     "data": {
      "text/plain": [
       "([239, 234, 233, 230, 230, 234, 235, 238, 239],\n",
       " [2606, 2610, 2608, 2604, 2604, 2600, 2601, 2605, 2606])"
      ]
     },
     "execution_count": 39,
     "metadata": {},
     "output_type": "execute_result"
    }
   ],
   "source": [
    "parrx[:] = [x[0] - start_x_p for x in parrx]\n",
    "parry[:] = [y[0] - start_y_p for y in parry]\n",
    "\n",
    "parrx, parry\n"
   ]
  },
  {
   "cell_type": "code",
   "execution_count": 43,
   "id": "3bb9bf0c-f732-48d7-bf75-a13da25b7730",
   "metadata": {},
   "outputs": [
    {
     "data": {
      "text/plain": [
       "array([[255, 255, 255, ..., 255, 255, 255],\n",
       "       [255, 255, 255, ..., 255, 255, 255],\n",
       "       [255, 255, 255, ..., 255, 255, 255],\n",
       "       ...,\n",
       "       [255, 255, 255, ..., 255, 255, 255],\n",
       "       [255, 255, 255, ..., 255, 255, 255],\n",
       "       [255, 255, 255, ..., 255, 255, 255]], dtype=uint16)"
      ]
     },
     "execution_count": 43,
     "metadata": {},
     "output_type": "execute_result"
    }
   ],
   "source": [
    "parrx = np.array(parrx)\n",
    "parry = np.array(parry)\n",
    "\n",
    "rr, cc = polygon(parrx, parry, [IMAGE_SIZE_Y, IMAGE_SIZE_X])\n",
    "\n",
    "buils[cc, rr] = 127\n",
    "\n",
    "buils\n"
   ]
  },
  {
   "cell_type": "code",
   "execution_count": 44,
   "id": "b1a659af-7714-4fd2-bce4-a899e37a86dd",
   "metadata": {},
   "outputs": [
    {
     "data": {
      "text/plain": [
       "(4814, 5170)"
      ]
     },
     "execution_count": 44,
     "metadata": {},
     "output_type": "execute_result"
    }
   ],
   "source": [
    "buils.shape"
   ]
  },
  {
   "cell_type": "code",
   "execution_count": 46,
   "id": "1a915bfe-7d7c-4eb8-8132-62562d0e2664",
   "metadata": {},
   "outputs": [],
   "source": [
    "feature_buil.Destroy()\n",
    "feature_buil = layer2.GetNextFeature()\n"
   ]
  },
  {
   "cell_type": "markdown",
   "id": "f0553422-645c-4e89-bb98-79396fc553c9",
   "metadata": {},
   "source": [
    "#### [0] END LOOP"
   ]
  },
  {
   "cell_type": "markdown",
   "id": "4b9db878-7d9b-4aeb-85f8-166cf4d129f9",
   "metadata": {},
   "source": [
    "#### ------------ END Option 2: break loop into parts to evaluate ------------"
   ]
  },
  {
   "cell_type": "code",
   "execution_count": null,
   "id": "cde989ee-9665-4fcd-8ee0-7b6b0af93d74",
   "metadata": {},
   "outputs": [],
   "source": []
  },
  {
   "cell_type": "code",
   "execution_count": 17,
   "id": "b0d54e8b-3ac8-41fe-b43b-540e3196a518",
   "metadata": {},
   "outputs": [],
   "source": [
    "data1 = np.where(buils != 127, data1, 127)\n"
   ]
  },
  {
   "cell_type": "code",
   "execution_count": 18,
   "id": "e39caad9-c220-447b-b7b4-daf129e58518",
   "metadata": {},
   "outputs": [
    {
     "data": {
      "image/png": "[encoded data removed]",
      "text/plain": [
       "<Figure size 432x288 with 1 Axes>"
      ]
     },
     "metadata": {
      "needs_background": "light"
     },
     "output_type": "display_data"
    },
    {
     "data": {
      "text/plain": [
       "<AxesSubplot:>"
      ]
     },
     "execution_count": 18,
     "metadata": {},
     "output_type": "execute_result"
    }
   ],
   "source": [
    "show(data1)"
   ]
  },
  {
   "cell_type": "code",
   "execution_count": 19,
   "id": "6b43d567-dd1d-4d7c-81e7-cbc6af8070f6",
   "metadata": {},
   "outputs": [],
   "source": [
    "bandOut1.WriteArray(data1, 0, 0)\n",
    "\n",
    "imgOut.SetGeoTransform((start_x, pixelWidth, 0, start_y, 0, pixelHeight))\n",
    "\n",
    "imgOut.SetProjection(proj.ExportToWkt())\n",
    "\n",
    "del imgOut\n"
   ]
  },
  {
   "cell_type": "markdown",
   "id": "50cd87e2-e250-47c6-9fd2-cfa4e7471d50",
   "metadata": {},
   "source": [
    "## Implementation process"
   ]
  },
  {
   "cell_type": "code",
   "execution_count": 3,
   "id": "8cdc4680-ab43-4060-800d-aa46ccfd5cb9",
   "metadata": {},
   "outputs": [],
   "source": [
    "import os\n",
    "\n",
    "import numpy as np\n",
    "import pandas as pd\n",
    "import rasterio\n",
    "import geopandas as gpd\n",
    "from geocube.api.core import make_geocube\n",
    "\n",
    "import matplotlib.pyplot as plt\n"
   ]
  },
  {
   "cell_type": "code",
   "execution_count": 4,
   "id": "39aa0848-56c8-4201-b076-8c97ca0a4e8c",
   "metadata": {},
   "outputs": [],
   "source": [
    "data_dir = \"/Users/d3y010/projects/naturf/data\"\n",
    "\n",
    "input_shapefile = os.path.join(data_dir, \"inputs\", \"C-5.shp\")\n",
    "raster_dir = os.path.join(data_dir, \"outputs\")\n",
    "latitude_center = 38.9\n",
    "longitude_center = -77.0\n",
    "id_field = \"OBJECTID\"\n",
    "height_field = \"Max_HOUSE_\"\n",
    "\n",
    "raster_value = 127\n",
    "no_data_value = 255\n",
    "target_resolution = 0.5\n"
   ]
  },
  {
   "cell_type": "code",
   "execution_count": 5,
   "id": "13d0d327-b08c-40aa-a065-7b5cfbcee324",
   "metadata": {},
   "outputs": [],
   "source": [
    "# read in shapefile as a geodataframe\n",
    "gdf = gpd.read_file(input_shapefile)\n"
   ]
  },
  {
   "cell_type": "code",
   "execution_count": 6,
   "id": "af73c65c-d701-41ab-bc9d-6e9ef46c473b",
   "metadata": {},
   "outputs": [],
   "source": [
    "# add in field for raster value\n",
    "gdf[\"raster_value\"] = raster_value\n"
   ]
  },
  {
   "cell_type": "markdown",
   "id": "e461fdcf-b092-4539-a0b4-10c204d878b6",
   "metadata": {},
   "source": [
    "See docs for the `make_geocube` function here:  https://corteva.github.io/geocube/stable/geocube.html?highlight=make_geocube#make-geocube"
   ]
  },
  {
   "cell_type": "code",
   "execution_count": 7,
   "id": "fc1e0bf9-068c-469e-aecb-d355896fb524",
   "metadata": {},
   "outputs": [],
   "source": [
    "cube = make_geocube(vector_data=gdf, \n",
    "                    measurements=[\"raster_value\"], \n",
    "                    resolution=(target_resolution, -target_resolution),\n",
    "                    fill=no_data_value)\n"
   ]
  },
  {
   "cell_type": "code",
   "execution_count": 8,
   "id": "ff37ea61-3ac6-426f-a6e1-944898c77d83",
   "metadata": {},
   "outputs": [
    {
     "data": {
      "text/plain": [
       "<matplotlib.collections.QuadMesh at 0x1346bd070>"
      ]
     },
     "execution_count": 8,
     "metadata": {},
     "output_type": "execute_result"
    },
    {
     "data": {
      "image/png": "[encoded data removed]",
      "text/plain": [
       "<Figure size 432x288 with 2 Axes>"
      ]
     },
     "metadata": {
      "needs_background": "light"
     },
     "output_type": "display_data"
    }
   ],
   "source": [
    "cube.raster_value.plot()"
   ]
  },
  {
   "cell_type": "code",
   "execution_count": 9,
   "id": "7a65a92b-57e9-4f6c-9149-200ba8c1e28a",
   "metadata": {},
   "outputs": [],
   "source": [
    "output_raster = os.path.join(raster_dir, f\"buildings_{os.path.splitext(os.path.basename(input_shapefile))[0]}.tif\")\n",
    "\n",
    "cube.raster_value.rio.to_raster(output_raster)\n",
    "                             "
   ]
  },
  {
   "cell_type": "code",
   "execution_count": 10,
   "id": "8746c48c-e76d-481c-a47a-36caefee4062",
   "metadata": {},
   "outputs": [
    {
     "data": {
      "text/html": [
       "<div><svg style=\"position: absolute; width: 0; height: 0; overflow: hidden\">\n",
       "<defs>\n",
       "<symbol id=\"icon-database\" viewBox=\"0 0 32 32\">\n",
       "<path d=\"M16 0c-8.837 0-16 2.239-16 5v4c0 2.761 7.163 5 16 5s16-2.239 16-5v-4c0-2.761-7.163-5-16-5z\"></path>\n",
       "<path d=\"M16 17c-8.837 0-16-2.239-16-5v6c0 2.761 7.163 5 16 5s16-2.239 16-5v-6c0 2.761-7.163 5-16 5z\"></path>\n",
       "<path d=\"M16 26c-8.837 0-16-2.239-16-5v6c0 2.761 7.163 5 16 5s16-2.239 16-5v-6c0 2.761-7.163 5-16 5z\"></path>\n",
       "</symbol>\n",
       "<symbol id=\"icon-file-text2\" viewBox=\"0 0 32 32\">\n",
       "<path d=\"M28.681 7.159c-0.694-0.947-1.662-2.053-2.724-3.116s-2.169-2.030-3.116-2.724c-1.612-1.182-2.393-1.319-2.841-1.319h-15.5c-1.378 0-2.5 1.121-2.5 2.5v27c0 1.378 1.122 2.5 2.5 2.5h23c1.378 0 2.5-1.122 2.5-2.5v-19.5c0-0.448-0.137-1.23-1.319-2.841zM24.543 5.457c0.959 0.959 1.712 1.825 2.268 2.543h-4.811v-4.811c0.718 0.556 1.584 1.309 2.543 2.268zM28 29.5c0 0.271-0.229 0.5-0.5 0.5h-23c-0.271 0-0.5-0.229-0.5-0.5v-27c0-0.271 0.229-0.5 0.5-0.5 0 0 15.499-0 15.5 0v7c0 0.552 0.448 1 1 1h7v19.5z\"></path>\n",
       "<path d=\"M23 26h-14c-0.552 0-1-0.448-1-1s0.448-1 1-1h14c0.552 0 1 0.448 1 1s-0.448 1-1 1z\"></path>\n",
       "<path d=\"M23 22h-14c-0.552 0-1-0.448-1-1s0.448-1 1-1h14c0.552 0 1 0.448 1 1s-0.448 1-1 1z\"></path>\n",
       "<path d=\"M23 18h-14c-0.552 0-1-0.448-1-1s0.448-1 1-1h14c0.552 0 1 0.448 1 1s-0.448 1-1 1z\"></path>\n",
       "</symbol>\n",
       "</defs>\n",
       "</svg>\n",
       "<style>/* CSS stylesheet for displaying xarray objects in jupyterlab.\n",
       " *\n",
       " */\n",
       "\n",
       ":root {\n",
       "  --xr-font-color0: var(--jp-content-font-color0, rgba(0, 0, 0, 1));\n",
       "  --xr-font-color2: var(--jp-content-font-color2, rgba(0, 0, 0, 0.54));\n",
       "  --xr-font-color3: var(--jp-content-font-color3, rgba(0, 0, 0, 0.38));\n",
       "  --xr-border-color: var(--jp-border-color2, #e0e0e0);\n",
       "  --xr-disabled-color: var(--jp-layout-color3, #bdbdbd);\n",
       "  --xr-background-color: var(--jp-layout-color0, white);\n",
       "  --xr-background-color-row-even: var(--jp-layout-color1, white);\n",
       "  --xr-background-color-row-odd: var(--jp-layout-color2, #eeeeee);\n",
       "}\n",
       "\n",
       "html[theme=dark],\n",
       "body.vscode-dark {\n",
       "  --xr-font-color0: rgba(255, 255, 255, 1);\n",
       "  --xr-font-color2: rgba(255, 255, 255, 0.54);\n",
       "  --xr-font-color3: rgba(255, 255, 255, 0.38);\n",
       "  --xr-border-color: #1F1F1F;\n",
       "  --xr-disabled-color: #515151;\n",
       "  --xr-background-color: #111111;\n",
       "  --xr-background-color-row-even: #111111;\n",
       "  --xr-background-color-row-odd: #313131;\n",
       "}\n",
       "\n",
       ".xr-wrap {\n",
       "  display: block !important;\n",
       "  min-width: 300px;\n",
       "  max-width: 700px;\n",
       "}\n",
       "\n",
       ".xr-text-repr-fallback {\n",
       "  /* fallback to plain text repr when CSS is not injected (untrusted notebook) */\n",
       "  display: none;\n",
       "}\n",
       "\n",
       ".xr-header {\n",
       "  padding-top: 6px;\n",
       "  padding-bottom: 6px;\n",
       "  margin-bottom: 4px;\n",
       "  border-bottom: solid 1px var(--xr-border-color);\n",
       "}\n",
       "\n",
       ".xr-header > div,\n",
       ".xr-header > ul {\n",
       "  display: inline;\n",
       "  margin-top: 0;\n",
       "  margin-bottom: 0;\n",
       "}\n",
       "\n",
       ".xr-obj-type,\n",
       ".xr-array-name {\n",
       "  margin-left: 2px;\n",
       "  margin-right: 10px;\n",
       "}\n",
       "\n",
       ".xr-obj-type {\n",
       "  color: var(--xr-font-color2);\n",
       "}\n",
       "\n",
       ".xr-sections {\n",
       "  padding-left: 0 !important;\n",
       "  display: grid;\n",
       "  grid-template-columns: 150px auto auto 1fr 20px 20px;\n",
       "}\n",
       "\n",
       ".xr-section-item {\n",
       "  display: contents;\n",
       "}\n",
       "\n",
       ".xr-section-item input {\n",
       "  display: none;\n",
       "}\n",
       "\n",
       ".xr-section-item input + label {\n",
       "  color: var(--xr-disabled-color);\n",
       "}\n",
       "\n",
       ".xr-section-item input:enabled + label {\n",
       "  cursor: pointer;\n",
       "  color: var(--xr-font-color2);\n",
       "}\n",
       "\n",
       ".xr-section-item input:enabled + label:hover {\n",
       "  color: var(--xr-font-color0);\n",
       "}\n",
       "\n",
       ".xr-section-summary {\n",
       "  grid-column: 1;\n",
       "  color: var(--xr-font-color2);\n",
       "  font-weight: 500;\n",
       "}\n",
       "\n",
       ".xr-section-summary > span {\n",
       "  display: inline-block;\n",
       "  padding-left: 0.5em;\n",
       "}\n",
       "\n",
       ".xr-section-summary-in:disabled + label {\n",
       "  color: var(--xr-font-color2);\n",
       "}\n",
       "\n",
       ".xr-section-summary-in + label:before {\n",
       "  display: inline-block;\n",
       "  content: '►';\n",
       "  font-size: 11px;\n",
       "  width: 15px;\n",
       "  text-align: center;\n",
       "}\n",
       "\n",
       ".xr-section-summary-in:disabled + label:before {\n",
       "  color: var(--xr-disabled-color);\n",
       "}\n",
       "\n",
       ".xr-section-summary-in:checked + label:before {\n",
       "  content: '▼';\n",
       "}\n",
       "\n",
       ".xr-section-summary-in:checked + label > span {\n",
       "  display: none;\n",
       "}\n",
       "\n",
       ".xr-section-summary,\n",
       ".xr-section-inline-details {\n",
       "  padding-top: 4px;\n",
       "  padding-bottom: 4px;\n",
       "}\n",
       "\n",
       ".xr-section-inline-details {\n",
       "  grid-column: 2 / -1;\n",
       "}\n",
       "\n",
       ".xr-section-details {\n",
       "  display: none;\n",
       "  grid-column: 1 / -1;\n",
       "  margin-bottom: 5px;\n",
       "}\n",
       "\n",
       ".xr-section-summary-in:checked ~ .xr-section-details {\n",
       "  display: contents;\n",
       "}\n",
       "\n",
       ".xr-array-wrap {\n",
       "  grid-column: 1 / -1;\n",
       "  display: grid;\n",
       "  grid-template-columns: 20px auto;\n",
       "}\n",
       "\n",
       ".xr-array-wrap > label {\n",
       "  grid-column: 1;\n",
       "  vertical-align: top;\n",
       "}\n",
       "\n",
       ".xr-preview {\n",
       "  color: var(--xr-font-color3);\n",
       "}\n",
       "\n",
       ".xr-array-preview,\n",
       ".xr-array-data {\n",
       "  padding: 0 5px !important;\n",
       "  grid-column: 2;\n",
       "}\n",
       "\n",
       ".xr-array-data,\n",
       ".xr-array-in:checked ~ .xr-array-preview {\n",
       "  display: none;\n",
       "}\n",
       "\n",
       ".xr-array-in:checked ~ .xr-array-data,\n",
       ".xr-array-preview {\n",
       "  display: inline-block;\n",
       "}\n",
       "\n",
       ".xr-dim-list {\n",
       "  display: inline-block !important;\n",
       "  list-style: none;\n",
       "  padding: 0 !important;\n",
       "  margin: 0;\n",
       "}\n",
       "\n",
       ".xr-dim-list li {\n",
       "  display: inline-block;\n",
       "  padding: 0;\n",
       "  margin: 0;\n",
       "}\n",
       "\n",
       ".xr-dim-list:before {\n",
       "  content: '(';\n",
       "}\n",
       "\n",
       ".xr-dim-list:after {\n",
       "  content: ')';\n",
       "}\n",
       "\n",
       ".xr-dim-list li:not(:last-child):after {\n",
       "  content: ',';\n",
       "  padding-right: 5px;\n",
       "}\n",
       "\n",
       ".xr-has-index {\n",
       "  font-weight: bold;\n",
       "}\n",
       "\n",
       ".xr-var-list,\n",
       ".xr-var-item {\n",
       "  display: contents;\n",
       "}\n",
       "\n",
       ".xr-var-item > div,\n",
       ".xr-var-item label,\n",
       ".xr-var-item > .xr-var-name span {\n",
       "  background-color: var(--xr-background-color-row-even);\n",
       "  margin-bottom: 0;\n",
       "}\n",
       "\n",
       ".xr-var-item > .xr-var-name:hover span {\n",
       "  padding-right: 5px;\n",
       "}\n",
       "\n",
       ".xr-var-list > li:nth-child(odd) > div,\n",
       ".xr-var-list > li:nth-child(odd) > label,\n",
       ".xr-var-list > li:nth-child(odd) > .xr-var-name span {\n",
       "  background-color: var(--xr-background-color-row-odd);\n",
       "}\n",
       "\n",
       ".xr-var-name {\n",
       "  grid-column: 1;\n",
       "}\n",
       "\n",
       ".xr-var-dims {\n",
       "  grid-column: 2;\n",
       "}\n",
       "\n",
       ".xr-var-dtype {\n",
       "  grid-column: 3;\n",
       "  text-align: right;\n",
       "  color: var(--xr-font-color2);\n",
       "}\n",
       "\n",
       ".xr-var-preview {\n",
       "  grid-column: 4;\n",
       "}\n",
       "\n",
       ".xr-var-name,\n",
       ".xr-var-dims,\n",
       ".xr-var-dtype,\n",
       ".xr-preview,\n",
       ".xr-attrs dt {\n",
       "  white-space: nowrap;\n",
       "  overflow: hidden;\n",
       "  text-overflow: ellipsis;\n",
       "  padding-right: 10px;\n",
       "}\n",
       "\n",
       ".xr-var-name:hover,\n",
       ".xr-var-dims:hover,\n",
       ".xr-var-dtype:hover,\n",
       ".xr-attrs dt:hover {\n",
       "  overflow: visible;\n",
       "  width: auto;\n",
       "  z-index: 1;\n",
       "}\n",
       "\n",
       ".xr-var-attrs,\n",
       ".xr-var-data {\n",
       "  display: none;\n",
       "  background-color: var(--xr-background-color) !important;\n",
       "  padding-bottom: 5px !important;\n",
       "}\n",
       "\n",
       ".xr-var-attrs-in:checked ~ .xr-var-attrs,\n",
       ".xr-var-data-in:checked ~ .xr-var-data {\n",
       "  display: block;\n",
       "}\n",
       "\n",
       ".xr-var-data > table {\n",
       "  float: right;\n",
       "}\n",
       "\n",
       ".xr-var-name span,\n",
       ".xr-var-data,\n",
       ".xr-attrs {\n",
       "  padding-left: 25px !important;\n",
       "}\n",
       "\n",
       ".xr-attrs,\n",
       ".xr-var-attrs,\n",
       ".xr-var-data {\n",
       "  grid-column: 1 / -1;\n",
       "}\n",
       "\n",
       "dl.xr-attrs {\n",
       "  padding: 0;\n",
       "  margin: 0;\n",
       "  display: grid;\n",
       "  grid-template-columns: 125px auto;\n",
       "}\n",
       "\n",
       ".xr-attrs dt,\n",
       ".xr-attrs dd {\n",
       "  padding: 0;\n",
       "  margin: 0;\n",
       "  float: left;\n",
       "  padding-right: 10px;\n",
       "  width: auto;\n",
       "}\n",
       "\n",
       ".xr-attrs dt {\n",
       "  font-weight: normal;\n",
       "  grid-column: 1;\n",
       "}\n",
       "\n",
       ".xr-attrs dt:hover span {\n",
       "  display: inline-block;\n",
       "  background: var(--xr-background-color);\n",
       "  padding-right: 10px;\n",
       "}\n",
       "\n",
       ".xr-attrs dd {\n",
       "  grid-column: 2;\n",
       "  white-space: pre-wrap;\n",
       "  word-break: break-all;\n",
       "}\n",
       "\n",
       ".xr-icon-database,\n",
       ".xr-icon-file-text2 {\n",
       "  display: inline-block;\n",
       "  vertical-align: middle;\n",
       "  width: 1em;\n",
       "  height: 1.5em !important;\n",
       "  stroke-width: 0;\n",
       "  stroke: currentColor;\n",
       "  fill: currentColor;\n",
       "}\n",
       "</style><pre class='xr-text-repr-fallback'>&lt;xarray.Dataset&gt;\n",
       "Dimensions:       (y: 4714, x: 5069)\n",
       "Coordinates:\n",
       "  * y             (y) float64 1.922e+06 1.922e+06 ... 1.924e+06 1.924e+06\n",
       "  * x             (x) float64 1.621e+06 1.621e+06 ... 1.618e+06 1.618e+06\n",
       "    spatial_ref   int64 0\n",
       "Data variables:\n",
       "    raster_value  (y, x) float64 255.0 255.0 255.0 255.0 ... 255.0 255.0 255.0</pre><div class='xr-wrap' style='display:none'><div class='xr-header'><div class='xr-obj-type'>xarray.Dataset</div></div><ul class='xr-sections'><li class='xr-section-item'><input id='section-7a9227d7-0a4a-4cc8-bbc1-dbb313539fe5' class='xr-section-summary-in' type='checkbox' disabled ><label for='section-7a9227d7-0a4a-4cc8-bbc1-dbb313539fe5' class='xr-section-summary'  title='Expand/collapse section'>Dimensions:</label><div class='xr-section-inline-details'><ul class='xr-dim-list'><li><span class='xr-has-index'>y</span>: 4714</li><li><span class='xr-has-index'>x</span>: 5069</li></ul></div><div class='xr-section-details'></div></li><li class='xr-section-item'><input id='section-3b4d8d66-c20f-4c28-a3d9-bb508517ff88' class='xr-section-summary-in' type='checkbox'  checked><label for='section-3b4d8d66-c20f-4c28-a3d9-bb508517ff88' class='xr-section-summary' >Coordinates: <span>(3)</span></label><div class='xr-section-inline-details'></div><div class='xr-section-details'><ul class='xr-var-list'><li class='xr-var-item'><div class='xr-var-name'><span class='xr-has-index'>y</span></div><div class='xr-var-dims'>(y)</div><div class='xr-var-dtype'>float64</div><div class='xr-var-preview xr-preview'>1.922e+06 1.922e+06 ... 1.924e+06</div><input id='attrs-85742b19-c860-48ef-9e2f-f0d538524d8f' class='xr-var-attrs-in' type='checkbox' ><label for='attrs-85742b19-c860-48ef-9e2f-f0d538524d8f' title='Show/Hide attributes'><svg class='icon xr-icon-file-text2'><use xlink:href='#icon-file-text2'></use></svg></label><input id='data-88dd990c-41da-4e75-a619-9eead465be14' class='xr-var-data-in' type='checkbox'><label for='data-88dd990c-41da-4e75-a619-9eead465be14' title='Show/Hide data repr'><svg class='icon xr-icon-database'><use xlink:href='#icon-database'></use></svg></label><div class='xr-var-attrs'><dl class='xr-attrs'><dt><span>axis :</span></dt><dd>Y</dd><dt><span>long_name :</span></dt><dd>y coordinate of projection</dd><dt><span>standard_name :</span></dt><dd>projection_y_coordinate</dd><dt><span>units :</span></dt><dd>metre</dd></dl></div><div class='xr-var-data'><pre>array([1921653.25, 1921653.75, 1921654.25, ..., 1924008.75, 1924009.25,\n",
       "       1924009.75])</pre></div></li><li class='xr-var-item'><div class='xr-var-name'><span class='xr-has-index'>x</span></div><div class='xr-var-dims'>(x)</div><div class='xr-var-dtype'>float64</div><div class='xr-var-preview xr-preview'>1.621e+06 1.621e+06 ... 1.618e+06</div><input id='attrs-68b45b07-51cb-4e86-8905-ec13c94556d2' class='xr-var-attrs-in' type='checkbox' ><label for='attrs-68b45b07-51cb-4e86-8905-ec13c94556d2' title='Show/Hide attributes'><svg class='icon xr-icon-file-text2'><use xlink:href='#icon-file-text2'></use></svg></label><input id='data-73d47f0e-e59c-42ac-8ae9-b6a3bae50453' class='xr-var-data-in' type='checkbox'><label for='data-73d47f0e-e59c-42ac-8ae9-b6a3bae50453' title='Show/Hide data repr'><svg class='icon xr-icon-database'><use xlink:href='#icon-database'></use></svg></label><div class='xr-var-attrs'><dl class='xr-attrs'><dt><span>axis :</span></dt><dd>X</dd><dt><span>long_name :</span></dt><dd>x coordinate of projection</dd><dt><span>standard_name :</span></dt><dd>projection_x_coordinate</dd><dt><span>units :</span></dt><dd>metre</dd></dl></div><div class='xr-var-data'><pre>array([1620526.25, 1620525.75, 1620525.25, ..., 1617993.25, 1617992.75,\n",
       "       1617992.25])</pre></div></li><li class='xr-var-item'><div class='xr-var-name'><span>spatial_ref</span></div><div class='xr-var-dims'>()</div><div class='xr-var-dtype'>int64</div><div class='xr-var-preview xr-preview'>0</div><input id='attrs-db17e29b-3c6c-4218-b847-2a092511d499' class='xr-var-attrs-in' type='checkbox' ><label for='attrs-db17e29b-3c6c-4218-b847-2a092511d499' title='Show/Hide attributes'><svg class='icon xr-icon-file-text2'><use xlink:href='#icon-file-text2'></use></svg></label><input id='data-62d79e48-c914-4b33-9f65-881b7b713a23' class='xr-var-data-in' type='checkbox'><label for='data-62d79e48-c914-4b33-9f65-881b7b713a23' title='Show/Hide data repr'><svg class='icon xr-icon-database'><use xlink:href='#icon-database'></use></svg></label><div class='xr-var-attrs'><dl class='xr-attrs'><dt><span>crs_wkt :</span></dt><dd>PROJCS[&quot;NAD83 / Conus Albers&quot;,GEOGCS[&quot;NAD83&quot;,DATUM[&quot;North_American_Datum_1983&quot;,SPHEROID[&quot;GRS 1980&quot;,6378137,298.257222101,AUTHORITY[&quot;EPSG&quot;,&quot;7019&quot;]],AUTHORITY[&quot;EPSG&quot;,&quot;6269&quot;]],PRIMEM[&quot;Greenwich&quot;,0,AUTHORITY[&quot;EPSG&quot;,&quot;8901&quot;]],UNIT[&quot;degree&quot;,0.0174532925199433,AUTHORITY[&quot;EPSG&quot;,&quot;9122&quot;]],AUTHORITY[&quot;EPSG&quot;,&quot;4269&quot;]],PROJECTION[&quot;Albers_Conic_Equal_Area&quot;],PARAMETER[&quot;latitude_of_center&quot;,23],PARAMETER[&quot;longitude_of_center&quot;,-96],PARAMETER[&quot;standard_parallel_1&quot;,29.5],PARAMETER[&quot;standard_parallel_2&quot;,45.5],PARAMETER[&quot;false_easting&quot;,0],PARAMETER[&quot;false_northing&quot;,0],UNIT[&quot;metre&quot;,1,AUTHORITY[&quot;EPSG&quot;,&quot;9001&quot;]],AXIS[&quot;Easting&quot;,EAST],AXIS[&quot;Northing&quot;,NORTH],AUTHORITY[&quot;EPSG&quot;,&quot;5070&quot;]]</dd><dt><span>semi_major_axis :</span></dt><dd>6378137.0</dd><dt><span>semi_minor_axis :</span></dt><dd>6356752.314140356</dd><dt><span>inverse_flattening :</span></dt><dd>298.257222101</dd><dt><span>reference_ellipsoid_name :</span></dt><dd>GRS 1980</dd><dt><span>longitude_of_prime_meridian :</span></dt><dd>0.0</dd><dt><span>prime_meridian_name :</span></dt><dd>Greenwich</dd><dt><span>geographic_crs_name :</span></dt><dd>NAD83</dd><dt><span>horizontal_datum_name :</span></dt><dd>North American Datum 1983</dd><dt><span>projected_crs_name :</span></dt><dd>NAD83 / Conus Albers</dd><dt><span>grid_mapping_name :</span></dt><dd>albers_conical_equal_area</dd><dt><span>standard_parallel :</span></dt><dd>(29.5, 45.5)</dd><dt><span>latitude_of_projection_origin :</span></dt><dd>23.0</dd><dt><span>longitude_of_central_meridian :</span></dt><dd>-96.0</dd><dt><span>false_easting :</span></dt><dd>0.0</dd><dt><span>false_northing :</span></dt><dd>0.0</dd><dt><span>spatial_ref :</span></dt><dd>PROJCS[&quot;NAD83 / Conus Albers&quot;,GEOGCS[&quot;NAD83&quot;,DATUM[&quot;North_American_Datum_1983&quot;,SPHEROID[&quot;GRS 1980&quot;,6378137,298.257222101,AUTHORITY[&quot;EPSG&quot;,&quot;7019&quot;]],AUTHORITY[&quot;EPSG&quot;,&quot;6269&quot;]],PRIMEM[&quot;Greenwich&quot;,0,AUTHORITY[&quot;EPSG&quot;,&quot;8901&quot;]],UNIT[&quot;degree&quot;,0.0174532925199433,AUTHORITY[&quot;EPSG&quot;,&quot;9122&quot;]],AUTHORITY[&quot;EPSG&quot;,&quot;4269&quot;]],PROJECTION[&quot;Albers_Conic_Equal_Area&quot;],PARAMETER[&quot;latitude_of_center&quot;,23],PARAMETER[&quot;longitude_of_center&quot;,-96],PARAMETER[&quot;standard_parallel_1&quot;,29.5],PARAMETER[&quot;standard_parallel_2&quot;,45.5],PARAMETER[&quot;false_easting&quot;,0],PARAMETER[&quot;false_northing&quot;,0],UNIT[&quot;metre&quot;,1,AUTHORITY[&quot;EPSG&quot;,&quot;9001&quot;]],AXIS[&quot;Easting&quot;,EAST],AXIS[&quot;Northing&quot;,NORTH],AUTHORITY[&quot;EPSG&quot;,&quot;5070&quot;]]</dd></dl></div><div class='xr-var-data'><pre>array(0)</pre></div></li></ul></div></li><li class='xr-section-item'><input id='section-3831c623-090f-419d-9591-f05f8baa4f84' class='xr-section-summary-in' type='checkbox'  checked><label for='section-3831c623-090f-419d-9591-f05f8baa4f84' class='xr-section-summary' >Data variables: <span>(1)</span></label><div class='xr-section-inline-details'></div><div class='xr-section-details'><ul class='xr-var-list'><li class='xr-var-item'><div class='xr-var-name'><span>raster_value</span></div><div class='xr-var-dims'>(y, x)</div><div class='xr-var-dtype'>float64</div><div class='xr-var-preview xr-preview'>255.0 255.0 255.0 ... 255.0 255.0</div><input id='attrs-944deadc-7800-46fc-bbb0-5c217d7251d7' class='xr-var-attrs-in' type='checkbox' ><label for='attrs-944deadc-7800-46fc-bbb0-5c217d7251d7' title='Show/Hide attributes'><svg class='icon xr-icon-file-text2'><use xlink:href='#icon-file-text2'></use></svg></label><input id='data-81bfe7f4-b6bd-4441-8a91-9e2a0462b621' class='xr-var-data-in' type='checkbox'><label for='data-81bfe7f4-b6bd-4441-8a91-9e2a0462b621' title='Show/Hide data repr'><svg class='icon xr-icon-database'><use xlink:href='#icon-database'></use></svg></label><div class='xr-var-attrs'><dl class='xr-attrs'><dt><span>name :</span></dt><dd>raster_value</dd><dt><span>long_name :</span></dt><dd>raster_value</dd><dt><span>_FillValue :</span></dt><dd>255</dd></dl></div><div class='xr-var-data'><pre>array([[255., 255., 255., ..., 255., 255., 255.],\n",
       "       [255., 255., 255., ..., 255., 255., 255.],\n",
       "       [255., 255., 255., ..., 255., 255., 255.],\n",
       "       ...,\n",
       "       [255., 255., 255., ..., 255., 255., 255.],\n",
       "       [255., 255., 255., ..., 255., 255., 255.],\n",
       "       [255., 255., 255., ..., 255., 255., 255.]])</pre></div></li></ul></div></li><li class='xr-section-item'><input id='section-32d19204-e0e4-41d4-bd14-5ad9cec0c69e' class='xr-section-summary-in' type='checkbox' disabled ><label for='section-32d19204-e0e4-41d4-bd14-5ad9cec0c69e' class='xr-section-summary'  title='Expand/collapse section'>Attributes: <span>(0)</span></label><div class='xr-section-inline-details'></div><div class='xr-section-details'><dl class='xr-attrs'></dl></div></li></ul></div></div>"
      ],
      "text/plain": [
       "<xarray.Dataset>\n",
       "Dimensions:       (y: 4714, x: 5069)\n",
       "Coordinates:\n",
       "  * y             (y) float64 1.922e+06 1.922e+06 ... 1.924e+06 1.924e+06\n",
       "  * x             (x) float64 1.621e+06 1.621e+06 ... 1.618e+06 1.618e+06\n",
       "    spatial_ref   int64 0\n",
       "Data variables:\n",
       "    raster_value  (y, x) float64 255.0 255.0 255.0 255.0 ... 255.0 255.0 255.0"
      ]
     },
     "execution_count": 10,
     "metadata": {},
     "output_type": "execute_result"
    }
   ],
   "source": [
    "cube\n"
   ]
  },
  {
   "cell_type": "markdown",
   "id": "2f91d120-7b44-4392-9c2a-177f3a346fc1",
   "metadata": {},
   "source": [
    "## Implementation function"
   ]
  },
  {
   "cell_type": "code",
   "execution_count": 38,
   "id": "0f6c2f28-d8e9-4204-8a7f-b92cb3993544",
   "metadata": {},
   "outputs": [],
   "source": [
    "import os\n",
    "from typing import Union\n",
    "\n",
    "from geocube.api.core import make_geocube\n",
    "import geopandas as gpd\n",
    "import xarray as xr\n",
    "\n",
    "\n",
    "\n",
    "def rasterize_polygon_shapefile(input_shapefile: str,\n",
    "                                target_cell_size: Union[float, int],\n",
    "                                save_raster: bool = True,\n",
    "                                output_raster_directory: Union[str, None] = None,\n",
    "                                target_field: str = \"footprint\",\n",
    "                                default_value: Union[float, int] = 127,\n",
    "                                no_data_value: int = 255) -> xr.Dataset:\n",
    "    \"\"\"Rasterize polygon shapefile to desired resolution.\n",
    "\n",
    "    :param input_shapefile:                         Full path with file name and extension to the input shapefile.\n",
    "    :type input_shapefile:                          str\n",
    "\n",
    "    :param target_cell_size:                        Target cell size of the output raster.\n",
    "    :type target_cell_size:                         Union[float, int]\n",
    "\n",
    "    :param save_raster:                             True, if writing raster to file. False, if not.\n",
    "    :type save_raster:                              bool\n",
    "\n",
    "    :param output_raster_directory:                 If save_raster is True, the full path to the directory to write the\n",
    "                                                    output raster file to.\n",
    "    :type output_raster_directory:                  Union[str, None]\n",
    "\n",
    "    :param target_field:                            Field name to use for rasterization.  Default field \"footprint\" will\n",
    "                                                    be used if none specified and written to file using the value of\n",
    "                                                    the default_value argument.\n",
    "    :type target_field:                             str\n",
    "\n",
    "    :param default_value:                           Value used to write to the target field if it does not exist in the\n",
    "                                                    input shapefile.\n",
    "    :type default_value:                            Union[float, int]\n",
    "\n",
    "    :param no_data_value:                           No data value to use as the fill value for non-populated cells.\n",
    "    :type no_data_value:                            int\n",
    "\n",
    "    :return:                                        An xarray Dataset object of the rasterized polygon.\n",
    "\n",
    "    \"\"\"\n",
    "\n",
    "    # read in shapefile as a geodataframe\n",
    "    gdf = gpd.read_file(input_shapefile)\n",
    "\n",
    "    # add in field for raster value if not exists with a default value\n",
    "    if target_field not in gdf.columns:\n",
    "        gdf[target_field] = default_value\n",
    "\n",
    "    # rasterize the polygon data into an xarray object\n",
    "    cube = make_geocube(vector_data=gdf,\n",
    "                        measurements=[target_field],\n",
    "                        resolution=(target_cell_size, -target_cell_size),\n",
    "                        fill=no_data_value)\n",
    "\n",
    "    # save raster file if so desired\n",
    "    if save_raster:\n",
    "\n",
    "        # get the file name of the input shapefile\n",
    "        basename = os.path.basename(input_shapefile)\n",
    "\n",
    "        # get the file name sans extension\n",
    "        basename_no_extension = os.path.splitext(basename)\n",
    "\n",
    "        # construct the output raster name\n",
    "        output_raster = os.path.join(output_raster_directory, f\"{basename_no_extension}_{target_field}.tif\")\n",
    "\n",
    "        # write raster to file\n",
    "        cube.raster_value.rio.to_raster(output_raster)\n",
    "\n",
    "    return cube\n"
   ]
  },
  {
   "cell_type": "code",
   "execution_count": null,
   "id": "65ecc689-af99-4acb-be7c-d3bc0cf4c8d8",
   "metadata": {},
   "outputs": [],
   "source": []
  },
  {
   "cell_type": "code",
   "execution_count": null,
   "id": "97e8f624-2063-400d-a0d6-5921e88ce439",
   "metadata": {},
   "outputs": [],
   "source": []
  },
  {
   "cell_type": "code",
   "execution_count": 673,
   "id": "2f137455-7158-4cba-ae36-ca81b063ddde",
   "metadata": {},
   "outputs": [
    {
     "data": {
      "text/plain": [
       "0.0"
      ]
     },
     "execution_count": 673,
     "metadata": {},
     "output_type": "execute_result"
    }
   ],
   "source": [
    "a = [45]\n",
    "\n",
    "np.std(a)\n",
    "\n"
   ]
  },
  {
   "cell_type": "markdown",
   "id": "d3841b33-4c7c-48f6-9bce-779cddc5f2fd",
   "metadata": {},
   "source": [
    "## Parameter_Calculations.py"
   ]
  },
  {
   "cell_type": "markdown",
   "id": "0da1dd9c-5f85-441e-a998-221110543be8",
   "metadata": {},
   "source": [
    "**Notes**:\n",
    "- currently, the target building gets processed in with those in the target's neighborhood, resulting in a 0 value for distance.  This influences the calculation for mean and std building height as well as the directionality average.\n",
    "- how is it possble that a building can have a 0 height when it has an area > 0?\n",
    "- the direction centered on 360 degrees as East is odd, is this right?\n",
    "- building volume is calculated?\n",
    "- I believe the capture radius (dialate) is only working at 50 m and not the desired 100 m\n",
    "- There is a place that assign standard deviation as 0 when it is a single number, should this be the number itself?\n"
   ]
  },
  {
   "cell_type": "code",
   "execution_count": 14,
   "id": "745dcb78-637a-4652-a280-aaec148bf227",
   "metadata": {},
   "outputs": [],
   "source": [
    "data_dir = \"/Users/d3y010/projects/naturf/data\"\n",
    "\n",
    "input_shapefile = os.path.join(data_dir, \"inputs\", \"C-5.shp\")\n",
    "raster_dir = os.path.join(data_dir, \"outputs\")\n",
    "latitude_center = 38.9\n",
    "longitude_center = -77.0\n",
    "id_field = \"OBJECTID\"\n",
    "height_field = \"Max_HOUSE_\"\n",
    "area_field = \"grid_bldg_area\"\n",
    "\n",
    "raster_value = 127\n",
    "no_data_value = 255\n",
    "target_resolution = 0.5\n",
    "\n",
    "raster_ids_file = os.path.join(data_dir, \"example_naturf_outputs_v2\", \"Chris_and_Emily_C-5\", \"Tifs\", \"Building_IDs.tif\")\n"
   ]
  },
  {
   "cell_type": "code",
   "execution_count": 678,
   "id": "9372a31e-ca0e-404b-b004-11a9e3105de4",
   "metadata": {},
   "outputs": [],
   "source": [
    "# read in shapefile and take a look\n",
    "gdf = gpd.read_file(input_shapefile)\n"
   ]
  },
  {
   "cell_type": "code",
   "execution_count": 15,
   "id": "72e4fba2-b3ff-43b4-a969-1223616f3313",
   "metadata": {},
   "outputs": [],
   "source": [
    "# get ids from buildings\n",
    "with rasterio.open(raster_ids_file) as src:\n",
    "    metadata = src.meta.copy()\n",
    "    id_arr = src.read(1)\n"
   ]
  },
  {
   "cell_type": "markdown",
   "id": "dc07b736-cc85-4a5e-a3b6-598a80444b74",
   "metadata": {},
   "source": [
    "#### A note:  the gridded building area is different then the building area calculated from the raw geometry"
   ]
  },
  {
   "cell_type": "code",
   "execution_count": 16,
   "id": "9401b3de-1e0c-4fc9-9af7-7b92a9a26d2a",
   "metadata": {},
   "outputs": [
    {
     "data": {
      "text/html": [
       "<div>\n",
       "<style scoped>\n",
       "    .dataframe tbody tr th:only-of-type {\n",
       "        vertical-align: middle;\n",
       "    }\n",
       "\n",
       "    .dataframe tbody tr th {\n",
       "        vertical-align: top;\n",
       "    }\n",
       "\n",
       "    .dataframe thead th {\n",
       "        text-align: right;\n",
       "    }\n",
       "</style>\n",
       "<table border=\"1\" class=\"dataframe\">\n",
       "  <thead>\n",
       "    <tr style=\"text-align: right;\">\n",
       "      <th></th>\n",
       "      <th>xid</th>\n",
       "      <th>geometry</th>\n",
       "      <th>Max_HOUSE_</th>\n",
       "      <th>grid_bldg_area</th>\n",
       "    </tr>\n",
       "  </thead>\n",
       "  <tbody>\n",
       "    <tr>\n",
       "      <th>0</th>\n",
       "      <td>1</td>\n",
       "      <td>POLYGON ((1618111.652 1922706.443, 1618109.381...</td>\n",
       "      <td>0.00</td>\n",
       "      <td>12.50</td>\n",
       "    </tr>\n",
       "    <tr>\n",
       "      <th>1</th>\n",
       "      <td>2</td>\n",
       "      <td>POLYGON ((1618092.351 1922752.255, 1618088.410...</td>\n",
       "      <td>0.00</td>\n",
       "      <td>39.50</td>\n",
       "    </tr>\n",
       "    <tr>\n",
       "      <th>2</th>\n",
       "      <td>3</td>\n",
       "      <td>POLYGON ((1618052.020 1922797.834, 1618051.749...</td>\n",
       "      <td>2.66</td>\n",
       "      <td>326.50</td>\n",
       "    </tr>\n",
       "    <tr>\n",
       "      <th>3</th>\n",
       "      <td>4</td>\n",
       "      <td>POLYGON ((1618059.647 1922806.024, 1618058.415...</td>\n",
       "      <td>2.66</td>\n",
       "      <td>37.75</td>\n",
       "    </tr>\n",
       "    <tr>\n",
       "      <th>4</th>\n",
       "      <td>5</td>\n",
       "      <td>POLYGON ((1617996.818 1922869.925, 1617997.292...</td>\n",
       "      <td>0.00</td>\n",
       "      <td>70.75</td>\n",
       "    </tr>\n",
       "    <tr>\n",
       "      <th>...</th>\n",
       "      <td>...</td>\n",
       "      <td>...</td>\n",
       "      <td>...</td>\n",
       "      <td>...</td>\n",
       "    </tr>\n",
       "    <tr>\n",
       "      <th>255</th>\n",
       "      <td>256</td>\n",
       "      <td>POLYGON ((1618778.192 1923429.261, 1618778.104...</td>\n",
       "      <td>0.00</td>\n",
       "      <td>275.50</td>\n",
       "    </tr>\n",
       "    <tr>\n",
       "      <th>256</th>\n",
       "      <td>257</td>\n",
       "      <td>POLYGON ((1618967.172 1923713.151, 1618967.258...</td>\n",
       "      <td>36.03</td>\n",
       "      <td>2021.75</td>\n",
       "    </tr>\n",
       "    <tr>\n",
       "      <th>257</th>\n",
       "      <td>258</td>\n",
       "      <td>POLYGON ((1619927.723 1923237.626, 1619927.111...</td>\n",
       "      <td>0.00</td>\n",
       "      <td>11.00</td>\n",
       "    </tr>\n",
       "    <tr>\n",
       "      <th>258</th>\n",
       "      <td>259</td>\n",
       "      <td>POLYGON ((1618167.345 1922942.420, 1618168.818...</td>\n",
       "      <td>0.00</td>\n",
       "      <td>84.25</td>\n",
       "    </tr>\n",
       "    <tr>\n",
       "      <th>259</th>\n",
       "      <td>260</td>\n",
       "      <td>POLYGON ((1619357.797 1923445.956, 1619344.502...</td>\n",
       "      <td>7.28</td>\n",
       "      <td>2997.00</td>\n",
       "    </tr>\n",
       "  </tbody>\n",
       "</table>\n",
       "<p>260 rows × 4 columns</p>\n",
       "</div>"
      ],
      "text/plain": [
       "     xid                                           geometry  Max_HOUSE_  \\\n",
       "0      1  POLYGON ((1618111.652 1922706.443, 1618109.381...        0.00   \n",
       "1      2  POLYGON ((1618092.351 1922752.255, 1618088.410...        0.00   \n",
       "2      3  POLYGON ((1618052.020 1922797.834, 1618051.749...        2.66   \n",
       "3      4  POLYGON ((1618059.647 1922806.024, 1618058.415...        2.66   \n",
       "4      5  POLYGON ((1617996.818 1922869.925, 1617997.292...        0.00   \n",
       "..   ...                                                ...         ...   \n",
       "255  256  POLYGON ((1618778.192 1923429.261, 1618778.104...        0.00   \n",
       "256  257  POLYGON ((1618967.172 1923713.151, 1618967.258...       36.03   \n",
       "257  258  POLYGON ((1619927.723 1923237.626, 1619927.111...        0.00   \n",
       "258  259  POLYGON ((1618167.345 1922942.420, 1618168.818...        0.00   \n",
       "259  260  POLYGON ((1619357.797 1923445.956, 1619344.502...        7.28   \n",
       "\n",
       "     grid_bldg_area  \n",
       "0             12.50  \n",
       "1             39.50  \n",
       "2            326.50  \n",
       "3             37.75  \n",
       "4             70.75  \n",
       "..              ...  \n",
       "255          275.50  \n",
       "256         2021.75  \n",
       "257           11.00  \n",
       "258           84.25  \n",
       "259         2997.00  \n",
       "\n",
       "[260 rows x 4 columns]"
      ]
     },
     "execution_count": 16,
     "metadata": {},
     "output_type": "execute_result"
    }
   ],
   "source": [
    "gdf[\"xid\"] = gdf.index + 1\n",
    "gdf[\"grid_bldg_area\"] = gdf[\"xid\"].apply(lambda x: id_arr[id_arr == x].shape[0] * target_resolution**2)\n",
    "\n",
    "gdf[[\"xid\", \"geometry\", height_field, \"grid_bldg_area\"]]\n"
   ]
  },
  {
   "cell_type": "code",
   "execution_count": 31,
   "id": "155139af-a895-4f61-b9e9-163649c00a05",
   "metadata": {},
   "outputs": [
    {
     "data": {
      "text/plain": [
       "(1617992.0141000003, 1921653.0683999993, 1620526.4232, 1924009.7565000001)"
      ]
     },
     "execution_count": 31,
     "metadata": {},
     "output_type": "execute_result"
    }
   ],
   "source": [
    "minx, miny, maxx, maxy = gdf.geometry.total_bounds\n",
    "minx, miny, maxx, maxy"
   ]
  },
  {
   "cell_type": "code",
   "execution_count": 86,
   "id": "04d94ab4-3cf8-4666-afa6-3b6842d915d0",
   "metadata": {},
   "outputs": [
    {
     "data": {
      "text/plain": [
       "(4814, 5170)"
      ]
     },
     "execution_count": 86,
     "metadata": {},
     "output_type": "execute_result"
    }
   ],
   "source": [
    "IMAGE_SIZE_X = (2 * math.ceil(maxy - miny)) + 100\n",
    "IMAGE_SIZE_Y = (2 * math.ceil(maxx - minx)) + 100\n",
    "\n",
    "IMAGE_SIZE_X, IMAGE_SIZE_Y\n"
   ]
  },
  {
   "cell_type": "code",
   "execution_count": 39,
   "id": "65990507-8740-40a4-9339-809eca0cd821",
   "metadata": {},
   "outputs": [
    {
     "data": {
      "text/plain": [
       "(2534.409099999815, 2356.6881000008434, 1.0754113367818627)"
      ]
     },
     "execution_count": 39,
     "metadata": {},
     "output_type": "execute_result"
    }
   ],
   "source": [
    "wi = np.hypot((minx - maxx), 0)\n",
    "he = np.hypot(0, (maxy - miny))\n",
    "car = wi / he\n",
    "\n",
    "wi, he, car \n"
   ]
  },
  {
   "cell_type": "markdown",
   "id": "904dea88-1a4b-44c2-aa0d-92259a613a6e",
   "metadata": {},
   "source": [
    "get_cents_hts()"
   ]
  },
  {
   "cell_type": "code",
   "execution_count": 76,
   "id": "ee932983-8773-45a5-a2db-a23a31966eff",
   "metadata": {},
   "outputs": [],
   "source": [
    "cents_obj = gdf.set_index(\"xid\")[\"geometry\"].centroid.to_dict()\n",
    "cents = {i: [cents_obj[i].x, cents_obj[i].y] for i in cents_obj.keys()}\n",
    "         \n",
    "hts = gdf.set_index(\"xid\")[height_field].to_dict()\n",
    "\n",
    "areas = gdf.set_index(\"xid\")[\"grid_bldg_area\"].to_dict()\n"
   ]
  },
  {
   "cell_type": "markdown",
   "id": "f11578c5-ee51-46e6-bc1d-a4dcb4374339",
   "metadata": {},
   "source": [
    "avg_building_dist()"
   ]
  },
  {
   "cell_type": "code",
   "execution_count": 270,
   "id": "4bd91a9f-fdb9-4174-af88-439c38123d24",
   "metadata": {},
   "outputs": [],
   "source": [
    "def count_points_in_polygon(x):\n",
    "    \"\"\"Count the number of points in a polygon.\"\"\"\n",
    "    \n",
    "    return len(x.coords)\n",
    "\n",
    "def get_coords(x):\n",
    "    return x.coords\n",
    "\n",
    "def angle_between_two_points(x1, y1, x2, y2):\n",
    "    \"\"\"Finds the angle between two points.\"\"\"\n",
    "    \n",
    "    DEGREES_IN_CIRCLE = 360\n",
    "\n",
    "    dx = x2 - x1 # The distance between the x coordinates\n",
    "    dy = y2 - y1 # The distance between the y coordinates\n",
    "\n",
    "    angle_in_radians = np.arctan2(dy, dx) # The angle facing the y coordinate (theta-y) in radians\n",
    "    angle_in_degrees = np.degrees(angle_in_radians) # Theta-y in degrees\n",
    "\n",
    "    if angle_in_degrees < 0:\n",
    "        angle_in_degrees += DEGREES_IN_CIRCLE\n",
    "\n",
    "    return angle_in_degrees\n"
   ]
  },
  {
   "cell_type": "code",
   "execution_count": 368,
   "id": "419cfb68-926e-4928-9384-171a18c2afc3",
   "metadata": {},
   "outputs": [],
   "source": [
    "i2arr = zeros((IMAGE_SIZE_X, IMAGE_SIZE_Y), dtype=uint8)\n",
    "dils = zeros((IMAGE_SIZE_X, IMAGE_SIZE_Y), dtype=uint8)\n",
    "narr = zeros((IMAGE_SIZE_X, IMAGE_SIZE_Y), dtype=uint8)\n",
    "struct = ndimage.generate_binary_structure(2, 2)\n",
    "RADIUS = 100\n",
    "NORTHWEST_DEGREES = 135\n",
    "NORTHEAST_DEGREES = 45\n",
    "SOUTHWEST_DEGREES = 225\n",
    "SOUTHEAST_DEGREES = 315\n",
    "DEGREES_IN_CIRCLE = 360\n",
    "START_OF_CIRCLE_DEGREES = 0\n",
    "sumareas = 0\n",
    "counter = 1\n",
    "\n",
    "average_north_south_building_distances = {}\n",
    "average_east_west_building_distances = {}\n",
    "average_building_heights = []\n",
    "standard_deviation_building_heights = []\n",
    "area_weighted_average_building_heights = []\n",
    "footprint_building_areas = {}\n"
   ]
  },
  {
   "cell_type": "markdown",
   "id": "6f0a2ae2-b7a2-490e-bc7c-360ab63deaec",
   "metadata": {},
   "source": [
    "New version of `avg_building_dist()`"
   ]
  },
  {
   "cell_type": "code",
   "execution_count": 670,
   "id": "fa4d023e-b714-4da3-986b-69e6f1ce2b89",
   "metadata": {},
   "outputs": [
    {
     "name": "stderr",
     "output_type": "stream",
     "text": [
      "/Users/d3y010/.pyenv/versions/3.9.4/envs/py3.9.4_naturf/lib/python3.9/site-packages/pandas/core/dtypes/cast.py:122: ShapelyDeprecationWarning: The array interface is deprecated and will no longer work in Shapely 2.0. Convert the '.coords' to a numpy array instead.\n",
      "  arr = construct_1d_object_array_from_listlike(values)\n"
     ]
    },
    {
     "name": "stdout",
     "output_type": "stream",
     "text": [
      "CPU times: user 2.18 s, sys: 58.7 ms, total: 2.24 s\n",
      "Wall time: 2.31 s\n"
     ]
    }
   ],
   "source": [
    "%%time\n",
    "\n",
    "radius = 100\n",
    "\n",
    "# get a count of the number of points in each polygon\n",
    "gdf['n_points'] = gdf.geometry.exterior.apply(count_points_in_polygon)\n",
    "\n",
    "# get a subset of fields from the input geodataframe\n",
    "gdf = gdf[[\"xid\", \"n_points\", height_field, \"grid_bldg_area\", \"geometry\"]].copy()\n",
    "\n",
    "# generate a new data frame with the geometry as a squared buffer\n",
    "gdf_buffered = gdf.copy()\n",
    "gdf_buffered[\"geometry\"] = gdf_buffered.geometry.centroid.buffer(distance=radius, cap_style=3)\n",
    "\n",
    "# generate a new data frame with the geometry as a centroid\n",
    "gdf_centroid = gdf[[\"xid\", height_field, \"grid_bldg_area\", \"geometry\"]].copy()\n",
    "gdf_centroid[\"geometry\"] = gdf_centroid.geometry.centroid\n",
    "\n",
    "# conduct a spatial join to get the building centroids that intersect the buffered target buildings\n",
    "mdf = gpd.sjoin(gdf_buffered, gdf_centroid, how=\"inner\", predicate='intersects')\n",
    "\n",
    "# modified height field name variables after merge\n",
    "target_height_field = f\"{height_field}_left\"\n",
    "neighbor_height_field = f\"{height_field}_right\"\n",
    "\n",
    "# get the non-buffered geometry for each target building\n",
    "xid_to_building_polygon = gdf.set_index(\"xid\").geometry.to_dict()\n",
    "\n",
    "# add it in place of the buffered geometry in the joined data frame\n",
    "mdf[\"geometry\"] = mdf[\"xid_left\"].map(xid_to_building_polygon)\n",
    "\n",
    "# add in the centroid geometry of each intersecting building from the buffer proximity analysis\n",
    "xid_to_neighbor_centroid = gdf_centroid.set_index(\"xid\").geometry.to_dict()\n",
    "mdf[\"centroid\"] = gpd.GeoSeries(mdf[\"xid_right\"].map(xid_to_neighbor_centroid), crs=mdf.crs)\n",
    "\n",
    "# calculate the distance from the target building to each neighbor\n",
    "mdf[\"distance\"] = mdf.geometry.centroid.distance(mdf[\"centroid\"])\n",
    "\n",
    "# generate the x, y of both target and neighboring buidings\n",
    "mdf[\"target_x\"] = mdf.geometry.centroid.x\n",
    "mdf[\"target_y\"] = mdf.geometry.centroid.y\n",
    "mdf[\"neighbor_x\"] = mdf[\"centroid\"].x\n",
    "mdf[\"neighbor_y\"] = mdf[\"centroid\"].y\n",
    "\n",
    "# calculate the angle in degrees of the neighbor building orientation to the target\n",
    "mdf[\"angle_in_degrees\"] = np.degrees(np.arctan2(mdf[\"neighbor_y\"] - mdf[\"target_y\"], mdf[\"neighbor_x\"] - mdf[\"target_x\"]))\n",
    "\n",
    "# adjust the angle to correspond to a circle where 0/360 degrees is directly east, and the degrees increase counter-clockwise\n",
    "mdf[\"angle_in_degrees\"] = np.where(mdf[\"angle_in_degrees\"] < 0, \n",
    "                                   mdf[\"angle_in_degrees\"] + DEGREES_IN_CIRCLE, \n",
    "                                   mdf[\"angle_in_degrees\"])\n",
    "\n",
    "# initialize direction field as string\n",
    "mdf[\"direction\"] = \"\"\n",
    "\n",
    "# identify east-west orientation\n",
    "mdf[\"direction\"] = np.where((((SOUTHEAST_DEGREES <= mdf[\"angle_in_degrees\"]) & (mdf[\"angle_in_degrees\"] <= DEGREES_IN_CIRCLE)) \n",
    "                            | ((START_OF_CIRCLE_DEGREES <= mdf[\"angle_in_degrees\"]) & (mdf[\"angle_in_degrees\"] < NORTHEAST_DEGREES)))\n",
    "                            | ((NORTHWEST_DEGREES <= mdf[\"angle_in_degrees\"]) & (mdf[\"angle_in_degrees\"] < SOUTHWEST_DEGREES)),\n",
    "                           \"east_west\",\n",
    "                           mdf[\"direction\"])\n",
    "\n",
    "# identify north-south orientation\n",
    "mdf[\"direction\"] = np.where(((NORTHEAST_DEGREES <= mdf[\"angle_in_degrees\"]) & (mdf[\"angle_in_degrees\"] < NORTHWEST_DEGREES))\n",
    "                            | ((SOUTHWEST_DEGREES <= mdf[\"angle_in_degrees\"]) & (mdf[\"angle_in_degrees\"] < SOUTHEAST_DEGREES)),\n",
    "                           \"north_south\",\n",
    "                           mdf[\"direction\"])\n",
    "\n",
    "# calculates the area of all buildings within the plan area\n",
    "plan_area_dict = mdf.groupby(\"xid_left\")[\"grid_bldg_area_right\"].sum().to_dict()\n",
    "\n",
    "# building height\n",
    "building_height_dict = mdf.groupby(\"xid_left\")[target_height_field].max().to_dict()\n",
    "\n",
    "# add the height and plan_area to a dictonary where the key is the target building ID\n",
    "footprint_building_areas = {i: [building_height_dict[i], plan_area_dict[i]] for i in plan_area_dict.keys()}\n",
    "\n",
    "# summary statistics\n",
    "average_building_heights = mdf.groupby(\"xid_left\")[neighbor_height_field].mean().fillna(0).tolist()\n",
    "standard_deviation_building_heights = mdf.groupby(\"xid_left\")[neighbor_height_field].std().fillna(0).tolist()\n",
    "\n",
    "# calculate the average directional distances for each target building to its neighbors\n",
    "average_direction_distance = mdf.groupby([\"xid_left\", \"direction\"])[\"distance\"].mean().reset_index()\n",
    "\n",
    "# initialize dictionaries with 0 for each target building\n",
    "average_north_south_building_distances = {i: 0 for i in np.sort(mdf[\"xid_left\"].unique())}\n",
    "average_east_west_building_distances = average_north_south_building_distances.copy()\n",
    "\n",
    "# update dictionaries where values exists\n",
    "average_north_south_building_distances.update(average_direction_distance.loc[average_direction_distance[\"direction\"] == \"north_south\"][[\"xid_left\", \"distance\"]].set_index(\"xid_left\").to_dict()[\"distance\"])\n",
    "average_east_west_building_distances.update(average_direction_distance.loc[average_direction_distance[\"direction\"] == \"east_west\"][[\"xid_left\", \"distance\"]].set_index(\"xid_left\").to_dict()[\"distance\"])\n",
    "\n",
    "# calculate the building area * height for each neighbor building\n",
    "mdf[\"neighbor_volume\"] = mdf[\"grid_bldg_area_right\"] * mdf[neighbor_height_field]\n",
    "\n",
    "# calculate the area weighted building heights and replace any inf and nan with 0 (these come from 0 areas where height is 0)\n",
    "area_weighted_average_building_heights = ((mdf.groupby(\"xid_left\")[\"neighbor_volume\"].sum()) / \n",
    "                                          (mdf.groupby(\"xid_left\")[\"grid_bldg_area_right\"].sum())\n",
    "                                         ).replace([np.inf, -np.inf], 0).fillna(0).to_list()\n",
    "\n",
    "# average of all of the building surface areas in the shapefile\n",
    "average_building_area = mdf.groupby(\"xid_left\")[\"grid_bldg_area_left\"].max().mean()\n"
   ]
  },
  {
   "cell_type": "code",
   "execution_count": 671,
   "id": "7b70e911-f1d1-4ec8-aa10-8bd8aa3c2255",
   "metadata": {},
   "outputs": [
    {
     "data": {
      "text/html": [
       "<div>\n",
       "<style scoped>\n",
       "    .dataframe tbody tr th:only-of-type {\n",
       "        vertical-align: middle;\n",
       "    }\n",
       "\n",
       "    .dataframe tbody tr th {\n",
       "        vertical-align: top;\n",
       "    }\n",
       "\n",
       "    .dataframe thead th {\n",
       "        text-align: right;\n",
       "    }\n",
       "</style>\n",
       "<table border=\"1\" class=\"dataframe\">\n",
       "  <thead>\n",
       "    <tr style=\"text-align: right;\">\n",
       "      <th></th>\n",
       "      <th>xid_left</th>\n",
       "      <th>n_points</th>\n",
       "      <th>Max_HOUSE__left</th>\n",
       "      <th>grid_bldg_area_left</th>\n",
       "      <th>geometry</th>\n",
       "      <th>index_right</th>\n",
       "      <th>xid_right</th>\n",
       "      <th>Max_HOUSE__right</th>\n",
       "      <th>grid_bldg_area_right</th>\n",
       "      <th>centroid</th>\n",
       "      <th>distance</th>\n",
       "      <th>target_x</th>\n",
       "      <th>target_y</th>\n",
       "      <th>neighbor_x</th>\n",
       "      <th>neighbor_y</th>\n",
       "      <th>angle_in_degrees</th>\n",
       "      <th>direction</th>\n",
       "      <th>neighbor_volume</th>\n",
       "    </tr>\n",
       "  </thead>\n",
       "  <tbody>\n",
       "    <tr>\n",
       "      <th>0</th>\n",
       "      <td>1</td>\n",
       "      <td>9</td>\n",
       "      <td>0.0</td>\n",
       "      <td>12.5</td>\n",
       "      <td>POLYGON ((1618111.652 1922706.443, 1618109.381...</td>\n",
       "      <td>0</td>\n",
       "      <td>1</td>\n",
       "      <td>0.00</td>\n",
       "      <td>12.50</td>\n",
       "      <td>POINT (1618109.423 1922706.987)</td>\n",
       "      <td>0.000000</td>\n",
       "      <td>1.618109e+06</td>\n",
       "      <td>1.922707e+06</td>\n",
       "      <td>1.618109e+06</td>\n",
       "      <td>1.922707e+06</td>\n",
       "      <td>0.000000</td>\n",
       "      <td>east_west</td>\n",
       "      <td>0.000</td>\n",
       "    </tr>\n",
       "    <tr>\n",
       "      <th>0</th>\n",
       "      <td>1</td>\n",
       "      <td>9</td>\n",
       "      <td>0.0</td>\n",
       "      <td>12.5</td>\n",
       "      <td>POLYGON ((1618111.652 1922706.443, 1618109.381...</td>\n",
       "      <td>1</td>\n",
       "      <td>2</td>\n",
       "      <td>0.00</td>\n",
       "      <td>39.50</td>\n",
       "      <td>POINT (1618089.687 1922754.657)</td>\n",
       "      <td>51.593756</td>\n",
       "      <td>1.618109e+06</td>\n",
       "      <td>1.922707e+06</td>\n",
       "      <td>1.618090e+06</td>\n",
       "      <td>1.922755e+06</td>\n",
       "      <td>112.489477</td>\n",
       "      <td>north_south</td>\n",
       "      <td>0.000</td>\n",
       "    </tr>\n",
       "    <tr>\n",
       "      <th>0</th>\n",
       "      <td>1</td>\n",
       "      <td>9</td>\n",
       "      <td>0.0</td>\n",
       "      <td>12.5</td>\n",
       "      <td>POLYGON ((1618111.652 1922706.443, 1618109.381...</td>\n",
       "      <td>2</td>\n",
       "      <td>3</td>\n",
       "      <td>2.66</td>\n",
       "      <td>326.50</td>\n",
       "      <td>POINT (1618056.329 1922788.642)</td>\n",
       "      <td>97.398702</td>\n",
       "      <td>1.618109e+06</td>\n",
       "      <td>1.922707e+06</td>\n",
       "      <td>1.618056e+06</td>\n",
       "      <td>1.922789e+06</td>\n",
       "      <td>123.032756</td>\n",
       "      <td>north_south</td>\n",
       "      <td>868.490</td>\n",
       "    </tr>\n",
       "    <tr>\n",
       "      <th>0</th>\n",
       "      <td>1</td>\n",
       "      <td>9</td>\n",
       "      <td>0.0</td>\n",
       "      <td>12.5</td>\n",
       "      <td>POLYGON ((1618111.652 1922706.443, 1618109.381...</td>\n",
       "      <td>3</td>\n",
       "      <td>4</td>\n",
       "      <td>2.66</td>\n",
       "      <td>37.75</td>\n",
       "      <td>POINT (1618056.162 1922803.767)</td>\n",
       "      <td>110.467540</td>\n",
       "      <td>1.618109e+06</td>\n",
       "      <td>1.922707e+06</td>\n",
       "      <td>1.618056e+06</td>\n",
       "      <td>1.922804e+06</td>\n",
       "      <td>118.824970</td>\n",
       "      <td>north_south</td>\n",
       "      <td>100.415</td>\n",
       "    </tr>\n",
       "  </tbody>\n",
       "</table>\n",
       "</div>"
      ],
      "text/plain": [
       "   xid_left  n_points  Max_HOUSE__left  grid_bldg_area_left  \\\n",
       "0         1         9              0.0                 12.5   \n",
       "0         1         9              0.0                 12.5   \n",
       "0         1         9              0.0                 12.5   \n",
       "0         1         9              0.0                 12.5   \n",
       "\n",
       "                                            geometry  index_right  xid_right  \\\n",
       "0  POLYGON ((1618111.652 1922706.443, 1618109.381...            0          1   \n",
       "0  POLYGON ((1618111.652 1922706.443, 1618109.381...            1          2   \n",
       "0  POLYGON ((1618111.652 1922706.443, 1618109.381...            2          3   \n",
       "0  POLYGON ((1618111.652 1922706.443, 1618109.381...            3          4   \n",
       "\n",
       "   Max_HOUSE__right  grid_bldg_area_right                         centroid  \\\n",
       "0              0.00                 12.50  POINT (1618109.423 1922706.987)   \n",
       "0              0.00                 39.50  POINT (1618089.687 1922754.657)   \n",
       "0              2.66                326.50  POINT (1618056.329 1922788.642)   \n",
       "0              2.66                 37.75  POINT (1618056.162 1922803.767)   \n",
       "\n",
       "     distance      target_x      target_y    neighbor_x    neighbor_y  \\\n",
       "0    0.000000  1.618109e+06  1.922707e+06  1.618109e+06  1.922707e+06   \n",
       "0   51.593756  1.618109e+06  1.922707e+06  1.618090e+06  1.922755e+06   \n",
       "0   97.398702  1.618109e+06  1.922707e+06  1.618056e+06  1.922789e+06   \n",
       "0  110.467540  1.618109e+06  1.922707e+06  1.618056e+06  1.922804e+06   \n",
       "\n",
       "   angle_in_degrees    direction  neighbor_volume  \n",
       "0          0.000000    east_west            0.000  \n",
       "0        112.489477  north_south            0.000  \n",
       "0        123.032756  north_south          868.490  \n",
       "0        118.824970  north_south          100.415  "
      ]
     },
     "execution_count": 671,
     "metadata": {},
     "output_type": "execute_result"
    }
   ],
   "source": [
    "mdf.loc[mdf[\"xid_left\"] == 1]"
   ]
  },
  {
   "cell_type": "markdown",
   "id": "6b11cb0e-baa6-4653-8870-e6f39ba86d6a",
   "metadata": {},
   "source": [
    "# Notes\n",
    "- ignore the target building in the statistics\n",
    "- for building areas and heigts include the target\n",
    "- for the 0 heights, exclude out 0 height or 0 area values (when reading in shapefile - do this as filter)\n",
    "- don't need the pickle files:  do need binary file for WRF, index file for WRF, CSV for breakdown via params, TIFs for diagnostic evaluation so rasterize the polygon output\n",
    "- add new parameter :: skyview :: either 101 or 102\n"
   ]
  },
  {
   "cell_type": "code",
   "execution_count": 674,
   "id": "6302fa7c-047e-4497-8f5a-38f58b692fff",
   "metadata": {},
   "outputs": [
    {
     "data": {
      "text/plain": [
       "<AxesSubplot:>"
      ]
     },
     "execution_count": 674,
     "metadata": {},
     "output_type": "execute_result"
    },
    {
     "data": {
      "image/png": "[encoded data removed]",
      "text/plain": [
       "<Figure size 432x288 with 1 Axes>"
      ]
     },
     "metadata": {
      "needs_background": "light"
     },
     "output_type": "display_data"
    }
   ],
   "source": [
    "mdf.plot()"
   ]
  },
  {
   "cell_type": "code",
   "execution_count": 675,
   "id": "f9948a0f-c06d-41e0-bef6-f7252d784708",
   "metadata": {},
   "outputs": [
    {
     "data": {
      "text/plain": [
       "geopandas.geodataframe.GeoDataFrame"
      ]
     },
     "execution_count": 675,
     "metadata": {},
     "output_type": "execute_result"
    }
   ],
   "source": [
    "type(mdf)"
   ]
  },
  {
   "cell_type": "code",
   "execution_count": 676,
   "id": "8d172301-fa48-4de0-a363-61796f2a65a3",
   "metadata": {},
   "outputs": [
    {
     "data": {
      "text/plain": [
       "<Derived Projected CRS: EPSG:5070>\n",
       "Name: NAD83 / Conus Albers\n",
       "Axis Info [cartesian]:\n",
       "- X[east]: Easting (metre)\n",
       "- Y[north]: Northing (metre)\n",
       "Area of Use:\n",
       "- name: United States (USA) - CONUS onshore - Alabama; Arizona; Arkansas; California; Colorado; Connecticut; Delaware; Florida; Georgia; Idaho; Illinois; Indiana; Iowa; Kansas; Kentucky; Louisiana; Maine; Maryland; Massachusetts; Michigan; Minnesota; Mississippi; Missouri; Montana; Nebraska; Nevada; New Hampshire; New Jersey; New Mexico; New York; North Carolina; North Dakota; Ohio; Oklahoma; Oregon; Pennsylvania; Rhode Island; South Carolina; South Dakota; Tennessee; Texas; Utah; Vermont; Virginia; Washington; West Virginia; Wisconsin; Wyoming.\n",
       "- bounds: (-124.79, 24.41, -66.91, 49.38)\n",
       "Coordinate Operation:\n",
       "- name: Conus Albers\n",
       "- method: Albers Equal Area\n",
       "Datum: North American Datum 1983\n",
       "- Ellipsoid: GRS 1980\n",
       "- Prime Meridian: Greenwich"
      ]
     },
     "execution_count": 676,
     "metadata": {},
     "output_type": "execute_result"
    }
   ],
   "source": [
    "mdf.crs\n"
   ]
  },
  {
   "cell_type": "code",
   "execution_count": 677,
   "id": "a4d4df2c-af0d-4d4a-aec7-188f4ae0c071",
   "metadata": {},
   "outputs": [
    {
     "data": {
      "text/plain": [
       "Index(['xid_left', 'n_points', 'Max_HOUSE__left', 'grid_bldg_area_left',\n",
       "       'geometry', 'index_right', 'xid_right', 'Max_HOUSE__right',\n",
       "       'grid_bldg_area_right', 'centroid', 'distance', 'target_x', 'target_y',\n",
       "       'neighbor_x', 'neighbor_y', 'angle_in_degrees', 'direction',\n",
       "       'neighbor_volume'],\n",
       "      dtype='object')"
      ]
     },
     "execution_count": 677,
     "metadata": {},
     "output_type": "execute_result"
    }
   ],
   "source": [
    "mdf.columns"
   ]
  },
  {
   "cell_type": "code",
   "execution_count": null,
   "id": "d61eae93-ba04-4126-b839-0f67a4297237",
   "metadata": {},
   "outputs": [],
   "source": []
  },
  {
   "cell_type": "code",
   "execution_count": null,
   "id": "c442d1a8-45e9-4a65-a4f9-30afe3ec11b6",
   "metadata": {},
   "outputs": [],
   "source": [
    "cents_ns, cents_ew, avgsa, nbarea, mean_ht_out, std_ht_out, awmh_out"
   ]
  },
  {
   "cell_type": "code",
   "execution_count": null,
   "id": "84eeeeeb-506b-4047-8199-410c4d6cd21b",
   "metadata": {},
   "outputs": [],
   "source": [
    "average_north_south_building_distances, average_east_west_building_distances, average_building_area, footprint_building_areas, average_building_heights, standard_deviation_building_heights, area_weighted_average_building_heights\n"
   ]
  },
  {
   "cell_type": "code",
   "execution_count": 653,
   "id": "900393f0-cdce-4e8a-92aa-5873ea16180c",
   "metadata": {},
   "outputs": [
    {
     "data": {
      "text/plain": [
       "([0.0,\n",
       "  2.3276996996996995,\n",
       "  2.399764705882353,\n",
       "  2.399764705882353,\n",
       "  0.0,\n",
       "  22.250012153380624,\n",
       "  12.915654699779944,\n",
       "  11.87926545503455,\n",
       "  12.565421643659253,\n",
       "  17.6147326651613],\n",
       " [0.0,\n",
       "  2.3276996996996995,\n",
       "  2.399764705882353,\n",
       "  2.399764705882353,\n",
       "  0.0,\n",
       "  25.41,\n",
       "  11.99,\n",
       "  12.58,\n",
       "  11.862382412007188,\n",
       "  12.0])"
      ]
     },
     "execution_count": 653,
     "metadata": {},
     "output_type": "execute_result"
    }
   ],
   "source": [
    "awmh_out[:10], area_weighted_average_building_heights[:10]"
   ]
  },
  {
   "cell_type": "code",
   "execution_count": 646,
   "id": "4b56f3c9-3b76-4205-a0c1-e0c1cc94e28a",
   "metadata": {},
   "outputs": [
    {
     "name": "stdout",
     "output_type": "stream",
     "text": [
      "1: ['0.00000000000', 52.0]\n",
      "2: ['0.00000000000', 416.25]\n",
      "3: ['2.66000000000', 403.75]\n",
      "4: ['2.66000000000', 403.75]\n",
      "5: ['0.00000000000', 70.75]\n",
      "6: ['25.41000000000', 9364.25]\n",
      "7: ['11.99000000000', 14314.25]\n",
      "8: ['12.58000000000', 11423.25]\n",
      "9: ['12.00000000000', 13018.5]\n",
      "10: ['12.00000000000', 13221.5]\n"
     ]
    }
   ],
   "source": [
    "for i in nbarea.keys():\n",
    "    if i <= 10:\n",
    "        print(f\"{i}: {nbarea[i]}\")\n",
    "    else:\n",
    "        break"
   ]
  },
  {
   "cell_type": "code",
   "execution_count": 645,
   "id": "0fc6356c-e665-46d3-b59a-25428bf626f7",
   "metadata": {},
   "outputs": [
    {
     "name": "stdout",
     "output_type": "stream",
     "text": [
      "1: [0.0, 52.0]\n",
      "2: [0.0, 416.25]\n",
      "3: [2.66, 403.75]\n",
      "4: [2.66, 403.75]\n",
      "5: [0.0, 70.75]\n",
      "6: [25.41, 8272.25]\n",
      "7: [11.99, 11274.25]\n",
      "8: [12.58, 5377.0]\n",
      "9: [12.0, 4730.5]\n",
      "10: [12.0, 4306.75]\n"
     ]
    }
   ],
   "source": [
    "for i in footprint_building_areas.keys():\n",
    "    if i <= 10:\n",
    "        print(f\"{i}: {footprint_building_areas[i]}\")\n",
    "    else:\n",
    "        break"
   ]
  },
  {
   "cell_type": "code",
   "execution_count": null,
   "id": "f1e2a09d-9691-49cf-9483-ab52bf2004b8",
   "metadata": {},
   "outputs": [],
   "source": []
  },
  {
   "cell_type": "code",
   "execution_count": null,
   "id": "4552a1ae-ceca-4089-83c5-ce343a3aa8fc",
   "metadata": {},
   "outputs": [],
   "source": []
  },
  {
   "cell_type": "code",
   "execution_count": null,
   "id": "ad174e5e-3bf2-4e5d-b681-65a1bac68256",
   "metadata": {},
   "outputs": [],
   "source": []
  },
  {
   "cell_type": "code",
   "execution_count": null,
   "id": "1a1a638d-4217-4961-9bb3-e1e6c880e424",
   "metadata": {},
   "outputs": [],
   "source": []
  },
  {
   "cell_type": "code",
   "execution_count": 470,
   "id": "22052268-1533-4a02-b53d-9d4bb944c6e8",
   "metadata": {},
   "outputs": [],
   "source": [
    "# get a count of the number of points in each polygon\n",
    "gdf['n_points'] = gdf.geometry.exterior.apply(count_points_in_polygon)\n"
   ]
  },
  {
   "cell_type": "code",
   "execution_count": 471,
   "id": "a5bdfc08-ada6-4964-8969-f3f00dc9b1a3",
   "metadata": {},
   "outputs": [],
   "source": [
    "gxf = gdf[[\"xid\", \"n_points\", height_field, \"grid_bldg_area\", \"geometry\"]].copy()"
   ]
  },
  {
   "cell_type": "code",
   "execution_count": 472,
   "id": "3f76c8ad-7a4d-4f4f-a625-4c85001d8365",
   "metadata": {},
   "outputs": [
    {
     "data": {
      "text/html": [
       "<div>\n",
       "<style scoped>\n",
       "    .dataframe tbody tr th:only-of-type {\n",
       "        vertical-align: middle;\n",
       "    }\n",
       "\n",
       "    .dataframe tbody tr th {\n",
       "        vertical-align: top;\n",
       "    }\n",
       "\n",
       "    .dataframe thead th {\n",
       "        text-align: right;\n",
       "    }\n",
       "</style>\n",
       "<table border=\"1\" class=\"dataframe\">\n",
       "  <thead>\n",
       "    <tr style=\"text-align: right;\">\n",
       "      <th></th>\n",
       "      <th>xid</th>\n",
       "      <th>n_points</th>\n",
       "      <th>Max_HOUSE_</th>\n",
       "      <th>grid_bldg_area</th>\n",
       "      <th>geometry</th>\n",
       "    </tr>\n",
       "  </thead>\n",
       "  <tbody>\n",
       "    <tr>\n",
       "      <th>0</th>\n",
       "      <td>1</td>\n",
       "      <td>9</td>\n",
       "      <td>0.00</td>\n",
       "      <td>12.50</td>\n",
       "      <td>POLYGON ((1618111.652 1922706.443, 1618109.381...</td>\n",
       "    </tr>\n",
       "    <tr>\n",
       "      <th>1</th>\n",
       "      <td>2</td>\n",
       "      <td>7</td>\n",
       "      <td>0.00</td>\n",
       "      <td>39.50</td>\n",
       "      <td>POLYGON ((1618092.351 1922752.255, 1618088.410...</td>\n",
       "    </tr>\n",
       "    <tr>\n",
       "      <th>2</th>\n",
       "      <td>3</td>\n",
       "      <td>22</td>\n",
       "      <td>2.66</td>\n",
       "      <td>326.50</td>\n",
       "      <td>POLYGON ((1618052.020 1922797.834, 1618051.749...</td>\n",
       "    </tr>\n",
       "    <tr>\n",
       "      <th>3</th>\n",
       "      <td>4</td>\n",
       "      <td>5</td>\n",
       "      <td>2.66</td>\n",
       "      <td>37.75</td>\n",
       "      <td>POLYGON ((1618059.647 1922806.024, 1618058.415...</td>\n",
       "    </tr>\n",
       "    <tr>\n",
       "      <th>4</th>\n",
       "      <td>5</td>\n",
       "      <td>19</td>\n",
       "      <td>0.00</td>\n",
       "      <td>70.75</td>\n",
       "      <td>POLYGON ((1617996.818 1922869.925, 1617997.292...</td>\n",
       "    </tr>\n",
       "  </tbody>\n",
       "</table>\n",
       "</div>"
      ],
      "text/plain": [
       "   xid  n_points  Max_HOUSE_  grid_bldg_area  \\\n",
       "0    1         9        0.00           12.50   \n",
       "1    2         7        0.00           39.50   \n",
       "2    3        22        2.66          326.50   \n",
       "3    4         5        2.66           37.75   \n",
       "4    5        19        0.00           70.75   \n",
       "\n",
       "                                            geometry  \n",
       "0  POLYGON ((1618111.652 1922706.443, 1618109.381...  \n",
       "1  POLYGON ((1618092.351 1922752.255, 1618088.410...  \n",
       "2  POLYGON ((1618052.020 1922797.834, 1618051.749...  \n",
       "3  POLYGON ((1618059.647 1922806.024, 1618058.415...  \n",
       "4  POLYGON ((1617996.818 1922869.925, 1617997.292...  "
      ]
     },
     "execution_count": 472,
     "metadata": {},
     "output_type": "execute_result"
    }
   ],
   "source": [
    "gxf.head()"
   ]
  },
  {
   "cell_type": "code",
   "execution_count": 473,
   "id": "00f2c57b-6011-412e-acda-9e3252269468",
   "metadata": {},
   "outputs": [
    {
     "data": {
      "text/plain": [
       "<AxesSubplot:>"
      ]
     },
     "execution_count": 473,
     "metadata": {},
     "output_type": "execute_result"
    },
    {
     "data": {
      "image/png": "[encoded data removed]",
      "text/plain": [
       "<Figure size 432x288 with 1 Axes>"
      ]
     },
     "metadata": {
      "needs_background": "light"
     },
     "output_type": "display_data"
    }
   ],
   "source": [
    "gdf.iloc[0:4].geometry.plot()"
   ]
  },
  {
   "cell_type": "code",
   "execution_count": 474,
   "id": "8414f702-f9a8-4aac-aba6-de6b211b40d1",
   "metadata": {},
   "outputs": [
    {
     "data": {
      "text/plain": [
       "<AxesSubplot:>"
      ]
     },
     "execution_count": 474,
     "metadata": {},
     "output_type": "execute_result"
    },
    {
     "data": {
      "image/png": "[encoded data removed]",
      "text/plain": [
       "<Figure size 432x288 with 1 Axes>"
      ]
     },
     "metadata": {
      "needs_background": "light"
     },
     "output_type": "display_data"
    }
   ],
   "source": [
    "gdf.iloc[0:4].geometry.centroid.plot()"
   ]
  },
  {
   "cell_type": "code",
   "execution_count": 666,
   "id": "2a178f7d-3f6c-4de6-8421-db55f79a6c9a",
   "metadata": {},
   "outputs": [
    {
     "data": {
      "text/plain": [
       "<AxesSubplot:>"
      ]
     },
     "execution_count": 666,
     "metadata": {},
     "output_type": "execute_result"
    },
    {
     "data": {
      "image/png": "[encoded data removed]",
      "text/plain": [
       "<Figure size 432x288 with 1 Axes>"
      ]
     },
     "metadata": {
      "needs_background": "light"
     },
     "output_type": "display_data"
    }
   ],
   "source": [
    "# Note cap_style: round = 1, flat = 2, square = 3\n",
    "# buffer = points.buffer(2, cap_style = 3)\n",
    "\n",
    "gdf.iloc[0:4].geometry.centroid.buffer(10, cap_style=3).plot()"
   ]
  },
  {
   "cell_type": "code",
   "execution_count": 476,
   "id": "a869673b-4475-4f76-b36e-ad24286056a0",
   "metadata": {},
   "outputs": [
    {
     "data": {
      "text/plain": [
       "141.4213562373095"
      ]
     },
     "execution_count": 476,
     "metadata": {},
     "output_type": "execute_result"
    }
   ],
   "source": [
    "# when using a 100 pixel radius to square buffer there can only be a near centroid intersecting at the hypotenuse of a quadrant\n",
    "max_hypotenuse = np.sqrt(100**2 + 100**2)\n",
    "\n",
    "max_hypotenuse\n"
   ]
  },
  {
   "cell_type": "code",
   "execution_count": 477,
   "id": "4bf83c64-12f1-4848-8dd7-fdea4e5ff779",
   "metadata": {},
   "outputs": [
    {
     "data": {
      "text/html": [
       "<div>\n",
       "<style scoped>\n",
       "    .dataframe tbody tr th:only-of-type {\n",
       "        vertical-align: middle;\n",
       "    }\n",
       "\n",
       "    .dataframe tbody tr th {\n",
       "        vertical-align: top;\n",
       "    }\n",
       "\n",
       "    .dataframe thead th {\n",
       "        text-align: right;\n",
       "    }\n",
       "</style>\n",
       "<table border=\"1\" class=\"dataframe\">\n",
       "  <thead>\n",
       "    <tr style=\"text-align: right;\">\n",
       "      <th></th>\n",
       "      <th>xid</th>\n",
       "      <th>n_points</th>\n",
       "      <th>Max_HOUSE_</th>\n",
       "      <th>grid_bldg_area</th>\n",
       "      <th>geometry</th>\n",
       "    </tr>\n",
       "  </thead>\n",
       "  <tbody>\n",
       "    <tr>\n",
       "      <th>0</th>\n",
       "      <td>1</td>\n",
       "      <td>9</td>\n",
       "      <td>0.00</td>\n",
       "      <td>12.50</td>\n",
       "      <td>POLYGON ((1618111.652 1922706.443, 1618109.381...</td>\n",
       "    </tr>\n",
       "    <tr>\n",
       "      <th>1</th>\n",
       "      <td>2</td>\n",
       "      <td>7</td>\n",
       "      <td>0.00</td>\n",
       "      <td>39.50</td>\n",
       "      <td>POLYGON ((1618092.351 1922752.255, 1618088.410...</td>\n",
       "    </tr>\n",
       "    <tr>\n",
       "      <th>2</th>\n",
       "      <td>3</td>\n",
       "      <td>22</td>\n",
       "      <td>2.66</td>\n",
       "      <td>326.50</td>\n",
       "      <td>POLYGON ((1618052.020 1922797.834, 1618051.749...</td>\n",
       "    </tr>\n",
       "    <tr>\n",
       "      <th>3</th>\n",
       "      <td>4</td>\n",
       "      <td>5</td>\n",
       "      <td>2.66</td>\n",
       "      <td>37.75</td>\n",
       "      <td>POLYGON ((1618059.647 1922806.024, 1618058.415...</td>\n",
       "    </tr>\n",
       "    <tr>\n",
       "      <th>4</th>\n",
       "      <td>5</td>\n",
       "      <td>19</td>\n",
       "      <td>0.00</td>\n",
       "      <td>70.75</td>\n",
       "      <td>POLYGON ((1617996.818 1922869.925, 1617997.292...</td>\n",
       "    </tr>\n",
       "  </tbody>\n",
       "</table>\n",
       "</div>"
      ],
      "text/plain": [
       "   xid  n_points  Max_HOUSE_  grid_bldg_area  \\\n",
       "0    1         9        0.00           12.50   \n",
       "1    2         7        0.00           39.50   \n",
       "2    3        22        2.66          326.50   \n",
       "3    4         5        2.66           37.75   \n",
       "4    5        19        0.00           70.75   \n",
       "\n",
       "                                            geometry  \n",
       "0  POLYGON ((1618111.652 1922706.443, 1618109.381...  \n",
       "1  POLYGON ((1618092.351 1922752.255, 1618088.410...  \n",
       "2  POLYGON ((1618052.020 1922797.834, 1618051.749...  \n",
       "3  POLYGON ((1618059.647 1922806.024, 1618058.415...  \n",
       "4  POLYGON ((1617996.818 1922869.925, 1617997.292...  "
      ]
     },
     "execution_count": 477,
     "metadata": {},
     "output_type": "execute_result"
    }
   ],
   "source": [
    "gxf.head()"
   ]
  },
  {
   "cell_type": "code",
   "execution_count": 478,
   "id": "9c7902f5-4ede-427a-b217-e0822de86959",
   "metadata": {},
   "outputs": [
    {
     "data": {
      "text/html": [
       "<div>\n",
       "<style scoped>\n",
       "    .dataframe tbody tr th:only-of-type {\n",
       "        vertical-align: middle;\n",
       "    }\n",
       "\n",
       "    .dataframe tbody tr th {\n",
       "        vertical-align: top;\n",
       "    }\n",
       "\n",
       "    .dataframe thead th {\n",
       "        text-align: right;\n",
       "    }\n",
       "</style>\n",
       "<table border=\"1\" class=\"dataframe\">\n",
       "  <thead>\n",
       "    <tr style=\"text-align: right;\">\n",
       "      <th></th>\n",
       "      <th>xid</th>\n",
       "      <th>n_points</th>\n",
       "      <th>Max_HOUSE_</th>\n",
       "      <th>grid_bldg_area</th>\n",
       "      <th>geometry</th>\n",
       "    </tr>\n",
       "  </thead>\n",
       "  <tbody>\n",
       "    <tr>\n",
       "      <th>0</th>\n",
       "      <td>1</td>\n",
       "      <td>9</td>\n",
       "      <td>0.00</td>\n",
       "      <td>12.50</td>\n",
       "      <td>POLYGON ((1618209.423 1922806.987, 1618209.423...</td>\n",
       "    </tr>\n",
       "    <tr>\n",
       "      <th>1</th>\n",
       "      <td>2</td>\n",
       "      <td>7</td>\n",
       "      <td>0.00</td>\n",
       "      <td>39.50</td>\n",
       "      <td>POLYGON ((1618189.687 1922854.657, 1618189.687...</td>\n",
       "    </tr>\n",
       "    <tr>\n",
       "      <th>2</th>\n",
       "      <td>3</td>\n",
       "      <td>22</td>\n",
       "      <td>2.66</td>\n",
       "      <td>326.50</td>\n",
       "      <td>POLYGON ((1618156.329 1922888.642, 1618156.329...</td>\n",
       "    </tr>\n",
       "    <tr>\n",
       "      <th>3</th>\n",
       "      <td>4</td>\n",
       "      <td>5</td>\n",
       "      <td>2.66</td>\n",
       "      <td>37.75</td>\n",
       "      <td>POLYGON ((1618156.162 1922903.767, 1618156.162...</td>\n",
       "    </tr>\n",
       "    <tr>\n",
       "      <th>4</th>\n",
       "      <td>5</td>\n",
       "      <td>19</td>\n",
       "      <td>0.00</td>\n",
       "      <td>70.75</td>\n",
       "      <td>POLYGON ((1618097.945 1922974.311, 1618097.945...</td>\n",
       "    </tr>\n",
       "  </tbody>\n",
       "</table>\n",
       "</div>"
      ],
      "text/plain": [
       "   xid  n_points  Max_HOUSE_  grid_bldg_area  \\\n",
       "0    1         9        0.00           12.50   \n",
       "1    2         7        0.00           39.50   \n",
       "2    3        22        2.66          326.50   \n",
       "3    4         5        2.66           37.75   \n",
       "4    5        19        0.00           70.75   \n",
       "\n",
       "                                            geometry  \n",
       "0  POLYGON ((1618209.423 1922806.987, 1618209.423...  \n",
       "1  POLYGON ((1618189.687 1922854.657, 1618189.687...  \n",
       "2  POLYGON ((1618156.329 1922888.642, 1618156.329...  \n",
       "3  POLYGON ((1618156.162 1922903.767, 1618156.162...  \n",
       "4  POLYGON ((1618097.945 1922974.311, 1618097.945...  "
      ]
     },
     "execution_count": 478,
     "metadata": {},
     "output_type": "execute_result"
    }
   ],
   "source": [
    "gbf = gxf.copy()\n",
    "gbf[\"geometry\"] =  gbf.geometry.centroid.buffer(100, cap_style=3)\n",
    "\n",
    "gbf.head()\n"
   ]
  },
  {
   "cell_type": "code",
   "execution_count": 479,
   "id": "1e744d40-751d-4644-bc56-f77efa7b856d",
   "metadata": {},
   "outputs": [
    {
     "data": {
      "text/html": [
       "<div>\n",
       "<style scoped>\n",
       "    .dataframe tbody tr th:only-of-type {\n",
       "        vertical-align: middle;\n",
       "    }\n",
       "\n",
       "    .dataframe tbody tr th {\n",
       "        vertical-align: top;\n",
       "    }\n",
       "\n",
       "    .dataframe thead th {\n",
       "        text-align: right;\n",
       "    }\n",
       "</style>\n",
       "<table border=\"1\" class=\"dataframe\">\n",
       "  <thead>\n",
       "    <tr style=\"text-align: right;\">\n",
       "      <th></th>\n",
       "      <th>xid</th>\n",
       "      <th>Max_HOUSE_</th>\n",
       "      <th>grid_bldg_area</th>\n",
       "      <th>geometry</th>\n",
       "    </tr>\n",
       "  </thead>\n",
       "  <tbody>\n",
       "    <tr>\n",
       "      <th>0</th>\n",
       "      <td>1</td>\n",
       "      <td>0.00</td>\n",
       "      <td>12.50</td>\n",
       "      <td>POINT (1618109.423 1922706.987)</td>\n",
       "    </tr>\n",
       "    <tr>\n",
       "      <th>1</th>\n",
       "      <td>2</td>\n",
       "      <td>0.00</td>\n",
       "      <td>39.50</td>\n",
       "      <td>POINT (1618089.687 1922754.657)</td>\n",
       "    </tr>\n",
       "    <tr>\n",
       "      <th>2</th>\n",
       "      <td>3</td>\n",
       "      <td>2.66</td>\n",
       "      <td>326.50</td>\n",
       "      <td>POINT (1618056.329 1922788.642)</td>\n",
       "    </tr>\n",
       "    <tr>\n",
       "      <th>3</th>\n",
       "      <td>4</td>\n",
       "      <td>2.66</td>\n",
       "      <td>37.75</td>\n",
       "      <td>POINT (1618056.162 1922803.767)</td>\n",
       "    </tr>\n",
       "    <tr>\n",
       "      <th>4</th>\n",
       "      <td>5</td>\n",
       "      <td>0.00</td>\n",
       "      <td>70.75</td>\n",
       "      <td>POINT (1617997.945 1922874.311)</td>\n",
       "    </tr>\n",
       "  </tbody>\n",
       "</table>\n",
       "</div>"
      ],
      "text/plain": [
       "   xid  Max_HOUSE_  grid_bldg_area                         geometry\n",
       "0    1        0.00           12.50  POINT (1618109.423 1922706.987)\n",
       "1    2        0.00           39.50  POINT (1618089.687 1922754.657)\n",
       "2    3        2.66          326.50  POINT (1618056.329 1922788.642)\n",
       "3    4        2.66           37.75  POINT (1618056.162 1922803.767)\n",
       "4    5        0.00           70.75  POINT (1617997.945 1922874.311)"
      ]
     },
     "execution_count": 479,
     "metadata": {},
     "output_type": "execute_result"
    }
   ],
   "source": [
    "gpt = gxf[[\"xid\", height_field, \"grid_bldg_area\", \"geometry\"]].copy()\n",
    "gpt[\"geometry\"] = gpt.geometry.centroid\n",
    "\n",
    "gpt.head()\n"
   ]
  },
  {
   "cell_type": "code",
   "execution_count": 500,
   "id": "b1cdd423-08cd-41ca-ad54-ff7bde67c21f",
   "metadata": {},
   "outputs": [],
   "source": [
    "mdf = gpd.sjoin(gbf, gpt, how=\"inner\", predicate='intersects')\n",
    "\n",
    "# modified height field names after merge\n",
    "target_height_field = f\"{height_field}_left\"\n",
    "neighbor_height_field = f\"{height_field}_right\"\n"
   ]
  },
  {
   "cell_type": "code",
   "execution_count": 503,
   "id": "6e264ea8-388f-47d4-a67b-99a13f30298e",
   "metadata": {},
   "outputs": [
    {
     "data": {
      "text/html": [
       "<div>\n",
       "<style scoped>\n",
       "    .dataframe tbody tr th:only-of-type {\n",
       "        vertical-align: middle;\n",
       "    }\n",
       "\n",
       "    .dataframe tbody tr th {\n",
       "        vertical-align: top;\n",
       "    }\n",
       "\n",
       "    .dataframe thead th {\n",
       "        text-align: right;\n",
       "    }\n",
       "</style>\n",
       "<table border=\"1\" class=\"dataframe\">\n",
       "  <thead>\n",
       "    <tr style=\"text-align: right;\">\n",
       "      <th></th>\n",
       "      <th>xid_left</th>\n",
       "      <th>n_points</th>\n",
       "      <th>Max_HOUSE__left</th>\n",
       "      <th>grid_bldg_area_left</th>\n",
       "      <th>geometry</th>\n",
       "      <th>index_right</th>\n",
       "      <th>xid_right</th>\n",
       "      <th>Max_HOUSE__right</th>\n",
       "      <th>grid_bldg_area_right</th>\n",
       "    </tr>\n",
       "  </thead>\n",
       "  <tbody>\n",
       "    <tr>\n",
       "      <th>0</th>\n",
       "      <td>1</td>\n",
       "      <td>9</td>\n",
       "      <td>0.0</td>\n",
       "      <td>12.5</td>\n",
       "      <td>POLYGON ((1618209.423 1922806.987, 1618209.423...</td>\n",
       "      <td>0</td>\n",
       "      <td>1</td>\n",
       "      <td>0.00</td>\n",
       "      <td>12.50</td>\n",
       "    </tr>\n",
       "    <tr>\n",
       "      <th>0</th>\n",
       "      <td>1</td>\n",
       "      <td>9</td>\n",
       "      <td>0.0</td>\n",
       "      <td>12.5</td>\n",
       "      <td>POLYGON ((1618209.423 1922806.987, 1618209.423...</td>\n",
       "      <td>1</td>\n",
       "      <td>2</td>\n",
       "      <td>0.00</td>\n",
       "      <td>39.50</td>\n",
       "    </tr>\n",
       "    <tr>\n",
       "      <th>0</th>\n",
       "      <td>1</td>\n",
       "      <td>9</td>\n",
       "      <td>0.0</td>\n",
       "      <td>12.5</td>\n",
       "      <td>POLYGON ((1618209.423 1922806.987, 1618209.423...</td>\n",
       "      <td>2</td>\n",
       "      <td>3</td>\n",
       "      <td>2.66</td>\n",
       "      <td>326.50</td>\n",
       "    </tr>\n",
       "    <tr>\n",
       "      <th>0</th>\n",
       "      <td>1</td>\n",
       "      <td>9</td>\n",
       "      <td>0.0</td>\n",
       "      <td>12.5</td>\n",
       "      <td>POLYGON ((1618209.423 1922806.987, 1618209.423...</td>\n",
       "      <td>3</td>\n",
       "      <td>4</td>\n",
       "      <td>2.66</td>\n",
       "      <td>37.75</td>\n",
       "    </tr>\n",
       "  </tbody>\n",
       "</table>\n",
       "</div>"
      ],
      "text/plain": [
       "   xid_left  n_points  Max_HOUSE__left  grid_bldg_area_left  \\\n",
       "0         1         9              0.0                 12.5   \n",
       "0         1         9              0.0                 12.5   \n",
       "0         1         9              0.0                 12.5   \n",
       "0         1         9              0.0                 12.5   \n",
       "\n",
       "                                            geometry  index_right  xid_right  \\\n",
       "0  POLYGON ((1618209.423 1922806.987, 1618209.423...            0          1   \n",
       "0  POLYGON ((1618209.423 1922806.987, 1618209.423...            1          2   \n",
       "0  POLYGON ((1618209.423 1922806.987, 1618209.423...            2          3   \n",
       "0  POLYGON ((1618209.423 1922806.987, 1618209.423...            3          4   \n",
       "\n",
       "   Max_HOUSE__right  grid_bldg_area_right  \n",
       "0              0.00                 12.50  \n",
       "0              0.00                 39.50  \n",
       "0              2.66                326.50  \n",
       "0              2.66                 37.75  "
      ]
     },
     "execution_count": 503,
     "metadata": {},
     "output_type": "execute_result"
    }
   ],
   "source": [
    "mdf.loc[mdf[\"xid_left\"] == 1]"
   ]
  },
  {
   "cell_type": "code",
   "execution_count": 504,
   "id": "d9c24d4c-da81-42b6-b2c8-afacc33c7824",
   "metadata": {},
   "outputs": [],
   "source": [
    "# get the regular geometry for each building\n",
    "xid_to_building_polygon = gxf.set_index(\"xid\").geometry.to_dict()\n"
   ]
  },
  {
   "cell_type": "code",
   "execution_count": 505,
   "id": "4dad7a6a-7b21-42c0-9eef-e07ea6b6fbf6",
   "metadata": {},
   "outputs": [],
   "source": [
    "# add it in place of the buffered geometry\n",
    "mdf[\"geometry\"] = mdf[\"xid_left\"].map(xid_to_building_polygon)\n"
   ]
  },
  {
   "cell_type": "code",
   "execution_count": 506,
   "id": "221f6048-e2f0-47e2-8c0e-e00b1ef11c45",
   "metadata": {},
   "outputs": [
    {
     "name": "stderr",
     "output_type": "stream",
     "text": [
      "/Users/d3y010/.pyenv/versions/3.9.4/envs/py3.9.4_naturf/lib/python3.9/site-packages/pandas/core/dtypes/cast.py:122: ShapelyDeprecationWarning: The array interface is deprecated and will no longer work in Shapely 2.0. Convert the '.coords' to a numpy array instead.\n",
      "  arr = construct_1d_object_array_from_listlike(values)\n"
     ]
    }
   ],
   "source": [
    "# add in the centroid geometry of each intersecting building from the buffer proximity analysis\n",
    "xid_to_neighbor_centroid = gpt.set_index(\"xid\").geometry.to_dict()\n",
    "\n",
    "mdf[\"centroid\"] = gpd.GeoSeries(mdf[\"xid_right\"].map(xid_to_neighbor_centroid), crs=mdf.crs)\n"
   ]
  },
  {
   "cell_type": "code",
   "execution_count": 507,
   "id": "ca4a5d06-434b-4073-b1d6-a92c33c1fd41",
   "metadata": {},
   "outputs": [
    {
     "data": {
      "text/html": [
       "<div>\n",
       "<style scoped>\n",
       "    .dataframe tbody tr th:only-of-type {\n",
       "        vertical-align: middle;\n",
       "    }\n",
       "\n",
       "    .dataframe tbody tr th {\n",
       "        vertical-align: top;\n",
       "    }\n",
       "\n",
       "    .dataframe thead th {\n",
       "        text-align: right;\n",
       "    }\n",
       "</style>\n",
       "<table border=\"1\" class=\"dataframe\">\n",
       "  <thead>\n",
       "    <tr style=\"text-align: right;\">\n",
       "      <th></th>\n",
       "      <th>xid_left</th>\n",
       "      <th>n_points</th>\n",
       "      <th>Max_HOUSE__left</th>\n",
       "      <th>grid_bldg_area_left</th>\n",
       "      <th>geometry</th>\n",
       "      <th>index_right</th>\n",
       "      <th>xid_right</th>\n",
       "      <th>Max_HOUSE__right</th>\n",
       "      <th>grid_bldg_area_right</th>\n",
       "      <th>centroid</th>\n",
       "    </tr>\n",
       "  </thead>\n",
       "  <tbody>\n",
       "    <tr>\n",
       "      <th>0</th>\n",
       "      <td>1</td>\n",
       "      <td>9</td>\n",
       "      <td>0.0</td>\n",
       "      <td>12.5</td>\n",
       "      <td>POLYGON ((1618111.652 1922706.443, 1618109.381...</td>\n",
       "      <td>0</td>\n",
       "      <td>1</td>\n",
       "      <td>0.00</td>\n",
       "      <td>12.50</td>\n",
       "      <td>POINT (1618109.423 1922706.987)</td>\n",
       "    </tr>\n",
       "    <tr>\n",
       "      <th>0</th>\n",
       "      <td>1</td>\n",
       "      <td>9</td>\n",
       "      <td>0.0</td>\n",
       "      <td>12.5</td>\n",
       "      <td>POLYGON ((1618111.652 1922706.443, 1618109.381...</td>\n",
       "      <td>1</td>\n",
       "      <td>2</td>\n",
       "      <td>0.00</td>\n",
       "      <td>39.50</td>\n",
       "      <td>POINT (1618089.687 1922754.657)</td>\n",
       "    </tr>\n",
       "    <tr>\n",
       "      <th>0</th>\n",
       "      <td>1</td>\n",
       "      <td>9</td>\n",
       "      <td>0.0</td>\n",
       "      <td>12.5</td>\n",
       "      <td>POLYGON ((1618111.652 1922706.443, 1618109.381...</td>\n",
       "      <td>2</td>\n",
       "      <td>3</td>\n",
       "      <td>2.66</td>\n",
       "      <td>326.50</td>\n",
       "      <td>POINT (1618056.329 1922788.642)</td>\n",
       "    </tr>\n",
       "    <tr>\n",
       "      <th>0</th>\n",
       "      <td>1</td>\n",
       "      <td>9</td>\n",
       "      <td>0.0</td>\n",
       "      <td>12.5</td>\n",
       "      <td>POLYGON ((1618111.652 1922706.443, 1618109.381...</td>\n",
       "      <td>3</td>\n",
       "      <td>4</td>\n",
       "      <td>2.66</td>\n",
       "      <td>37.75</td>\n",
       "      <td>POINT (1618056.162 1922803.767)</td>\n",
       "    </tr>\n",
       "  </tbody>\n",
       "</table>\n",
       "</div>"
      ],
      "text/plain": [
       "   xid_left  n_points  Max_HOUSE__left  grid_bldg_area_left  \\\n",
       "0         1         9              0.0                 12.5   \n",
       "0         1         9              0.0                 12.5   \n",
       "0         1         9              0.0                 12.5   \n",
       "0         1         9              0.0                 12.5   \n",
       "\n",
       "                                            geometry  index_right  xid_right  \\\n",
       "0  POLYGON ((1618111.652 1922706.443, 1618109.381...            0          1   \n",
       "0  POLYGON ((1618111.652 1922706.443, 1618109.381...            1          2   \n",
       "0  POLYGON ((1618111.652 1922706.443, 1618109.381...            2          3   \n",
       "0  POLYGON ((1618111.652 1922706.443, 1618109.381...            3          4   \n",
       "\n",
       "   Max_HOUSE__right  grid_bldg_area_right                         centroid  \n",
       "0              0.00                 12.50  POINT (1618109.423 1922706.987)  \n",
       "0              0.00                 39.50  POINT (1618089.687 1922754.657)  \n",
       "0              2.66                326.50  POINT (1618056.329 1922788.642)  \n",
       "0              2.66                 37.75  POINT (1618056.162 1922803.767)  "
      ]
     },
     "execution_count": 507,
     "metadata": {},
     "output_type": "execute_result"
    }
   ],
   "source": [
    "mdf.loc[mdf[\"xid_left\"] == 1]"
   ]
  },
  {
   "cell_type": "code",
   "execution_count": 508,
   "id": "28e00011-00d5-460c-8f0c-b1fff5f6c9b4",
   "metadata": {},
   "outputs": [],
   "source": [
    "# calculate the distance from the target building to each neighbor\n",
    "mdf[\"distance\"] = mdf.geometry.centroid.distance(mdf[\"centroid\"])\n"
   ]
  },
  {
   "cell_type": "code",
   "execution_count": 509,
   "id": "38d9ad12-9a66-42a2-b941-cd2f7f4965f5",
   "metadata": {},
   "outputs": [
    {
     "data": {
      "text/html": [
       "<div>\n",
       "<style scoped>\n",
       "    .dataframe tbody tr th:only-of-type {\n",
       "        vertical-align: middle;\n",
       "    }\n",
       "\n",
       "    .dataframe tbody tr th {\n",
       "        vertical-align: top;\n",
       "    }\n",
       "\n",
       "    .dataframe thead th {\n",
       "        text-align: right;\n",
       "    }\n",
       "</style>\n",
       "<table border=\"1\" class=\"dataframe\">\n",
       "  <thead>\n",
       "    <tr style=\"text-align: right;\">\n",
       "      <th></th>\n",
       "      <th>xid_left</th>\n",
       "      <th>n_points</th>\n",
       "      <th>Max_HOUSE__left</th>\n",
       "      <th>grid_bldg_area_left</th>\n",
       "      <th>geometry</th>\n",
       "      <th>index_right</th>\n",
       "      <th>xid_right</th>\n",
       "      <th>Max_HOUSE__right</th>\n",
       "      <th>grid_bldg_area_right</th>\n",
       "      <th>centroid</th>\n",
       "      <th>distance</th>\n",
       "    </tr>\n",
       "  </thead>\n",
       "  <tbody>\n",
       "    <tr>\n",
       "      <th>0</th>\n",
       "      <td>1</td>\n",
       "      <td>9</td>\n",
       "      <td>0.0</td>\n",
       "      <td>12.5</td>\n",
       "      <td>POLYGON ((1618111.652 1922706.443, 1618109.381...</td>\n",
       "      <td>0</td>\n",
       "      <td>1</td>\n",
       "      <td>0.00</td>\n",
       "      <td>12.50</td>\n",
       "      <td>POINT (1618109.423 1922706.987)</td>\n",
       "      <td>0.000000</td>\n",
       "    </tr>\n",
       "    <tr>\n",
       "      <th>0</th>\n",
       "      <td>1</td>\n",
       "      <td>9</td>\n",
       "      <td>0.0</td>\n",
       "      <td>12.5</td>\n",
       "      <td>POLYGON ((1618111.652 1922706.443, 1618109.381...</td>\n",
       "      <td>1</td>\n",
       "      <td>2</td>\n",
       "      <td>0.00</td>\n",
       "      <td>39.50</td>\n",
       "      <td>POINT (1618089.687 1922754.657)</td>\n",
       "      <td>51.593756</td>\n",
       "    </tr>\n",
       "    <tr>\n",
       "      <th>0</th>\n",
       "      <td>1</td>\n",
       "      <td>9</td>\n",
       "      <td>0.0</td>\n",
       "      <td>12.5</td>\n",
       "      <td>POLYGON ((1618111.652 1922706.443, 1618109.381...</td>\n",
       "      <td>2</td>\n",
       "      <td>3</td>\n",
       "      <td>2.66</td>\n",
       "      <td>326.50</td>\n",
       "      <td>POINT (1618056.329 1922788.642)</td>\n",
       "      <td>97.398702</td>\n",
       "    </tr>\n",
       "    <tr>\n",
       "      <th>0</th>\n",
       "      <td>1</td>\n",
       "      <td>9</td>\n",
       "      <td>0.0</td>\n",
       "      <td>12.5</td>\n",
       "      <td>POLYGON ((1618111.652 1922706.443, 1618109.381...</td>\n",
       "      <td>3</td>\n",
       "      <td>4</td>\n",
       "      <td>2.66</td>\n",
       "      <td>37.75</td>\n",
       "      <td>POINT (1618056.162 1922803.767)</td>\n",
       "      <td>110.467540</td>\n",
       "    </tr>\n",
       "  </tbody>\n",
       "</table>\n",
       "</div>"
      ],
      "text/plain": [
       "   xid_left  n_points  Max_HOUSE__left  grid_bldg_area_left  \\\n",
       "0         1         9              0.0                 12.5   \n",
       "0         1         9              0.0                 12.5   \n",
       "0         1         9              0.0                 12.5   \n",
       "0         1         9              0.0                 12.5   \n",
       "\n",
       "                                            geometry  index_right  xid_right  \\\n",
       "0  POLYGON ((1618111.652 1922706.443, 1618109.381...            0          1   \n",
       "0  POLYGON ((1618111.652 1922706.443, 1618109.381...            1          2   \n",
       "0  POLYGON ((1618111.652 1922706.443, 1618109.381...            2          3   \n",
       "0  POLYGON ((1618111.652 1922706.443, 1618109.381...            3          4   \n",
       "\n",
       "   Max_HOUSE__right  grid_bldg_area_right                         centroid  \\\n",
       "0              0.00                 12.50  POINT (1618109.423 1922706.987)   \n",
       "0              0.00                 39.50  POINT (1618089.687 1922754.657)   \n",
       "0              2.66                326.50  POINT (1618056.329 1922788.642)   \n",
       "0              2.66                 37.75  POINT (1618056.162 1922803.767)   \n",
       "\n",
       "     distance  \n",
       "0    0.000000  \n",
       "0   51.593756  \n",
       "0   97.398702  \n",
       "0  110.467540  "
      ]
     },
     "execution_count": 509,
     "metadata": {},
     "output_type": "execute_result"
    }
   ],
   "source": [
    "mdf.loc[mdf[\"xid_left\"] == 1]\n"
   ]
  },
  {
   "cell_type": "code",
   "execution_count": 510,
   "id": "f4270560-0be1-4691-a4d8-13a1c2d58a58",
   "metadata": {},
   "outputs": [],
   "source": [
    "# generate the x, y of both target and neighboring buidings\n",
    "mdf[\"target_x\"] = mdf.geometry.centroid.x\n",
    "mdf[\"target_y\"] = mdf.geometry.centroid.y\n",
    "mdf[\"neighbor_x\"] = mdf[\"centroid\"].x\n",
    "mdf[\"neighbor_y\"] = mdf[\"centroid\"].y\n"
   ]
  },
  {
   "cell_type": "code",
   "execution_count": 511,
   "id": "879f31f5-f7ef-461a-b071-a6fbbe6fe7f5",
   "metadata": {},
   "outputs": [],
   "source": [
    "# calculate the angle in degrees of the neighbor building orientation to the target\n",
    "mdf[\"angle_in_degrees\"] = np.degrees(np.arctan2(mdf[\"neighbor_y\"] - mdf[\"target_y\"], mdf[\"neighbor_x\"] - mdf[\"target_x\"]))\n",
    "\n",
    "# adjust the angle to correspond to a circle where 0/360 degrees is directly east, and the degrees increase counter-clockwise\n",
    "mdf[\"angle_in_degrees\"] = np.where(mdf[\"angle_in_degrees\"] < 0, \n",
    "                                   mdf[\"angle_in_degrees\"] + DEGREES_IN_CIRCLE, \n",
    "                                   mdf[\"angle_in_degrees\"])\n"
   ]
  },
  {
   "cell_type": "code",
   "execution_count": 512,
   "id": "ebc767cd-06d0-440a-8a6e-cf1caa00ab78",
   "metadata": {},
   "outputs": [],
   "source": [
    "# initialize direction field as string\n",
    "mdf[\"direction\"] = \"\"\n",
    "\n",
    "# identify eastern orientation\n",
    "mdf[\"direction\"] = np.where((((SOUTHEAST_DEGREES <= mdf[\"angle_in_degrees\"]) & (mdf[\"angle_in_degrees\"] <= DEGREES_IN_CIRCLE)) \n",
    "                            | ((START_OF_CIRCLE_DEGREES <= mdf[\"angle_in_degrees\"]) & (mdf[\"angle_in_degrees\"] < NORTHEAST_DEGREES)))\n",
    "                            | ((NORTHWEST_DEGREES <= mdf[\"angle_in_degrees\"]) & (mdf[\"angle_in_degrees\"] < SOUTHWEST_DEGREES)),\n",
    "                           \"east_west\",\n",
    "                           mdf[\"direction\"])\n",
    "\n",
    "# # identify western orientation\n",
    "# mdf[\"direction\"] = np.where((NORTHWEST_DEGREES <= mdf[\"angle_in_degrees\"]) & (mdf[\"angle_in_degrees\"] < SOUTHWEST_DEGREES),\n",
    "#                            \"west\",\n",
    "#                            mdf[\"direction\"])\n",
    "\n",
    "# identify northern orientation\n",
    "mdf[\"direction\"] = np.where(((NORTHEAST_DEGREES <= mdf[\"angle_in_degrees\"]) & (mdf[\"angle_in_degrees\"] < NORTHWEST_DEGREES))\n",
    "                            | ((SOUTHWEST_DEGREES <= mdf[\"angle_in_degrees\"]) & (mdf[\"angle_in_degrees\"] < SOUTHEAST_DEGREES)),\n",
    "                           \"north_south\",\n",
    "                           mdf[\"direction\"])\n",
    "\n",
    "\n",
    "# # identify southern orientation\n",
    "# mdf[\"direction\"] = np.where((SOUTHWEST_DEGREES <= mdf[\"angle_in_degrees\"]) & (mdf[\"angle_in_degrees\"] < SOUTHEAST_DEGREES),\n",
    "#                            \"south\",\n",
    "#                            mdf[\"direction\"])\n"
   ]
  },
  {
   "cell_type": "code",
   "execution_count": 513,
   "id": "4e93510e-bb60-4412-9c1e-f060eab5541b",
   "metadata": {},
   "outputs": [
    {
     "data": {
      "text/html": [
       "<div>\n",
       "<style scoped>\n",
       "    .dataframe tbody tr th:only-of-type {\n",
       "        vertical-align: middle;\n",
       "    }\n",
       "\n",
       "    .dataframe tbody tr th {\n",
       "        vertical-align: top;\n",
       "    }\n",
       "\n",
       "    .dataframe thead th {\n",
       "        text-align: right;\n",
       "    }\n",
       "</style>\n",
       "<table border=\"1\" class=\"dataframe\">\n",
       "  <thead>\n",
       "    <tr style=\"text-align: right;\">\n",
       "      <th></th>\n",
       "      <th>xid_left</th>\n",
       "      <th>n_points</th>\n",
       "      <th>Max_HOUSE__left</th>\n",
       "      <th>grid_bldg_area_left</th>\n",
       "      <th>geometry</th>\n",
       "      <th>index_right</th>\n",
       "      <th>xid_right</th>\n",
       "      <th>Max_HOUSE__right</th>\n",
       "      <th>grid_bldg_area_right</th>\n",
       "      <th>centroid</th>\n",
       "      <th>distance</th>\n",
       "      <th>target_x</th>\n",
       "      <th>target_y</th>\n",
       "      <th>neighbor_x</th>\n",
       "      <th>neighbor_y</th>\n",
       "      <th>angle_in_degrees</th>\n",
       "      <th>direction</th>\n",
       "    </tr>\n",
       "  </thead>\n",
       "  <tbody>\n",
       "    <tr>\n",
       "      <th>0</th>\n",
       "      <td>1</td>\n",
       "      <td>9</td>\n",
       "      <td>0.0</td>\n",
       "      <td>12.5</td>\n",
       "      <td>POLYGON ((1618111.652 1922706.443, 1618109.381...</td>\n",
       "      <td>0</td>\n",
       "      <td>1</td>\n",
       "      <td>0.00</td>\n",
       "      <td>12.50</td>\n",
       "      <td>POINT (1618109.423 1922706.987)</td>\n",
       "      <td>0.000000</td>\n",
       "      <td>1.618109e+06</td>\n",
       "      <td>1.922707e+06</td>\n",
       "      <td>1.618109e+06</td>\n",
       "      <td>1.922707e+06</td>\n",
       "      <td>0.000000</td>\n",
       "      <td>east_west</td>\n",
       "    </tr>\n",
       "    <tr>\n",
       "      <th>0</th>\n",
       "      <td>1</td>\n",
       "      <td>9</td>\n",
       "      <td>0.0</td>\n",
       "      <td>12.5</td>\n",
       "      <td>POLYGON ((1618111.652 1922706.443, 1618109.381...</td>\n",
       "      <td>1</td>\n",
       "      <td>2</td>\n",
       "      <td>0.00</td>\n",
       "      <td>39.50</td>\n",
       "      <td>POINT (1618089.687 1922754.657)</td>\n",
       "      <td>51.593756</td>\n",
       "      <td>1.618109e+06</td>\n",
       "      <td>1.922707e+06</td>\n",
       "      <td>1.618090e+06</td>\n",
       "      <td>1.922755e+06</td>\n",
       "      <td>112.489477</td>\n",
       "      <td>north_south</td>\n",
       "    </tr>\n",
       "    <tr>\n",
       "      <th>0</th>\n",
       "      <td>1</td>\n",
       "      <td>9</td>\n",
       "      <td>0.0</td>\n",
       "      <td>12.5</td>\n",
       "      <td>POLYGON ((1618111.652 1922706.443, 1618109.381...</td>\n",
       "      <td>2</td>\n",
       "      <td>3</td>\n",
       "      <td>2.66</td>\n",
       "      <td>326.50</td>\n",
       "      <td>POINT (1618056.329 1922788.642)</td>\n",
       "      <td>97.398702</td>\n",
       "      <td>1.618109e+06</td>\n",
       "      <td>1.922707e+06</td>\n",
       "      <td>1.618056e+06</td>\n",
       "      <td>1.922789e+06</td>\n",
       "      <td>123.032756</td>\n",
       "      <td>north_south</td>\n",
       "    </tr>\n",
       "    <tr>\n",
       "      <th>0</th>\n",
       "      <td>1</td>\n",
       "      <td>9</td>\n",
       "      <td>0.0</td>\n",
       "      <td>12.5</td>\n",
       "      <td>POLYGON ((1618111.652 1922706.443, 1618109.381...</td>\n",
       "      <td>3</td>\n",
       "      <td>4</td>\n",
       "      <td>2.66</td>\n",
       "      <td>37.75</td>\n",
       "      <td>POINT (1618056.162 1922803.767)</td>\n",
       "      <td>110.467540</td>\n",
       "      <td>1.618109e+06</td>\n",
       "      <td>1.922707e+06</td>\n",
       "      <td>1.618056e+06</td>\n",
       "      <td>1.922804e+06</td>\n",
       "      <td>118.824970</td>\n",
       "      <td>north_south</td>\n",
       "    </tr>\n",
       "  </tbody>\n",
       "</table>\n",
       "</div>"
      ],
      "text/plain": [
       "   xid_left  n_points  Max_HOUSE__left  grid_bldg_area_left  \\\n",
       "0         1         9              0.0                 12.5   \n",
       "0         1         9              0.0                 12.5   \n",
       "0         1         9              0.0                 12.5   \n",
       "0         1         9              0.0                 12.5   \n",
       "\n",
       "                                            geometry  index_right  xid_right  \\\n",
       "0  POLYGON ((1618111.652 1922706.443, 1618109.381...            0          1   \n",
       "0  POLYGON ((1618111.652 1922706.443, 1618109.381...            1          2   \n",
       "0  POLYGON ((1618111.652 1922706.443, 1618109.381...            2          3   \n",
       "0  POLYGON ((1618111.652 1922706.443, 1618109.381...            3          4   \n",
       "\n",
       "   Max_HOUSE__right  grid_bldg_area_right                         centroid  \\\n",
       "0              0.00                 12.50  POINT (1618109.423 1922706.987)   \n",
       "0              0.00                 39.50  POINT (1618089.687 1922754.657)   \n",
       "0              2.66                326.50  POINT (1618056.329 1922788.642)   \n",
       "0              2.66                 37.75  POINT (1618056.162 1922803.767)   \n",
       "\n",
       "     distance      target_x      target_y    neighbor_x    neighbor_y  \\\n",
       "0    0.000000  1.618109e+06  1.922707e+06  1.618109e+06  1.922707e+06   \n",
       "0   51.593756  1.618109e+06  1.922707e+06  1.618090e+06  1.922755e+06   \n",
       "0   97.398702  1.618109e+06  1.922707e+06  1.618056e+06  1.922789e+06   \n",
       "0  110.467540  1.618109e+06  1.922707e+06  1.618056e+06  1.922804e+06   \n",
       "\n",
       "   angle_in_degrees    direction  \n",
       "0          0.000000    east_west  \n",
       "0        112.489477  north_south  \n",
       "0        123.032756  north_south  \n",
       "0        118.824970  north_south  "
      ]
     },
     "execution_count": 513,
     "metadata": {},
     "output_type": "execute_result"
    }
   ],
   "source": [
    "mdf.loc[mdf[\"xid_left\"] == 1]\n"
   ]
  },
  {
   "cell_type": "code",
   "execution_count": 515,
   "id": "aa217dae-beed-4efe-b5a6-0ad6fa59e1d2",
   "metadata": {},
   "outputs": [],
   "source": [
    "# calculates the area of all buildings within the plan area\n",
    "plan_area_dict = mdf.groupby(\"xid_left\")[\"grid_bldg_area_right\"].sum().to_dict()\n"
   ]
  },
  {
   "cell_type": "code",
   "execution_count": 516,
   "id": "fc0eb5c0-0f35-4ed7-ad07-03d478adb527",
   "metadata": {},
   "outputs": [],
   "source": [
    "# building height\n",
    "building_height_dict = mdf.groupby(\"xid_left\")[target_height_field].max().to_dict()\n"
   ]
  },
  {
   "cell_type": "code",
   "execution_count": 517,
   "id": "11565d44-728a-45aa-afe9-a83a88c0595f",
   "metadata": {},
   "outputs": [],
   "source": [
    "# add the height and plan_area to a dictonary where the key is the target building ID\n",
    "footprint_building_areas = {}\n",
    "for i in plan_area_dict.keys():\n",
    "    footprint_building_areas[i] = [building_height_dict[i], plan_area_dict[i]]\n"
   ]
  },
  {
   "cell_type": "code",
   "execution_count": 520,
   "id": "34eed104-e643-4d3b-9bc5-8f5a61410586",
   "metadata": {},
   "outputs": [],
   "source": [
    "average_building_heights = mdf.groupby(\"xid_left\")[neighbor_height_field].mean().tolist()\n",
    "\n",
    "standard_deviation_building_heights = mdf.groupby(\"xid_left\")[neighbor_height_field].std().tolist()\n"
   ]
  },
  {
   "cell_type": "code",
   "execution_count": 529,
   "id": "3f91c8e4-046e-43ae-907d-a85bc9367eb5",
   "metadata": {},
   "outputs": [
    {
     "data": {
      "text/html": [
       "<div>\n",
       "<style scoped>\n",
       "    .dataframe tbody tr th:only-of-type {\n",
       "        vertical-align: middle;\n",
       "    }\n",
       "\n",
       "    .dataframe tbody tr th {\n",
       "        vertical-align: top;\n",
       "    }\n",
       "\n",
       "    .dataframe thead th {\n",
       "        text-align: right;\n",
       "    }\n",
       "</style>\n",
       "<table border=\"1\" class=\"dataframe\">\n",
       "  <thead>\n",
       "    <tr style=\"text-align: right;\">\n",
       "      <th></th>\n",
       "      <th>xid_left</th>\n",
       "      <th>direction</th>\n",
       "      <th>distance</th>\n",
       "    </tr>\n",
       "  </thead>\n",
       "  <tbody>\n",
       "    <tr>\n",
       "      <th>0</th>\n",
       "      <td>1</td>\n",
       "      <td>east_west</td>\n",
       "      <td>0.000000</td>\n",
       "    </tr>\n",
       "    <tr>\n",
       "      <th>1</th>\n",
       "      <td>1</td>\n",
       "      <td>north_south</td>\n",
       "      <td>86.486666</td>\n",
       "    </tr>\n",
       "    <tr>\n",
       "      <th>2</th>\n",
       "      <td>2</td>\n",
       "      <td>east_west</td>\n",
       "      <td>0.000000</td>\n",
       "    </tr>\n",
       "    <tr>\n",
       "      <th>3</th>\n",
       "      <td>2</td>\n",
       "      <td>north_south</td>\n",
       "      <td>62.721452</td>\n",
       "    </tr>\n",
       "    <tr>\n",
       "      <th>4</th>\n",
       "      <td>3</td>\n",
       "      <td>east_west</td>\n",
       "      <td>44.489205</td>\n",
       "    </tr>\n",
       "    <tr>\n",
       "      <th>...</th>\n",
       "      <td>...</td>\n",
       "      <td>...</td>\n",
       "      <td>...</td>\n",
       "    </tr>\n",
       "    <tr>\n",
       "      <th>492</th>\n",
       "      <td>258</td>\n",
       "      <td>east_west</td>\n",
       "      <td>17.472561</td>\n",
       "    </tr>\n",
       "    <tr>\n",
       "      <th>493</th>\n",
       "      <td>258</td>\n",
       "      <td>north_south</td>\n",
       "      <td>85.311323</td>\n",
       "    </tr>\n",
       "    <tr>\n",
       "      <th>494</th>\n",
       "      <td>259</td>\n",
       "      <td>east_west</td>\n",
       "      <td>0.000000</td>\n",
       "    </tr>\n",
       "    <tr>\n",
       "      <th>495</th>\n",
       "      <td>260</td>\n",
       "      <td>east_west</td>\n",
       "      <td>55.640023</td>\n",
       "    </tr>\n",
       "    <tr>\n",
       "      <th>496</th>\n",
       "      <td>260</td>\n",
       "      <td>north_south</td>\n",
       "      <td>82.938764</td>\n",
       "    </tr>\n",
       "  </tbody>\n",
       "</table>\n",
       "<p>497 rows × 3 columns</p>\n",
       "</div>"
      ],
      "text/plain": [
       "     xid_left    direction   distance\n",
       "0           1    east_west   0.000000\n",
       "1           1  north_south  86.486666\n",
       "2           2    east_west   0.000000\n",
       "3           2  north_south  62.721452\n",
       "4           3    east_west  44.489205\n",
       "..        ...          ...        ...\n",
       "492       258    east_west  17.472561\n",
       "493       258  north_south  85.311323\n",
       "494       259    east_west   0.000000\n",
       "495       260    east_west  55.640023\n",
       "496       260  north_south  82.938764\n",
       "\n",
       "[497 rows x 3 columns]"
      ]
     },
     "execution_count": 529,
     "metadata": {},
     "output_type": "execute_result"
    }
   ],
   "source": [
    "average_direction_distance = mdf.groupby([\"xid_left\", \"direction\"])[\"distance\"].mean().reset_index()\n",
    "average_north_south_building_distances = average_direction_distance.loc[average_direction_distance[\"direction\"] == \"north_south\"][[\"xid_left\", \"distance\"]].set_index(\"xid_left\").to_dict()[\"distance\"]\n",
    "average_east_west_building_distances = average_direction_distance.loc[average_direction_distance[\"direction\"] == \"east_west\"][[\"xid_left\", \"distance\"]].set_index(\"xid_left\").to_dict()[\"distance\"]\n"
   ]
  },
  {
   "cell_type": "code",
   "execution_count": 536,
   "id": "bf80ca64-1d7c-4507-9608-655c09e186e4",
   "metadata": {},
   "outputs": [
    {
     "data": {
      "text/plain": [
       "Index(['xid_left', 'n_points', 'Max_HOUSE__left', 'grid_bldg_area_left',\n",
       "       'geometry', 'index_right', 'xid_right', 'Max_HOUSE__right',\n",
       "       'grid_bldg_area_right', 'centroid', 'distance', 'target_x', 'target_y',\n",
       "       'neighbor_x', 'neighbor_y', 'angle_in_degrees', 'direction'],\n",
       "      dtype='object')"
      ]
     },
     "execution_count": 536,
     "metadata": {},
     "output_type": "execute_result"
    }
   ],
   "source": [
    "mdf.columns"
   ]
  },
  {
   "cell_type": "code",
   "execution_count": 537,
   "id": "c8642aa4-3715-42fe-ba71-e2940f2512cf",
   "metadata": {},
   "outputs": [],
   "source": [
    "mdf[\"neighbor_volume\"] = mdf[\"grid_bldg_area_right\"] * mdf[neighbor_height_field]\n",
    "\n",
    "area_weighted_average_building_heights = ((mdf.groupby(\"xid_left\")[\"neighbor_volume\"].sum()) / \n",
    "                                          (mdf.groupby(\"xid_left\")[\"grid_bldg_area_right\"].sum())\n",
    "                                         ).replace([np.inf, -np.inf], 0).fillna(0).to_list()\n",
    "\n",
    "# average of all of the building surface areas in the shapefile\n",
    "average_building_area = mdf.groupby(\"xid_left\")[\"grid_bldg_area_left\"].max().mean()\n"
   ]
  },
  {
   "cell_type": "code",
   "execution_count": null,
   "id": "a272a054-a7b3-4da9-86b2-0ac27572c821",
   "metadata": {},
   "outputs": [],
   "source": []
  },
  {
   "cell_type": "code",
   "execution_count": null,
   "id": "ef07179b-9d5e-4ee7-8242-f141464ebb97",
   "metadata": {},
   "outputs": [],
   "source": []
  },
  {
   "cell_type": "code",
   "execution_count": null,
   "id": "68a4822a-db72-43f1-85d8-ef1abd80b44d",
   "metadata": {},
   "outputs": [],
   "source": []
  },
  {
   "cell_type": "code",
   "execution_count": 591,
   "id": "e33d2a08-ba06-4ede-a2e5-b18c67512aad",
   "metadata": {},
   "outputs": [],
   "source": [
    "i2arr = zeros((IMAGE_SIZE_X, IMAGE_SIZE_Y), dtype=uint8)\n",
    "dils = zeros((IMAGE_SIZE_X, IMAGE_SIZE_Y), dtype=uint8)\n",
    "narr = zeros((IMAGE_SIZE_X, IMAGE_SIZE_Y), dtype=uint8)\n",
    "struct = ndimage.generate_binary_structure(2, 2)\n",
    "RADIUS = 100\n",
    "NORTHWEST_DEGREES = 135\n",
    "NORTHEAST_DEGREES = 45\n",
    "SOUTHWEST_DEGREES = 225\n",
    "SOUTHEAST_DEGREES = 315\n",
    "DEGREES_IN_CIRCLE = 360\n",
    "START_OF_CIRCLE_DEGREES = 0\n",
    "sumareas = 0\n",
    "counter = 1\n",
    "\n",
    "average_north_south_building_distances = {}\n",
    "average_east_west_building_distances = {}\n",
    "average_building_heights = []\n",
    "standard_deviation_building_heights = []\n",
    "area_weighted_average_building_heights = []\n",
    "footprint_building_areas = {}\n"
   ]
  },
  {
   "cell_type": "code",
   "execution_count": 654,
   "id": "14300e4f-811c-450b-abd7-6563a5fdb061",
   "metadata": {},
   "outputs": [],
   "source": [
    "def avg_building_dist(IMAGE_SIZE_X, IMAGE_SIZE_Y, layer2, ids, PIXEL_SIZE, height_field, heights, areas, centroids):\n",
    "    '''\n",
    "    Loops through all the buildings in the shapefile to calculate distances between buildings and other information used in\n",
    "    calculating urban parameters. Calculates urban parameters 92-94.\n",
    "\n",
    "    Parameters\n",
    "    ----------\n",
    "    IMAGE_SIZE_X : int\n",
    "        Length of the shapefile in the x-direction.\n",
    "    IMAGE_SIZE_Y : int\n",
    "        Length of the shapefile in the y-direction.\n",
    "    layer2 : osgeo.ogr.Layer\n",
    "        The target layer of the shapefile, automatically generated in Parameter_Calulcations.py.\n",
    "    ids : numpy.ndarray\n",
    "        Array where the buildings in the shapefile are represented by unique ids, automatically generated in Parameter_Calulcations.py.\n",
    "    PIXEL_SIZE : float\n",
    "        Pixel size of the building raster.\n",
    "    height_field : str\n",
    "        Name of height field in the shapefile.\n",
    "    heights : dict\n",
    "        Height of every building in the shapefile.\n",
    "    areas : dict\n",
    "        Area of every building in the shapefile.\n",
    "    centroids : dict\n",
    "        Centroid of every building in the shapefile.\n",
    "\n",
    "    Returns\n",
    "    ----------\n",
    "    average_north_south_building_distances : dict\n",
    "        Average north/south distance from each building to every other building.\n",
    "    average_east_west_building_distances : dict\n",
    "        Average east/west distance from each building to every other building.\n",
    "    average_building_area : float\n",
    "        Average building area for the shapefile.\n",
    "    footprint_building_areas : dict\n",
    "        Height and building footprint areas within the plan area for each building.\n",
    "    average_building_heights : list\n",
    "        Average height of the buildings.\n",
    "    standard_deviation_building_heights : list\n",
    "        Standard deviation of heights of the buildings.\n",
    "    area_weighted_average_building_heights : list\n",
    "        Area-weighted mean building heights.\n",
    "\n",
    "    '''\n",
    "\n",
    "    i2arr = zeros((IMAGE_SIZE_X, IMAGE_SIZE_Y), dtype=uint8)\n",
    "    dils = zeros((IMAGE_SIZE_X, IMAGE_SIZE_Y), dtype=uint8)\n",
    "    narr = zeros((IMAGE_SIZE_X, IMAGE_SIZE_Y), dtype=uint8)\n",
    "    struct = ndimage.generate_binary_structure(2, 2)\n",
    "    RADIUS = 100\n",
    "    NORTHWEST_DEGREES = 135\n",
    "    NORTHEAST_DEGREES = 45\n",
    "    SOUTHWEST_DEGREES = 225\n",
    "    SOUTHEAST_DEGREES = 315\n",
    "    DEGREES_IN_CIRCLE = 360\n",
    "    START_OF_CIRCLE_DEGREES = 0\n",
    "    sumareas = 0\n",
    "    counter = 1\n",
    "    average_north_south = 0\n",
    "    average_east_west = 0\n",
    "\n",
    "    average_north_south_building_distances = {}\n",
    "    average_east_west_building_distances = {}\n",
    "    average_building_heights = []\n",
    "    standard_deviation_building_heights = []\n",
    "    area_weighted_average_building_heights = []\n",
    "    footprint_building_areas = {}\n",
    "    \n",
    "    target_to_neighbors = {}\n",
    "\n",
    "    layer2.ResetReading()\n",
    "    feature_buil = layer2.GetNextFeature()\n",
    "\n",
    "    while feature_buil:\n",
    "        height = feature_buil.GetFieldAsString(height_field)\n",
    "\n",
    "        average_north_south = 0\n",
    "        average_east_west = 0\n",
    "\n",
    "        sumarhts = 0\n",
    "        sumareas2 = 0\n",
    "\n",
    "        current_building_heights = []\n",
    "\n",
    "        if height != '':\n",
    "\n",
    "            geomb = feature_buil.GetGeometryRef()\n",
    "            ring = geomb.GetGeometryRef(0)\n",
    "            numpoints = ring.GetPointCount()\n",
    "\n",
    "            if numpoints != 0:\n",
    "\n",
    "                i2arr.fill(0)\n",
    "                dils.fill(0)\n",
    "                narr.fill(0)\n",
    "                if len(ids[ids == counter]) != 0:\n",
    "                    i2arr[ids == counter] = 1 # Puts a 1 wherever the current counter corresponds with the IDs file\n",
    "                    builarea = sum(i2arr) * PIXEL_SIZE**2 # Sums up the 1s and multiplies by the pixel area to get the current building area\n",
    "                    i2arr = ndimage.binary_dilation(i2arr, structure=struct, iterations=RADIUS).astype(i2arr.dtype) # Dilates the i2arr to get a square with radius 100 pixels\n",
    "                    building_ids = unique(ids[where(i2arr == 1)]) # A list of the unique building IDs found in the current dilated area\n",
    "                    sumareas += builarea\n",
    "\n",
    "                    if len(building_ids) != 0:\n",
    "                        currcx = centroids[counter][0] # current building centroid x coordinate\n",
    "                        currcy = centroids[counter][1] # current building centroid y coordinate\n",
    "\n",
    "                        te, tn, ts, tw = 0., 0., 0., 0.\n",
    "                        ce, cn, cs, cw = 0., 0., 0., 0.\n",
    "                        \n",
    "                        for building_id in building_ids: # loops through every building and calculates the distance and angle from that building to all other buildings\n",
    "                            \n",
    "                            target_to_neighbors[counter] = building_ids\n",
    "                            \n",
    "                            if building_id != 0 and building_id in heights: # Checks that the unique ID is not 0 (because height indexing begins at 1) and that it is in the heights list\n",
    "                                current_building_heights.append(heights[building_id]) # Appends the current building height to the current_building_heights list\n",
    "                                dils[(ids == building_id) & (i2arr == 1)] = 1 # Creates an array with 1s where the current ID is within the dilated area\n",
    "\n",
    "                                sumarhts += areas[building_id] * heights[building_id] # Multiplies the current building area and height together, and then adds it to a rolling sum for the tile\n",
    "                                sumareas2 += areas[building_id] # Adds the current building height to a rolling sum\n",
    "                                #print(\"counter\", counter)\n",
    "\n",
    "                                if building_id != counter: # Loops through every building except for the current one\n",
    "                                    cx = centroids[building_id][0] # The centroid x coordinate of the other building\n",
    "                                    cy = centroids[building_id][1] # The centroid y coordinate of the other building\n",
    "                                    d = math.hypot((currcx - cx), (currcy - cy)) # The distance between the two centroids\n",
    "                                    angle = ang2points(currcx, currcy, cx, cy) # The angle for the y coordinate\n",
    "                                    \n",
    "                                    # The angles correspond to a circle where 0/360 degrees is directly east, and the degrees increase counter-clockwise\n",
    "                                    if (SOUTHEAST_DEGREES <= angle <= DEGREES_IN_CIRCLE or START_OF_CIRCLE_DEGREES <= angle < NORTHEAST_DEGREES) and d != 0:  # east\n",
    "                                        te += d\n",
    "                                        ce += 1\n",
    "                                    elif NORTHWEST_DEGREES <= angle < SOUTHWEST_DEGREES and d != 0:  # west\n",
    "                                        tw += d\n",
    "                                        cw += 1\n",
    "                                    elif NORTHEAST_DEGREES <= angle < NORTHWEST_DEGREES and d != 0:  # north\n",
    "                                        tn += d\n",
    "                                        cn += 1\n",
    "                                    elif SOUTHWEST_DEGREES <= angle < SOUTHEAST_DEGREES and d != 0:  # south \n",
    "                                        ts += d\n",
    "                                        cs += 1\n",
    "                                    else:\n",
    "                                        raise Exception(\"Angle isn't between 0 and 360.\")\n",
    "\n",
    "                        if cn != 0 or cs != 0:\n",
    "                            average_north_south = (tn + ts) / (cn + cs) # The mean north and south distance from the current building to all other buildings\n",
    "                        else:\n",
    "                            average_north_south = 0\n",
    "\n",
    "                        if ce != 0 or cw != 0:\n",
    "                            average_east_west = (te + tw) / (ce + cw) # The mean west and east distance from the current building to all other buildings\n",
    "                        else:\n",
    "                            average_east_west = 0\n",
    "\n",
    "                        narr[(dils == 1) & (i2arr == 1)] = 1 # Creates an array with 1s only where the buildings are\n",
    "                        plan_area = sum(narr) * PIXEL_SIZE**2 # Calculates the area of all buildings within the plan area \n",
    "\n",
    "                        footprint_building_areas[counter] = [height, plan_area]  # Creates a dictionary where the counter corresponds to the height and plan area of each building\n",
    "\n",
    "            if len(current_building_heights) != 0:\n",
    "                current_building_heights = array(current_building_heights)\n",
    "                average_building_heights.append(current_building_heights.mean())\n",
    "                standard_deviation_building_heights.append(current_building_heights.std())\n",
    "            else:\n",
    "                average_building_heights.append(height)\n",
    "\n",
    "                # TODO:  wouldn't the standard deviation of a single value be 0 and not the value itself?\n",
    "                standard_deviation_building_heights.append(height)\n",
    "\n",
    "            average_north_south_building_distances[counter] = average_north_south\n",
    "            average_east_west_building_distances[counter] = average_east_west\n",
    "\n",
    "            if sumareas2 != 0:\n",
    "                area_weighted_average_building_heights.append(sumarhts / sumareas2)\n",
    "            else:\n",
    "                area_weighted_average_building_heights.append(0)\n",
    "\n",
    "        counter += 1\n",
    "\n",
    "        feature_buil.Destroy()\n",
    "        feature_buil = layer2.GetNextFeature()\n",
    "\n",
    "    average_building_area = sumareas / counter  # sum of all of the surface areas in shapefile (used in a parameter)\n",
    "\n",
    "    return average_north_south_building_distances, average_east_west_building_distances, average_building_area, footprint_building_areas, average_building_heights, standard_deviation_building_heights, area_weighted_average_building_heights, target_to_neighbors\n"
   ]
  },
  {
   "cell_type": "code",
   "execution_count": null,
   "id": "a4f6a46f-f036-41d3-9e0c-320a1d16e22b",
   "metadata": {},
   "outputs": [],
   "source": []
  },
  {
   "cell_type": "code",
   "execution_count": 655,
   "id": "cedb9859-e584-4466-a2f6-61203bf11a59",
   "metadata": {},
   "outputs": [
    {
     "name": "stdout",
     "output_type": "stream",
     "text": [
      "CPU times: user 3min 58s, sys: 18.1 s, total: 4min 16s\n",
      "Wall time: 4min 19s\n"
     ]
    }
   ],
   "source": [
    "%%time\n",
    "\n",
    "output = avg_building_dist(IMAGE_SIZE_X=IMAGE_SIZE_X, \n",
    "                           IMAGE_SIZE_Y=IMAGE_SIZE_Y, \n",
    "                           layer2=layer2, \n",
    "                           ids=id_arr, \n",
    "                           PIXEL_SIZE=PIXEL_SIZE, \n",
    "                           height_field=height_field, \n",
    "                           heights=hts, \n",
    "                           areas=areas, \n",
    "                           centroids=cents)\n",
    "\n",
    "cents_ns, cents_ew, avgsa, nbarea, mean_ht_out, std_ht_out, awmh_out, target_to_neighbors = output\n"
   ]
  },
  {
   "cell_type": "code",
   "execution_count": null,
   "id": "50b6f2e8-db92-4139-9df3-a32c006260b2",
   "metadata": {},
   "outputs": [],
   "source": []
  },
  {
   "cell_type": "markdown",
   "id": "a7472969-ed54-4bd4-9cf2-5f95542fdab9",
   "metadata": {},
   "source": [
    "Consider altering this where the target building does not get accounted for"
   ]
  },
  {
   "cell_type": "code",
   "execution_count": null,
   "id": "0da42ed0-fe4d-453d-8b27-04679c11541e",
   "metadata": {},
   "outputs": [],
   "source": [
    "%%time\n",
    "\n",
    "for building in range(1, 10 + 1, 1):\n",
    "\n",
    "    average_north_south = 0\n",
    "    average_east_west = 0\n",
    "\n",
    "    sumarhts = 0\n",
    "    sumareas2 = 0\n",
    "\n",
    "\n",
    "    if counter in id_arr:\n",
    "\n",
    "        print(f\"building ID target:  {counter}\")\n",
    "\n",
    "        # place a 1 where building id equals the current count\n",
    "        i2arr[id_arr == counter] = 1\n",
    "\n",
    "        # current building area\n",
    "        builarea = np.sum(i2arr) * PIXEL_SIZE**2\n",
    "        print(f\"builarea: {builarea}\")\n",
    "\n",
    "        # add the building area to the total building area for the file\n",
    "        sumareas += builarea\n",
    "\n",
    "        # dilate the building elements to get a square with radius 100 pixels\n",
    "        i2arr = ndimage.binary_dilation(i2arr, structure=struct, iterations=RADIUS).astype(i2arr.dtype)\n",
    "\n",
    "        # get a list of the build IDs found in the current buffer\n",
    "        building_ids = np.unique(id_arr[i2arr == 1])\n",
    "\n",
    "        # remove any 0 values\n",
    "        building_ids = building_ids[building_ids > 0]\n",
    "\n",
    "        # get the building coordinates \n",
    "        currcx, currcy = cents[counter]\n",
    "        print(currcx, currcy)\n",
    "\n",
    "        te, tn, ts, tw = 0., 0., 0., 0.\n",
    "        ce, cn, cs, cw = 0., 0., 0., 0.\n",
    "\n",
    "        for building_id in building_ids:\n",
    "\n",
    "            print(building_id)\n",
    "\n",
    "            # populate array with 1 for the current building ID where within the buffered area\n",
    "            dils[(id_arr == building_id) & (i2arr == 1)] = 1\n",
    "\n",
    "            # calculate building volume and add to tally\n",
    "            sumarhts += areas[building_id] * hts[building_id]\n",
    "\n",
    "            # tally building area\n",
    "            sumareas2 += areas[building_id]\n",
    "\n",
    "            # if building ID not the target building but is in the buffer\n",
    "            if building_id != counter:\n",
    "\n",
    "                # x, y coordinates of the centroid of the neighboring building\n",
    "                cx, cy = cents[building_id]\n",
    "                print(cx, cy)\n",
    "\n",
    "                # distance between the centroid of the target building and the neighbor\n",
    "                d = np.hypot((currcx - cx), (currcy - cy))\n",
    "\n",
    "                print(f\"distance: {d}\")\n",
    "\n",
    "                # angle of hypotenuse\n",
    "                angle = angle_between_two_points(currcx, currcy, cx, cy)\n",
    "\n",
    "                print(f\"angle: {angle}\")\n",
    "\n",
    "                # the angles correspond to a circle where 0/360 degrees is directly east, and the degrees increase counter-clockwise\n",
    "                if (SOUTHEAST_DEGREES <= angle <= DEGREES_IN_CIRCLE) or (START_OF_CIRCLE_DEGREES <= angle < NORTHEAST_DEGREES):  # east\n",
    "                    te += d\n",
    "                    ce += 1\n",
    "                elif NORTHWEST_DEGREES <= angle < SOUTHWEST_DEGREES:  # west\n",
    "                    tw += d\n",
    "                    cw += 1\n",
    "                elif NORTHEAST_DEGREES <= angle < NORTHWEST_DEGREES:  # north\n",
    "                    tn += d\n",
    "                    cn += 1\n",
    "                elif SOUTHWEST_DEGREES <= angle < SOUTHEAST_DEGREES :  # south \n",
    "                    ts += d\n",
    "                    cs += 1\n",
    "                else:\n",
    "                    raise AssertionError(f\"Angle for building ID {counter} to ID {building_id} isn't between 0 and 360.\")\n",
    "\n",
    "            # calculate the number of north-south and east-west buildings from the target building\n",
    "            number_north_south_buildings = cn + cs\n",
    "            number_east_west_buildings = ce + cw\n",
    "\n",
    "            # calculate average distances for each direction\n",
    "            average_north_south = 0\n",
    "            if number_north_south_buildings > 0:\n",
    "                average_north_south += (tn + ts) / number_north_south_buildings\n",
    "\n",
    "            average_east_west = 0\n",
    "            if number_east_west_buildings > 0:\n",
    "                average_east_west += (te + tw) / number_east_west_buildings\n",
    "\n",
    "            print(f\"average_north_south: {average_north_south}\")\n",
    "            print(f\"average_east_west: {average_east_west}\")\n",
    "\n",
    "            # build an array with 1 where each building is\n",
    "            narr[(dils == 1) & (i2arr == 1)] = 1\n",
    "\n",
    "            # calculates the area of all buildings within the plan area\n",
    "            plan_area = np.sum(narr) * PIXEL_SIZE**2\n",
    "\n",
    "            print(f\"plan_area: {plan_area}\")\n",
    "\n",
    "            # add the height and plan_area to a dictonary where the key is the target building ID\n",
    "            footprint_building_areas[counter] = [hts[counter], plan_area] \n",
    "\n",
    "        # create a list of current building heights\n",
    "        current_building_heights = np.array([hts[i] for i in building_ids])\n",
    "\n",
    "        # append stats to summaries\n",
    "        average_building_heights.append(current_building_heights.mean())\n",
    "        standard_deviation_building_heights.append(current_building_heights.std())\n",
    "        average_north_south_building_distances[counter] = average_north_south\n",
    "        average_east_west_building_distances[counter] = average_east_west\n",
    "\n",
    "        print(f\"sumareas2: {sumareas2}\")\n",
    "        print(f\"sumarhts: {sumarhts}\")\n",
    "\n",
    "        if sumareas2 > 0:\n",
    "\n",
    "            area_weighted_average_building_heights.append(sumarhts / sumareas2)\n",
    "\n",
    "        else:\n",
    "\n",
    "            area_weighted_average_building_heights.append(0)\n",
    "\n",
    "        # advance to next building\n",
    "        counter += 1\n",
    "\n",
    "# sum of all of the building surface areas in the shapefile\n",
    "average_building_area = sumareas / counter\n",
    "\n",
    "    "
   ]
  },
  {
   "cell_type": "code",
   "execution_count": 216,
   "id": "f7ba0d7d-4149-4912-83cf-7a6dbe57f817",
   "metadata": {},
   "outputs": [
    {
     "data": {
      "text/plain": [
       "[1.8101914992993928, 1.5640112994350281]"
      ]
     },
     "execution_count": 216,
     "metadata": {},
     "output_type": "execute_result"
    }
   ],
   "source": [
    "average_north_south_building_distances\n",
    "average_east_west_building_distances\n",
    "average_building_area\n",
    "footprint_building_areas\n",
    "average_building_heights\n",
    "standard_deviation_building_heights\n",
    "area_weighted_average_building_heights\n"
   ]
  },
  {
   "cell_type": "code",
   "execution_count": 209,
   "id": "cef0ed29-d55c-498d-a938-3aa6b8c67621",
   "metadata": {},
   "outputs": [
    {
     "data": {
      "text/plain": [
       "(1.2, 0.0)"
      ]
     },
     "execution_count": 209,
     "metadata": {},
     "output_type": "execute_result"
    }
   ],
   "source": [
    "a = np.array([1.2])\n",
    "np.mean(a), np.std(a)"
   ]
  },
  {
   "cell_type": "code",
   "execution_count": 206,
   "id": "2372d142-3ad8-44aa-ae05-367d1694deee",
   "metadata": {},
   "outputs": [
    {
     "data": {
      "text/plain": [
       "1.064"
      ]
     },
     "execution_count": 206,
     "metadata": {},
     "output_type": "execute_result"
    }
   ],
   "source": [
    "np.mean(current_building_heights)"
   ]
  },
  {
   "cell_type": "code",
   "execution_count": 174,
   "id": "5677ed86-109b-4fed-b34e-6c3cbfbe0051",
   "metadata": {},
   "outputs": [
    {
     "data": {
      "text/plain": [
       "(315, 360, 0, 45, 135, 225)"
      ]
     },
     "execution_count": 174,
     "metadata": {},
     "output_type": "execute_result"
    }
   ],
   "source": [
    "SOUTHEAST_DEGREES, DEGREES_IN_CIRCLE, START_OF_CIRCLE_DEGREES, NORTHEAST_DEGREES, NORTHWEST_DEGREES, SOUTHWEST_DEGREES"
   ]
  },
  {
   "cell_type": "code",
   "execution_count": 171,
   "id": "9b1e0be9-d5ac-4669-b6ac-1971eaa927fa",
   "metadata": {},
   "outputs": [
    {
     "data": {
      "text/plain": [
       "(1618056.1621925132, 1922803.7673784862)"
      ]
     },
     "execution_count": 171,
     "metadata": {},
     "output_type": "execute_result"
    }
   ],
   "source": [
    "cx, cy"
   ]
  },
  {
   "cell_type": "code",
   "execution_count": 173,
   "id": "4718fe51-f75c-4eb1-9ae4-88e5037a7dd6",
   "metadata": {},
   "outputs": [
    {
     "data": {
      "text/plain": [
       "110.46754025381117"
      ]
     },
     "execution_count": 173,
     "metadata": {},
     "output_type": "execute_result"
    }
   ],
   "source": [
    "if "
   ]
  },
  {
   "cell_type": "code",
   "execution_count": null,
   "id": "d3b6cfd9-dd02-42db-964c-4fa4383a53d5",
   "metadata": {},
   "outputs": [],
   "source": []
  },
  {
   "cell_type": "code",
   "execution_count": 160,
   "id": "77ac94d1-34fd-4be2-9835-e00779d7f2c9",
   "metadata": {},
   "outputs": [],
   "source": [
    "building_id = 4"
   ]
  },
  {
   "cell_type": "code",
   "execution_count": 161,
   "id": "eebba86c-b863-4a3f-a987-a15d9d95d98d",
   "metadata": {},
   "outputs": [
    {
     "data": {
      "text/plain": [
       "100.415"
      ]
     },
     "execution_count": 161,
     "metadata": {},
     "output_type": "execute_result"
    }
   ],
   "source": [
    "areas[building_id] * hts[building_id]"
   ]
  },
  {
   "cell_type": "code",
   "execution_count": 158,
   "id": "80555e63-c96a-4eea-9d0d-183c200e21e5",
   "metadata": {},
   "outputs": [
    {
     "data": {
      "text/plain": [
       "12.5"
      ]
     },
     "execution_count": 158,
     "metadata": {},
     "output_type": "execute_result"
    }
   ],
   "source": [
    "areas[building_id]"
   ]
  },
  {
   "cell_type": "code",
   "execution_count": 159,
   "id": "6a3b2a57-a86d-4d9b-9f5b-574c7f203f81",
   "metadata": {},
   "outputs": [
    {
     "data": {
      "text/plain": [
       "0.0"
      ]
     },
     "execution_count": 159,
     "metadata": {},
     "output_type": "execute_result"
    }
   ],
   "source": [
    "hts[building_id]"
   ]
  },
  {
   "cell_type": "code",
   "execution_count": null,
   "id": "a7e97a2d-c542-4f24-adf1-f991cf9dcb16",
   "metadata": {},
   "outputs": [],
   "source": []
  },
  {
   "cell_type": "code",
   "execution_count": 150,
   "id": "1146864b-f0bf-40f3-83c6-d25cdceb8acb",
   "metadata": {},
   "outputs": [],
   "source": [
    "dils[(id_arr == 2) & (i2arr == 1)] = 1"
   ]
  },
  {
   "cell_type": "code",
   "execution_count": null,
   "id": "8460188c-dc97-4193-971a-7007a85a357d",
   "metadata": {},
   "outputs": [],
   "source": []
  },
  {
   "cell_type": "code",
   "execution_count": 151,
   "id": "25d7bc97-252a-48eb-8529-57f77765ca5f",
   "metadata": {},
   "outputs": [
    {
     "data": {
      "image/png": "[encoded data removed]",
      "text/plain": [
       "<Figure size 432x288 with 1 Axes>"
      ]
     },
     "metadata": {
      "needs_background": "light"
     },
     "output_type": "display_data"
    },
    {
     "data": {
      "text/plain": [
       "<AxesSubplot:>"
      ]
     },
     "execution_count": 151,
     "metadata": {},
     "output_type": "execute_result"
    }
   ],
   "source": [
    "show(dils)"
   ]
  },
  {
   "cell_type": "code",
   "execution_count": null,
   "id": "2003e817-5090-4265-9b36-aa4b78ab551a",
   "metadata": {},
   "outputs": [],
   "source": []
  },
  {
   "cell_type": "code",
   "execution_count": null,
   "id": "8ce58d6d-e434-4b42-af60-6e4201da8f60",
   "metadata": {},
   "outputs": [],
   "source": []
  },
  {
   "cell_type": "code",
   "execution_count": null,
   "id": "cd9f2688-2ed3-4de0-996b-5c17a6c8af96",
   "metadata": {},
   "outputs": [],
   "source": []
  },
  {
   "cell_type": "code",
   "execution_count": null,
   "id": "c8b72b7e-4207-4ca2-b79b-b8c08a8fb882",
   "metadata": {},
   "outputs": [],
   "source": []
  },
  {
   "cell_type": "code",
   "execution_count": null,
   "id": "e85d2279-fddb-4ed6-baf1-758e9f63fbb9",
   "metadata": {},
   "outputs": [],
   "source": []
  },
  {
   "cell_type": "code",
   "execution_count": null,
   "id": "0710d9ce-3ed7-47e8-9b36-0240c8e85c87",
   "metadata": {},
   "outputs": [],
   "source": []
  },
  {
   "cell_type": "code",
   "execution_count": null,
   "id": "2bfb95b0-7072-44e9-a9e9-348043844d52",
   "metadata": {},
   "outputs": [],
   "source": []
  },
  {
   "cell_type": "code",
   "execution_count": null,
   "id": "e721e7d7-07dc-4d6c-91da-fc0c603b6a78",
   "metadata": {},
   "outputs": [],
   "source": []
  },
  {
   "cell_type": "markdown",
   "id": "28a6e801-d3ac-4785-8290-14f23758174c",
   "metadata": {},
   "source": [
    "#### ORIGINAL START"
   ]
  },
  {
   "cell_type": "code",
   "execution_count": 51,
   "id": "51b4d1a2-72cf-427e-9686-6b03dc121f2d",
   "metadata": {},
   "outputs": [],
   "source": [
    "from osgeo import gdal, ogr\n",
    "import math\n",
    "from numpy import array, zeros, uint8, uint16, where, empty, sum, unique, rint, array_equiv\n",
    "from skimage.draw import polygon\n",
    "from scipy import ndimage\n",
    "from osgeo.gdalconst import *\n",
    "from PIL import Image\n"
   ]
  },
  {
   "cell_type": "code",
   "execution_count": 79,
   "id": "09751b8c-cb22-4ef2-b484-f3a5c15d2653",
   "metadata": {},
   "outputs": [],
   "source": [
    "def get_cents_hts(IMAGE_SIZE_X, IMAGE_SIZE_Y, layer2, ids, PIXEL_SIZE, height_field):\n",
    "    '''\n",
    "    Loop through all buildings in the shapefile and append their centroids, heights, and areas to dictionaries.\n",
    "\n",
    "    Parameters\n",
    "    ----------\n",
    "    IMAGE_SIZE_X : int\n",
    "        Length of the shapefile in the x-direction.\n",
    "    IMAGE_SIZE_Y : int\n",
    "        Length of the shapefile in the y-direction.\n",
    "    layer2 : osgeo.ogr.Layer\n",
    "        The target layer of the shapefile, automatically generated in Parameter_Calulcations.py.\n",
    "    ids : numpy.ndarray\n",
    "        Array where the buildings in the shapefile are represented by unique ids, automatically generated in Parameter_Calulcations.py.\n",
    "    PIXEL_SIZE : float\n",
    "        Pixel size of the building raster.\n",
    "    height_field : str\n",
    "        Name of height field in study shapefile.\n",
    "\n",
    "    Returns\n",
    "    ----------\n",
    "    centroids : dict\n",
    "        Centroid of every building in the shapefile\n",
    "    heights : dict\n",
    "        Height of every building in the shapefile\n",
    "    areas : dict\n",
    "        Area of every building in the shapefile\n",
    "\n",
    "    '''\n",
    "    centroids = {}\n",
    "    heights = {}\n",
    "    areas = {}\n",
    "    i2arr = zeros((IMAGE_SIZE_X, IMAGE_SIZE_Y), dtype=uint8)\n",
    "    count = 1\n",
    "\n",
    "    layer2.ResetReading()\n",
    "    feature_buil = layer2.GetNextFeature()\n",
    "\n",
    "    # todo: replace with for loop to remove count variable\n",
    "    while feature_buil:\n",
    "        height = feature_buil.GetFieldAsString(height_field)\n",
    "\n",
    "        if height != '':\n",
    "            height = float(height)\n",
    "            heights[count] = height\n",
    "\n",
    "            geom = feature_buil.GetGeometryRef()\n",
    "            ring = geom.GetGeometryRef(0)\n",
    "            numpoints = ring.GetPointCount()\n",
    "\n",
    "            if numpoints != 0:\n",
    "\n",
    "                cent = geom.Centroid()\n",
    "                centx = cent.GetX()\n",
    "                centy = cent.GetY()\n",
    "\n",
    "                centx = float(centx)\n",
    "                centy = float(centy)\n",
    "\n",
    "                centroids[count] = [centx, centy]\n",
    "\n",
    "                building_area = 0\n",
    "\n",
    "                i2arr.fill(0)\n",
    "                if len(ids[ids == count]) != 0:\n",
    "                    i2arr[ids == count] = 1\n",
    "                    building_area = sum(i2arr) * PIXEL_SIZE**2\n",
    "\n",
    "                areas[count] = building_area\n",
    "\n",
    "        count += 1\n",
    "\n",
    "        feature_buil.Destroy()\n",
    "        feature_buil = layer2.GetNextFeature()\n",
    "\n",
    "    return centroids, heights, areas\n",
    "\n",
    "\n",
    "def avg_building_dist(IMAGE_SIZE_X, IMAGE_SIZE_Y, layer2, ids, PIXEL_SIZE, height_field, heights, areas, centroids):\n",
    "    '''\n",
    "    Loops through all the buildings in the shapefile to calculate distances between buildings and other information used in\n",
    "    calculating urban parameters. Calculates urban parameters 92-94.\n",
    "\n",
    "    Parameters\n",
    "    ----------\n",
    "    IMAGE_SIZE_X : int\n",
    "        Length of the shapefile in the x-direction.\n",
    "    IMAGE_SIZE_Y : int\n",
    "        Length of the shapefile in the y-direction.\n",
    "    layer2 : osgeo.ogr.Layer\n",
    "        The target layer of the shapefile, automatically generated in Parameter_Calulcations.py.\n",
    "    ids : numpy.ndarray\n",
    "        Array where the buildings in the shapefile are represented by unique ids, automatically generated in Parameter_Calulcations.py.\n",
    "    PIXEL_SIZE : float\n",
    "        Pixel size of the building raster.\n",
    "    height_field : str\n",
    "        Name of height field in the shapefile.\n",
    "    heights : dict\n",
    "        Height of every building in the shapefile.\n",
    "    areas : dict\n",
    "        Area of every building in the shapefile.\n",
    "    centroids : dict\n",
    "        Centroid of every building in the shapefile.\n",
    "\n",
    "    Returns\n",
    "    ----------\n",
    "    average_north_south_building_distances : dict\n",
    "        Average north/south distance from each building to every other building.\n",
    "    average_east_west_building_distances : dict\n",
    "        Average east/west distance from each building to every other building.\n",
    "    average_building_area : float\n",
    "        Average building area for the shapefile.\n",
    "    footprint_building_areas : dict\n",
    "        Height and building footprint areas within the plan area for each building.\n",
    "    average_building_heights : list\n",
    "        Average height of the buildings.\n",
    "    standard_deviation_building_heights : list\n",
    "        Standard deviation of heights of the buildings.\n",
    "    area_weighted_average_building_heights : list\n",
    "        Area-weighted mean building heights.\n",
    "\n",
    "    '''\n",
    "\n",
    "    i2arr = zeros((IMAGE_SIZE_X, IMAGE_SIZE_Y), dtype=uint8)\n",
    "    dils = zeros((IMAGE_SIZE_X, IMAGE_SIZE_Y), dtype=uint8)\n",
    "    narr = zeros((IMAGE_SIZE_X, IMAGE_SIZE_Y), dtype=uint8)\n",
    "    struct = ndimage.generate_binary_structure(2, 2)\n",
    "    RADIUS = 100\n",
    "    NORTHWEST_DEGREES = 135\n",
    "    NORTHEAST_DEGREES = 45\n",
    "    SOUTHWEST_DEGREES = 225\n",
    "    SOUTHEAST_DEGREES = 315\n",
    "    DEGREES_IN_CIRCLE = 360\n",
    "    START_OF_CIRCLE_DEGREES = 0\n",
    "    sumareas = 0\n",
    "    counter = 1\n",
    "    average_north_south = 0\n",
    "    average_east_west = 0\n",
    "\n",
    "    average_north_south_building_distances = {}\n",
    "    average_east_west_building_distances = {}\n",
    "    average_building_heights = []\n",
    "    standard_deviation_building_heights = []\n",
    "    area_weighted_average_building_heights = []\n",
    "    footprint_building_areas = {}\n",
    "\n",
    "    layer2.ResetReading()\n",
    "    feature_buil = layer2.GetNextFeature()\n",
    "\n",
    "    while feature_buil:\n",
    "        height = feature_buil.GetFieldAsString(height_field)\n",
    "\n",
    "        average_north_south = 0\n",
    "        average_east_west = 0\n",
    "\n",
    "        sumarhts = 0\n",
    "        sumareas2 = 0\n",
    "\n",
    "        current_building_heights = []\n",
    "\n",
    "        if height != '':\n",
    "\n",
    "            geomb = feature_buil.GetGeometryRef()\n",
    "            ring = geomb.GetGeometryRef(0)\n",
    "            numpoints = ring.GetPointCount()\n",
    "\n",
    "            if numpoints != 0:\n",
    "\n",
    "                i2arr.fill(0)\n",
    "                dils.fill(0)\n",
    "                narr.fill(0)\n",
    "                if len(ids[ids == counter]) != 0:\n",
    "                    i2arr[ids == counter] = 1 # Puts a 1 wherever the current counter corresponds with the IDs file\n",
    "                    builarea = sum(i2arr) * PIXEL_SIZE**2 # Sums up the 1s and multiplies by the pixel area to get the current building area\n",
    "                    i2arr = ndimage.binary_dilation(i2arr, structure=struct, iterations=RADIUS).astype(i2arr.dtype) # Dilates the i2arr to get a square with radius 100 pixels\n",
    "                    building_ids = unique(ids[where(i2arr == 1)]) # A list of the unique building IDs found in the current dilated area\n",
    "                    sumareas += builarea\n",
    "\n",
    "                    if len(building_ids) != 0:\n",
    "                        currcx = centroids[counter][0] # current building centroid x coordinate\n",
    "                        currcy = centroids[counter][1] # current building centroid y coordinate\n",
    "\n",
    "                        te, tn, ts, tw = 0., 0., 0., 0.\n",
    "                        ce, cn, cs, cw = 0., 0., 0., 0.\n",
    "                        \n",
    "                        for building_id in building_ids: # loops through every building and calculates the distance and angle from that building to all other buildings\n",
    "                            if building_id != 0 and building_id in heights: # Checks that the unique ID is not 0 (because height indexing begins at 1) and that it is in the heights list\n",
    "                                current_building_heights.append(heights[building_id]) # Appends the current building height to the current_building_heights list\n",
    "                                dils[(ids == building_id) & (i2arr == 1)] = 1 # Creates an array with 1s where the current ID is within the dilated area\n",
    "\n",
    "                                sumarhts += areas[building_id] * heights[building_id] # Multiplies the current building area and height together, and then adds it to a rolling sum for the tile\n",
    "                                sumareas2 += areas[building_id] # Adds the current building height to a rolling sum\n",
    "                                #print(\"counter\", counter)\n",
    "                                if building_id != counter: # Loops through every building except for the current one\n",
    "                                    cx = centroids[building_id][0] # The centroid x coordinate of the other building\n",
    "                                    cy = centroids[building_id][1] # The centroid y coordinate of the other building\n",
    "                                    d = math.hypot((currcx - cx), (currcy - cy)) # The distance between the two centroids\n",
    "                                    angle = ang2points(currcx, currcy, cx, cy) # The angle for the y coordinate\n",
    "                                    \n",
    "                                    # The angles correspond to a circle where 0/360 degrees is directly east, and the degrees increase counter-clockwise\n",
    "                                    if (SOUTHEAST_DEGREES <= angle <= DEGREES_IN_CIRCLE or START_OF_CIRCLE_DEGREES <= angle < NORTHEAST_DEGREES) and d != 0:  # east\n",
    "                                        te += d\n",
    "                                        ce += 1\n",
    "                                    elif NORTHWEST_DEGREES <= angle < SOUTHWEST_DEGREES and d != 0:  # west\n",
    "                                        tw += d\n",
    "                                        cw += 1\n",
    "                                    elif NORTHEAST_DEGREES <= angle < NORTHWEST_DEGREES and d != 0:  # north\n",
    "                                        tn += d\n",
    "                                        cn += 1\n",
    "                                    elif SOUTHWEST_DEGREES <= angle < SOUTHEAST_DEGREES and d != 0:  # south \n",
    "                                        ts += d\n",
    "                                        cs += 1\n",
    "                                    else:\n",
    "                                        raise Exception(\"Angle isn't between 0 and 360.\")\n",
    "\n",
    "                        if cn != 0 or cs != 0:\n",
    "                            average_north_south = (tn + ts) / (cn + cs) # The mean north and south distance from the current building to all other buildings\n",
    "                        else:\n",
    "                            average_north_south = 0\n",
    "\n",
    "                        if ce != 0 or cw != 0:\n",
    "                            average_east_west = (te + tw) / (ce + cw) # The mean west and east distance from the current building to all other buildings\n",
    "                        else:\n",
    "                            average_east_west = 0\n",
    "\n",
    "                        narr[(dils == 1) & (i2arr == 1)] = 1 # Creates an array with 1s only where the buildings are\n",
    "                        plan_area = sum(narr) * PIXEL_SIZE**2 # Calculates the area of all buildings within the plan area \n",
    "\n",
    "                        footprint_building_areas[counter] = [height, plan_area]  # Creates a dictionary where the counter corresponds to the height and plan area of each building\n",
    "\n",
    "            if len(current_building_heights) != 0:\n",
    "                current_building_heights = array(current_building_heights)\n",
    "                average_building_heights.append(current_building_heights.mean())\n",
    "                standard_deviation_building_heights.append(current_building_heights.std())\n",
    "            else:\n",
    "                average_building_heights.append(height)\n",
    "                standard_deviation_building_heights.append(height)\n",
    "\n",
    "            average_north_south_building_distances[counter] = average_north_south\n",
    "            average_east_west_building_distances[counter] = average_east_west\n",
    "\n",
    "            if sumareas2 != 0:\n",
    "                area_weighted_average_building_heights.append(sumarhts / sumareas2)\n",
    "            else:\n",
    "                area_weighted_average_building_heights.append(0)\n",
    "\n",
    "        counter += 1\n",
    "\n",
    "        feature_buil.Destroy()\n",
    "        feature_buil = layer2.GetNextFeature()\n",
    "\n",
    "    average_building_area = sumareas / counter  # sum of all of the surface areas in shapefile (used in a parameter)\n",
    "\n",
    "    return average_north_south_building_distances, average_east_west_building_distances, average_building_area, footprint_building_areas, average_building_heights, standard_deviation_building_heights, area_weighted_average_building_heights\n",
    "\n",
    "\n",
    "def ang2lines(linea, lineb):\n",
    "    \"\"\"Finds the angle between two lines.\"\"\"\n",
    "    # returns [0, 360]\n",
    "    DEGREES_IN_CIRCLE = 360\n",
    "\n",
    "    va = [(linea[0][0]-linea[1][0]), (linea[0][1]-linea[1][1])]\n",
    "    vb = [(lineb[0][0]-lineb[1][0]), (lineb[0][1]-lineb[1][1])]\n",
    "\n",
    "    angle = math.atan2(va[1], va[0]) - math.atan2(vb[1], vb[0])\n",
    "    angle *= DEGREES_IN_CIRCLE / (2 * math.pi)\n",
    "\n",
    "    if angle < 0:\n",
    "        angle += DEGREES_IN_CIRCLE\n",
    "\n",
    "    return angle\n",
    "\n",
    "\n",
    "def ang2points(x1, y1, x2, y2):\n",
    "    \"\"\"Finds the angle between two points.\"\"\"\n",
    "    DEGREES_IN_CIRCLE = 360\n",
    "\n",
    "    dx = x2 - x1 # The distance between the x coordinates\n",
    "    dy = y2 - y1 # The distance between the y coordinates\n",
    "\n",
    "    angle_in_radians = math.atan2(dy, dx) # The angle facing the y coordinate (theta-y) in radians\n",
    "    angle_in_degrees = math.degrees(angle_in_radians) # Theta-y in degrees\n",
    "\n",
    "    if angle_in_degrees < 0:\n",
    "        angle_in_degrees += DEGREES_IN_CIRCLE\n",
    "\n",
    "    return angle_in_degrees"
   ]
  },
  {
   "cell_type": "code",
   "execution_count": 597,
   "id": "a71613c0-7bbc-4f0c-97d6-1e70c3a60010",
   "metadata": {},
   "outputs": [],
   "source": [
    "gdal.AllRegister()"
   ]
  },
  {
   "cell_type": "code",
   "execution_count": 598,
   "id": "829a5c38-5753-421f-a524-e22b57400a81",
   "metadata": {},
   "outputs": [],
   "source": [
    "# img = gdal.Open(x, gdal.GA_ReadOnly)"
   ]
  },
  {
   "cell_type": "code",
   "execution_count": 599,
   "id": "bb728458-c82d-433c-9aa5-a3e38c83a9c1",
   "metadata": {},
   "outputs": [],
   "source": [
    "ids = Image.open(raster_ids_file)"
   ]
  },
  {
   "cell_type": "code",
   "execution_count": 600,
   "id": "144dec37-22a2-45a1-9ebd-d4caeeec135a",
   "metadata": {},
   "outputs": [],
   "source": [
    "ids = array(ids)"
   ]
  },
  {
   "cell_type": "code",
   "execution_count": null,
   "id": "52e56770-e363-4e61-8151-5ba23f661ae9",
   "metadata": {},
   "outputs": [],
   "source": []
  },
  {
   "cell_type": "code",
   "execution_count": 601,
   "id": "2e51e9a8-049b-4206-81d9-eb575301e225",
   "metadata": {},
   "outputs": [],
   "source": [
    "driver = ogr.GetDriverByName('ESRI Shapefile')"
   ]
  },
  {
   "cell_type": "code",
   "execution_count": 602,
   "id": "dbb143bf-c7d6-4701-9a37-69ae65e03e49",
   "metadata": {},
   "outputs": [],
   "source": [
    "datasource2 = driver.Open(input_shapefile, 0)"
   ]
  },
  {
   "cell_type": "code",
   "execution_count": 603,
   "id": "66b90dfd-d9ef-4c8e-9f75-0768264d5c90",
   "metadata": {},
   "outputs": [],
   "source": [
    "layer2 = datasource2.GetLayer()"
   ]
  },
  {
   "cell_type": "code",
   "execution_count": 604,
   "id": "fbde33b5-27c0-4886-941b-960d0a2e5339",
   "metadata": {},
   "outputs": [
    {
     "data": {
      "text/plain": [
       "(1617992.0141000003, 1620526.423200001, 1921653.0683999993, 1924009.7564999992)"
      ]
     },
     "execution_count": 604,
     "metadata": {},
     "output_type": "execute_result"
    }
   ],
   "source": [
    "extent2 = layer2.GetExtent()\n",
    "extent2"
   ]
  },
  {
   "cell_type": "code",
   "execution_count": 605,
   "id": "85ea1383-a66b-4baa-ad02-ec7ce4af3412",
   "metadata": {},
   "outputs": [],
   "source": [
    "xOrigin = extent2[0]\n",
    "yOrigin = extent2[3]\n",
    "\n",
    "PIXEL_SIZE = 0.5\n",
    "\n",
    "IMAGE_SIZE_X = (2 * math.ceil(extent2[3]-extent2[2])) + 100\n",
    "IMAGE_SIZE_Y = (2 * math.ceil(extent2[1]-extent2[0])) + 100\n",
    "\n",
    "pixelWidth = PIXEL_SIZE\n",
    "pixelHeight = -PIXEL_SIZE\n",
    "\n",
    "start_x = int(xOrigin)\n",
    "start_y = math.ceil(yOrigin)"
   ]
  },
  {
   "cell_type": "code",
   "execution_count": 606,
   "id": "a6235947-4e16-492d-ae45-45f8f87d8eb0",
   "metadata": {},
   "outputs": [],
   "source": [
    "start_x_p = int((start_x - xOrigin) / pixelWidth)\n",
    "start_y_p = int((start_y - yOrigin) / pixelHeight)\n",
    "\n",
    "i2arr = np.zeros((IMAGE_SIZE_X, IMAGE_SIZE_Y), dtype=np.uint8)"
   ]
  },
  {
   "cell_type": "code",
   "execution_count": 607,
   "id": "0f0a45e4-ab60-46ba-a761-607d42430f5e",
   "metadata": {},
   "outputs": [
    {
     "data": {
      "text/plain": [
       "(3460.8103511819004, 2356.688099999912, 1.468505888064708)"
      ]
     },
     "execution_count": 607,
     "metadata": {},
     "output_type": "execute_result"
    }
   ],
   "source": [
    "wi = math.hypot((extent2[0] - extent2[1]), (extent2[2] - extent2[3]))\n",
    "\n",
    "he = math.hypot((extent2[0] - extent2[0]), (extent2[3] - extent2[2]))\n",
    "\n",
    "car = wi / he\n",
    "\n",
    "wi, he, car"
   ]
  },
  {
   "cell_type": "code",
   "execution_count": 608,
   "id": "80cb98fe-d784-4d63-8d90-5b42fd79f2ec",
   "metadata": {},
   "outputs": [
    {
     "data": {
      "text/plain": [
       "'2.1.3'"
      ]
     },
     "execution_count": 608,
     "metadata": {},
     "output_type": "execute_result"
    }
   ],
   "source": [
    "gdal.__version__"
   ]
  },
  {
   "cell_type": "code",
   "execution_count": null,
   "id": "5a6da8fe-4b8a-40a4-93a8-6266152e319b",
   "metadata": {},
   "outputs": [],
   "source": [
    "# will not run due to geos\n",
    "cents, hts, areas = get_cents_hts(IMAGE_SIZE_X, IMAGE_SIZE_Y, layer2, ids, PIXEL_SIZE, height_field)\n"
   ]
  },
  {
   "cell_type": "code",
   "execution_count": null,
   "id": "1512aa79-ddda-43b1-90ff-bab284ce5d95",
   "metadata": {},
   "outputs": [],
   "source": [
    "cents_ns, cents_ew, avgsa, nbarea, mean_ht_out, std_ht_out, awmh_out = avg_building_dist(IMAGE_SIZE_X, IMAGE_SIZE_Y, layer2, ids, PIXEL_SIZE, height_field, hts, areas, cents)\n"
   ]
  },
  {
   "cell_type": "code",
   "execution_count": null,
   "id": "fee144e0-acee-4339-ab17-20e91bd46009",
   "metadata": {},
   "outputs": [],
   "source": []
  },
  {
   "cell_type": "code",
   "execution_count": null,
   "id": "daabf229-40ec-4a4b-9de5-336bba6e4e4d",
   "metadata": {},
   "outputs": [],
   "source": []
  },
  {
   "cell_type": "code",
   "execution_count": null,
   "id": "636045a0-1f3b-4b46-a81c-09da8ab90f9b",
   "metadata": {},
   "outputs": [],
   "source": []
  },
  {
   "cell_type": "code",
   "execution_count": null,
   "id": "e196c09b-9630-4a3e-b16d-1085bca5e9d3",
   "metadata": {},
   "outputs": [],
   "source": []
  },
  {
   "cell_type": "markdown",
   "id": "f84d12e7-b97f-41e4-8064-7d74a8892fee",
   "metadata": {},
   "source": [
    "#### ORIGINAL END"
   ]
  },
  {
   "cell_type": "code",
   "execution_count": null,
   "id": "95dca9ea-6324-406a-945c-3dca3288ea1e",
   "metadata": {},
   "outputs": [],
   "source": []
  }
 ],
 "metadata": {
  "kernelspec": {
   "display_name": "py3.9.4_naturf",
   "language": "python",
   "name": "py3.9.4_naturf"
  },
  "language_info": {
   "codemirror_mode": {
    "name": "ipython",
    "version": 3
   },
   "file_extension": ".py",
   "mimetype": "text/x-python",
   "name": "python",
   "nbconvert_exporter": "python",
   "pygments_lexer": "ipython3",
   "version": "3.9.4"
  }
 },
 "nbformat": 4,
 "nbformat_minor": 5
}
