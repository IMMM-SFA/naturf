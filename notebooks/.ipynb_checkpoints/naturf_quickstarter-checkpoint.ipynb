{
 "cells": [
  {
   "cell_type": "code",
   "execution_count": 2,
   "id": "cd45a941-91fe-46ee-ae24-4142810491a2",
   "metadata": {},
   "outputs": [],
   "source": [
    "import os\n",
    "\n",
    "import numpy as np\n",
    "import pandas as pd\n",
    "import rasterio\n",
    "import geopandas as gpd\n",
    "\n",
    "import matplotlib.pyplot as plt\n"
   ]
  },
  {
   "cell_type": "markdown",
   "id": "6b7ad354-bad2-4171-95a1-7f460475c2c7",
   "metadata": {},
   "source": [
    "### Explore the input data"
   ]
  },
  {
   "cell_type": "code",
   "execution_count": 3,
   "id": "e615d9c9-4158-4deb-b09e-2342c2a7f65d",
   "metadata": {},
   "outputs": [],
   "source": [
    "data_dir = \"/Users/d3y010/projects/naturf/data\"\n",
    "\n",
    "input_shapefile = os.path.join(data_dir, \"inputs\", \"C-5.shp\")\n"
   ]
  },
  {
   "cell_type": "code",
   "execution_count": 4,
   "id": "2f6dbf21-c045-48ad-8365-c6a10f5b8f67",
   "metadata": {},
   "outputs": [],
   "source": [
    "# read in shapefile and take a look\n",
    "gdf = gpd.read_file(input_shapefile)\n"
   ]
  },
  {
   "cell_type": "code",
   "execution_count": 5,
   "id": "714c5ff7-5299-41fb-961b-83398c318bf0",
   "metadata": {},
   "outputs": [
    {
     "data": {
      "text/html": [
       "<div>\n",
       "<style scoped>\n",
       "    .dataframe tbody tr th:only-of-type {\n",
       "        vertical-align: middle;\n",
       "    }\n",
       "\n",
       "    .dataframe tbody tr th {\n",
       "        vertical-align: top;\n",
       "    }\n",
       "\n",
       "    .dataframe thead th {\n",
       "        text-align: right;\n",
       "    }\n",
       "</style>\n",
       "<table border=\"1\" class=\"dataframe\">\n",
       "  <thead>\n",
       "    <tr style=\"text-align: right;\">\n",
       "      <th></th>\n",
       "      <th>Join_Count</th>\n",
       "      <th>TARGET_FID</th>\n",
       "      <th>FID_1</th>\n",
       "      <th>OBJECTID</th>\n",
       "      <th>GIS_ID</th>\n",
       "      <th>FEATURECOD</th>\n",
       "      <th>DESCRIPTIO</th>\n",
       "      <th>CAPTUREYEA</th>\n",
       "      <th>CAPTUREACT</th>\n",
       "      <th>SHAPE_Leng</th>\n",
       "      <th>...</th>\n",
       "      <th>Col</th>\n",
       "      <th>Row</th>\n",
       "      <th>Let_To_Num</th>\n",
       "      <th>First_Inde</th>\n",
       "      <th>Second_Ind</th>\n",
       "      <th>First_In_1</th>\n",
       "      <th>Second_I_1</th>\n",
       "      <th>Shape_Le_1</th>\n",
       "      <th>Shape_Area</th>\n",
       "      <th>geometry</th>\n",
       "    </tr>\n",
       "  </thead>\n",
       "  <tbody>\n",
       "    <tr>\n",
       "      <th>0</th>\n",
       "      <td>1</td>\n",
       "      <td>132147</td>\n",
       "      <td>132146</td>\n",
       "      <td>132147</td>\n",
       "      <td>None</td>\n",
       "      <td>BUILDING</td>\n",
       "      <td>Building</td>\n",
       "      <td>2015-04-24T00:00:00.000Z</td>\n",
       "      <td>Existing</td>\n",
       "      <td>12.991845</td>\n",
       "      <td>...</td>\n",
       "      <td>C</td>\n",
       "      <td>5.0</td>\n",
       "      <td>3.0</td>\n",
       "      <td>65.0</td>\n",
       "      <td>96.0</td>\n",
       "      <td>65.0</td>\n",
       "      <td>96.0</td>\n",
       "      <td>13.001421</td>\n",
       "      <td>10.433831</td>\n",
       "      <td>POLYGON ((1618111.652 1922706.443, 1618109.381...</td>\n",
       "    </tr>\n",
       "    <tr>\n",
       "      <th>1</th>\n",
       "      <td>1</td>\n",
       "      <td>132186</td>\n",
       "      <td>132185</td>\n",
       "      <td>132186</td>\n",
       "      <td>None</td>\n",
       "      <td>BUILDING</td>\n",
       "      <td>Building</td>\n",
       "      <td>2015-04-24T00:00:00.000Z</td>\n",
       "      <td>Existing</td>\n",
       "      <td>25.555249</td>\n",
       "      <td>...</td>\n",
       "      <td>C</td>\n",
       "      <td>5.0</td>\n",
       "      <td>3.0</td>\n",
       "      <td>65.0</td>\n",
       "      <td>96.0</td>\n",
       "      <td>65.0</td>\n",
       "      <td>96.0</td>\n",
       "      <td>25.553881</td>\n",
       "      <td>37.983140</td>\n",
       "      <td>POLYGON ((1618092.351 1922752.255, 1618088.410...</td>\n",
       "    </tr>\n",
       "    <tr>\n",
       "      <th>2</th>\n",
       "      <td>1</td>\n",
       "      <td>132230</td>\n",
       "      <td>132229</td>\n",
       "      <td>132230</td>\n",
       "      <td>None</td>\n",
       "      <td>BUILDING</td>\n",
       "      <td>Building</td>\n",
       "      <td>2017-03-09T00:00:00.000Z</td>\n",
       "      <td>Update</td>\n",
       "      <td>88.360518</td>\n",
       "      <td>...</td>\n",
       "      <td>C</td>\n",
       "      <td>5.0</td>\n",
       "      <td>3.0</td>\n",
       "      <td>65.0</td>\n",
       "      <td>96.0</td>\n",
       "      <td>65.0</td>\n",
       "      <td>96.0</td>\n",
       "      <td>88.376402</td>\n",
       "      <td>320.512854</td>\n",
       "      <td>POLYGON ((1618052.020 1922797.834, 1618051.749...</td>\n",
       "    </tr>\n",
       "  </tbody>\n",
       "</table>\n",
       "<p>3 rows × 37 columns</p>\n",
       "</div>"
      ],
      "text/plain": [
       "   Join_Count  TARGET_FID   FID_1  OBJECTID GIS_ID FEATURECOD DESCRIPTIO  \\\n",
       "0           1      132147  132146    132147   None   BUILDING   Building   \n",
       "1           1      132186  132185    132186   None   BUILDING   Building   \n",
       "2           1      132230  132229    132230   None   BUILDING   Building   \n",
       "\n",
       "                 CAPTUREYEA CAPTUREACT  SHAPE_Leng  ...  Col  Row  Let_To_Num  \\\n",
       "0  2015-04-24T00:00:00.000Z   Existing   12.991845  ...    C  5.0         3.0   \n",
       "1  2015-04-24T00:00:00.000Z   Existing   25.555249  ...    C  5.0         3.0   \n",
       "2  2017-03-09T00:00:00.000Z     Update   88.360518  ...    C  5.0         3.0   \n",
       "\n",
       "   First_Inde Second_Ind  First_In_1  Second_I_1  Shape_Le_1  Shape_Area  \\\n",
       "0        65.0       96.0        65.0        96.0   13.001421   10.433831   \n",
       "1        65.0       96.0        65.0        96.0   25.553881   37.983140   \n",
       "2        65.0       96.0        65.0        96.0   88.376402  320.512854   \n",
       "\n",
       "                                            geometry  \n",
       "0  POLYGON ((1618111.652 1922706.443, 1618109.381...  \n",
       "1  POLYGON ((1618092.351 1922752.255, 1618088.410...  \n",
       "2  POLYGON ((1618052.020 1922797.834, 1618051.749...  \n",
       "\n",
       "[3 rows x 37 columns]"
      ]
     },
     "execution_count": 5,
     "metadata": {},
     "output_type": "execute_result"
    }
   ],
   "source": [
    "gdf.head(3)"
   ]
  },
  {
   "cell_type": "code",
   "execution_count": 5,
   "id": "4f2db000-a28b-4328-b24a-6ccefade14f8",
   "metadata": {},
   "outputs": [
    {
     "data": {
      "text/plain": [
       "<AxesSubplot:>"
      ]
     },
     "execution_count": 5,
     "metadata": {},
     "output_type": "execute_result"
    },
    {
     "data": {
      "image/png": "[encoded data removed]",
      "text/plain": [
       "<Figure size 432x288 with 1 Axes>"
      ]
     },
     "metadata": {
      "needs_background": "light"
     },
     "output_type": "display_data"
    }
   ],
   "source": [
    "# plot one of the polygons\n",
    "gdf.loc[gdf[\"TARGET_FID\"] == 132147].plot()\n"
   ]
  },
  {
   "cell_type": "code",
   "execution_count": 12,
   "id": "d82b193c-a15b-41a9-b567-15763034ed37",
   "metadata": {},
   "outputs": [
    {
     "data": {
      "text/plain": [
       "<Derived Projected CRS: EPSG:5070>\n",
       "Name: NAD83 / Conus Albers\n",
       "Axis Info [cartesian]:\n",
       "- X[east]: Easting (metre)\n",
       "- Y[north]: Northing (metre)\n",
       "Area of Use:\n",
       "- name: United States (USA) - CONUS onshore - Alabama; Arizona; Arkansas; California; Colorado; Connecticut; Delaware; Florida; Georgia; Idaho; Illinois; Indiana; Iowa; Kansas; Kentucky; Louisiana; Maine; Maryland; Massachusetts; Michigan; Minnesota; Mississippi; Missouri; Montana; Nebraska; Nevada; New Hampshire; New Jersey; New Mexico; New York; North Carolina; North Dakota; Ohio; Oklahoma; Oregon; Pennsylvania; Rhode Island; South Carolina; South Dakota; Tennessee; Texas; Utah; Vermont; Virginia; Washington; West Virginia; Wisconsin; Wyoming.\n",
       "- bounds: (-124.79, 24.41, -66.91, 49.38)\n",
       "Coordinate Operation:\n",
       "- name: Conus Albers\n",
       "- method: Albers Equal Area\n",
       "Datum: North American Datum 1983\n",
       "- Ellipsoid: GRS 1980\n",
       "- Prime Meridian: Greenwich"
      ]
     },
     "execution_count": 12,
     "metadata": {},
     "output_type": "execute_result"
    }
   ],
   "source": [
    "# take a look at the coordinate reference system\n",
    "gdf.crs\n"
   ]
  },
  {
   "cell_type": "code",
   "execution_count": 14,
   "id": "fee6fbc0-4a9d-4a21-b9bb-4af550e517b3",
   "metadata": {},
   "outputs": [
    {
     "data": {
      "text/plain": [
       "<AxesSubplot:>"
      ]
     },
     "execution_count": 14,
     "metadata": {},
     "output_type": "execute_result"
    },
    {
     "data": {
      "image/png": "[encoded data removed]",
      "text/plain": [
       "<Figure size 864x576 with 1 Axes>"
      ]
     },
     "metadata": {
      "needs_background": "light"
     },
     "output_type": "display_data"
    }
   ],
   "source": [
    "fig, ax = plt.subplots(figsize=(12, 8))\n",
    "\n",
    "gdf.plot(ax=ax)\n"
   ]
  },
  {
   "cell_type": "markdown",
   "id": "9f08fc7d-e418-410a-9336-7a8a3a6b5496",
   "metadata": {},
   "source": [
    "## Original code"
   ]
  },
  {
   "cell_type": "code",
   "execution_count": 1,
   "id": "6fd4c600-89cb-4d2c-a5d7-1ff0ec5966c6",
   "metadata": {},
   "outputs": [],
   "source": [
    "import os\n",
    "\n",
    "import numpy as np\n",
    "from rasterio.plot import show\n",
    "from osgeo import gdal, ogr, osr\n",
    "from skimage.draw import polygon\n",
    "\n"
   ]
  },
  {
   "cell_type": "code",
   "execution_count": 2,
   "id": "b9401db4-58f7-4a7e-ba21-79fb5deee642",
   "metadata": {},
   "outputs": [],
   "source": [
    "data_dir = \"/Users/d3y010/projects/naturf/data\"\n",
    "\n",
    "input_shapefile = os.path.join(data_dir, \"inputs\", \"C-5.shp\")\n",
    "raster_dir = os.path.join(data_dir, \"outputs\")\n",
    "latitude_center = 38.9\n",
    "longitude_center = -77.0\n",
    "id_field = \"OBJECTID\"\n",
    "height_field = \"Max_HOUSE_\"\n"
   ]
  },
  {
   "cell_type": "code",
   "execution_count": 3,
   "id": "2c06afc6-a8a0-4b6b-bdfc-8a8077663774",
   "metadata": {},
   "outputs": [],
   "source": [
    "driver = ogr.GetDriverByName('ESRI Shapefile')\n"
   ]
  },
  {
   "cell_type": "code",
   "execution_count": 4,
   "id": "03ac483b-45b6-48a6-b102-4d150cda8745",
   "metadata": {},
   "outputs": [],
   "source": [
    "datasource2 = driver.Open(input_shapefile, 0)\n"
   ]
  },
  {
   "cell_type": "code",
   "execution_count": 5,
   "id": "d72e5517-ad60-46a5-b5ab-0195984e6ab1",
   "metadata": {},
   "outputs": [],
   "source": [
    "gdal.AllRegister()\n"
   ]
  },
  {
   "cell_type": "code",
   "execution_count": 6,
   "id": "b63985b8-5f91-40de-aece-c8521e736363",
   "metadata": {},
   "outputs": [],
   "source": [
    "layer2 = datasource2.GetLayer()\n"
   ]
  },
  {
   "cell_type": "code",
   "execution_count": 7,
   "id": "806ed48e-d3fc-42ad-bedc-369b344c35e9",
   "metadata": {},
   "outputs": [
    {
     "data": {
      "text/plain": [
       "(1617992.0141000003, 1620526.423200001, 1921653.0683999993, 1924009.7564999992)"
      ]
     },
     "execution_count": 7,
     "metadata": {},
     "output_type": "execute_result"
    }
   ],
   "source": [
    "extent2 = layer2.GetExtent()\n",
    "\n",
    "extent2\n"
   ]
  },
  {
   "cell_type": "code",
   "execution_count": 8,
   "id": "3dfd7aef-f622-4bb0-8e97-9e00471e83f0",
   "metadata": {},
   "outputs": [
    {
     "data": {
      "text/plain": [
       "(1617992.0141000003, 1924009.7564999992)"
      ]
     },
     "execution_count": 8,
     "metadata": {},
     "output_type": "execute_result"
    }
   ],
   "source": [
    "xOrigin = extent2[0]\n",
    "yOrigin = extent2[3]\n",
    "\n",
    "xOrigin, yOrigin\n"
   ]
  },
  {
   "cell_type": "code",
   "execution_count": 9,
   "id": "d99cbdf0-2fe6-4c33-9af3-71826baeb086",
   "metadata": {},
   "outputs": [
    {
     "data": {
      "text/plain": [
       "(4814, 5170)"
      ]
     },
     "execution_count": 9,
     "metadata": {},
     "output_type": "execute_result"
    }
   ],
   "source": [
    "PIXEL_SIZE = 0.5\n",
    "\n",
    "IMAGE_SIZE_X = int((2 * np.ceil(extent2[3]-extent2[2])) + 100)\n",
    "IMAGE_SIZE_Y = int((2 * np.ceil(extent2[1]-extent2[0])) + 100)\n",
    "\n",
    "pixelWidth = PIXEL_SIZE\n",
    "pixelHeight = -PIXEL_SIZE\n",
    "\n",
    "IMAGE_SIZE_X, IMAGE_SIZE_Y\n"
   ]
  },
  {
   "cell_type": "code",
   "execution_count": 10,
   "id": "22d8f7c6-0567-4709-963a-4cc844bddb00",
   "metadata": {},
   "outputs": [
    {
     "data": {
      "text/plain": [
       "(0, 0)"
      ]
     },
     "execution_count": 10,
     "metadata": {},
     "output_type": "execute_result"
    }
   ],
   "source": [
    "start_x = int(xOrigin)\n",
    "start_y = np.ceil(yOrigin)\n",
    "\n",
    "start_x_p = int((start_x - xOrigin) / pixelWidth)\n",
    "start_y_p = int((start_y - yOrigin) / pixelHeight)\n",
    "\n",
    "start_x_p, start_y_p\n"
   ]
  },
  {
   "cell_type": "code",
   "execution_count": 11,
   "id": "89f81b4f-a550-4b54-83f0-0d5b210045ec",
   "metadata": {},
   "outputs": [],
   "source": [
    "driver_out = gdal.GetDriverByName('GTiff')\n"
   ]
  },
  {
   "cell_type": "markdown",
   "id": "c634d0cc-fd2a-41cd-bb37-47de161f6c97",
   "metadata": {},
   "source": [
    "#### NOTE: potential error in passing Y size into xsize argument position"
   ]
  },
  {
   "cell_type": "code",
   "execution_count": 12,
   "id": "755b16cb-49ff-4aa8-9950-09c84deca2a4",
   "metadata": {},
   "outputs": [
    {
     "name": "stdout",
     "output_type": "stream",
     "text": [
      "Help on method Create in module osgeo.gdal:\n",
      "\n",
      "Create(*args, **kwargs) method of osgeo.gdal.Driver instance\n",
      "    Create(Driver self, char const * utf8_path, int xsize, int ysize, int bands=1, GDALDataType eType=GDT_Byte, \n",
      "        char ** options=None) -> Dataset\n",
      "\n"
     ]
    }
   ],
   "source": [
    "help(driver_out.Create)"
   ]
  },
  {
   "cell_type": "markdown",
   "id": "24a6f94c-de19-4ca1-b4c9-7d0ad3185fe3",
   "metadata": {},
   "source": [
    "Alternate possibility:\n",
    "\n",
    "```python\n",
    "imgOut = driver_out.Create(utf8_path=os.path.join(raster_dir, 'Buildings_Raster.tif'), \n",
    "                           ysize=IMAGE_SIZE_Y, \n",
    "                           xsize=IMAGE_SIZE_X, \n",
    "                           bands=1, \n",
    "                           eType=gdal.GDT_Int32)\n",
    "```"
   ]
  },
  {
   "cell_type": "code",
   "execution_count": 13,
   "id": "35b5f1de-cbe0-42fd-8105-1a9348a87073",
   "metadata": {},
   "outputs": [],
   "source": [
    "imgOut = driver_out.Create(os.path.join(raster_dir, 'Buildings_Raster.tif'), \n",
    "                           IMAGE_SIZE_Y, \n",
    "                           IMAGE_SIZE_X, \n",
    "                           1, \n",
    "                           gdal.GDT_Int32)\n"
   ]
  },
  {
   "cell_type": "code",
   "execution_count": 14,
   "id": "a4b5a543-38f7-49bb-98a6-11ef16103065",
   "metadata": {},
   "outputs": [
    {
     "data": {
      "text/plain": [
       "0"
      ]
     },
     "execution_count": 14,
     "metadata": {},
     "output_type": "execute_result"
    }
   ],
   "source": [
    "proj = osr.SpatialReference()\n",
    "proj.SetWellKnownGeogCS(\"NAD1983\")\n",
    "proj.SetACEA(29.5, 45.5, latitude_center, longitude_center, 0, 0)\n"
   ]
  },
  {
   "cell_type": "code",
   "execution_count": 15,
   "id": "2b688bb3-703e-439e-86ab-6500512111f4",
   "metadata": {},
   "outputs": [],
   "source": [
    "bandOut1 = imgOut.GetRasterBand(1)\n",
    "\n",
    "data1 = np.empty((IMAGE_SIZE_X, IMAGE_SIZE_Y), dtype=np.uint8)\n",
    "data1.fill(255)\n",
    "\n",
    "ids = np.empty((IMAGE_SIZE_X, IMAGE_SIZE_Y), dtype=np.uint16)\n",
    "ids.fill(255)\n",
    "\n",
    "buils = np.empty((IMAGE_SIZE_X, IMAGE_SIZE_Y), dtype=np.uint16)\n",
    "buils.fill(255)\n",
    "\n",
    "tempxyz = np.empty((IMAGE_SIZE_X, IMAGE_SIZE_Y), dtype=np.float64)\n",
    "\n",
    "distarr = np.empty((IMAGE_SIZE_X, IMAGE_SIZE_Y), dtype=np.float64)\n",
    "distarr.fill(0)\n"
   ]
  },
  {
   "cell_type": "markdown",
   "id": "02c78345-da52-4a9d-8b00-7c99c0bc67e4",
   "metadata": {},
   "source": [
    "#### ------------ BEGIN Option 1:  run full loop ------------\n"
   ]
  },
  {
   "cell_type": "code",
   "execution_count": 16,
   "id": "5435f2a7-3cf3-48bd-8b7e-3cb81159fc7f",
   "metadata": {},
   "outputs": [],
   "source": [
    "# loop through the buildings\n",
    "feature_buil = layer2.GetNextFeature()\n",
    "\n",
    "while feature_buil:\n",
    "    \n",
    "    geomb = feature_buil.GetGeometryRef()\n",
    "    ring = geomb.GetGeometryRef(0)\n",
    "    numpoints = ring.GetPointCount()\n",
    "    \n",
    "    if numpoints != 0:\n",
    "    \n",
    "        nx, ny, _ = ring.GetPoint(0)\n",
    "\n",
    "        xOffset = int((nx - xOrigin) / pixelWidth)\n",
    "        yOffset = int((ny - yOrigin) / pixelHeight)\n",
    "\n",
    "        parrx = [[xOffset]]\n",
    "        parry = [[yOffset]]\n",
    "\n",
    "        for i in range(1, numpoints):\n",
    "\n",
    "            bpt = ring.GetPoint(i)\n",
    "\n",
    "            xoff = int((bpt[0] - xOrigin) / pixelWidth)\n",
    "            yoff = int((bpt[1] - yOrigin) / pixelHeight)\n",
    "\n",
    "            parrx.append([xoff])\n",
    "            parry.append([yoff])\n",
    "\n",
    "        parrx[:] = [x[0] - start_x_p for x in parrx]\n",
    "        parry[:] = [y[0] - start_y_p for y in parry]\n",
    "\n",
    "        parrx = np.array(parrx)\n",
    "        parry = np.array(parry)\n",
    "\n",
    "        rr, cc = polygon(parrx, parry, [IMAGE_SIZE_Y, IMAGE_SIZE_X])\n",
    "\n",
    "        buils[cc, rr] = 127\n",
    "\n",
    "    feature_buil.Destroy()\n",
    "    feature_buil = layer2.GetNextFeature()\n"
   ]
  },
  {
   "cell_type": "markdown",
   "id": "e23f63f5-4615-4f66-bc04-933006b5577f",
   "metadata": {},
   "source": [
    "#### ------------ END Option 1:  run full loop ------------\n"
   ]
  },
  {
   "cell_type": "code",
   "execution_count": null,
   "id": "b3e6d6bb-9be4-419f-806c-992933a0157a",
   "metadata": {},
   "outputs": [],
   "source": []
  },
  {
   "cell_type": "markdown",
   "id": "c6a29dae-4d31-458c-9a6b-46d83b6cce91",
   "metadata": {},
   "source": [
    "#### ------------ BEGIN Option 2: break loop into parts to evaluate ------------"
   ]
  },
  {
   "cell_type": "code",
   "execution_count": null,
   "id": "4d954215-65f3-4d58-89dd-82af70605678",
   "metadata": {},
   "outputs": [],
   "source": [
    "# loop through the buildings\n",
    "feature_buil = layer2.GetNextFeature()"
   ]
  },
  {
   "cell_type": "markdown",
   "id": "304e9dbf-ff0b-41fe-9c23-bf2066dce008",
   "metadata": {},
   "source": [
    "#### [0] START LOOP"
   ]
  },
  {
   "cell_type": "code",
   "execution_count": 31,
   "id": "119446cf-3bb6-401a-92a3-62100fc9b9e8",
   "metadata": {},
   "outputs": [],
   "source": [
    "geomb = feature_buil.GetGeometryRef()\n",
    "ring = geomb.GetGeometryRef(0)\n",
    "numpoints = ring.GetPointCount()\n"
   ]
  },
  {
   "cell_type": "code",
   "execution_count": 32,
   "id": "7f86e517-76a4-423a-afd6-5ae88875a4bd",
   "metadata": {},
   "outputs": [
    {
     "data": {
      "text/plain": [
       "<osgeo.ogr.Geometry; proxy of <Swig Object of type 'OGRGeometryShadow *' at 0x1166a4390> >"
      ]
     },
     "execution_count": 32,
     "metadata": {},
     "output_type": "execute_result"
    }
   ],
   "source": [
    "ring"
   ]
  },
  {
   "cell_type": "code",
   "execution_count": 33,
   "id": "956365b8-94ae-41b5-b66d-1adc20fdeb02",
   "metadata": {},
   "outputs": [
    {
     "data": {
      "text/plain": [
       "9"
      ]
     },
     "execution_count": 33,
     "metadata": {},
     "output_type": "execute_result"
    }
   ],
   "source": [
    "numpoints"
   ]
  },
  {
   "cell_type": "code",
   "execution_count": 34,
   "id": "461d4a82-c84e-4af1-b5ca-bd3962bcbe30",
   "metadata": {},
   "outputs": [
    {
     "data": {
      "text/plain": [
       "(1618111.6521999985, 1922706.4426000006, 0.0)"
      ]
     },
     "execution_count": 34,
     "metadata": {},
     "output_type": "execute_result"
    }
   ],
   "source": [
    "nx, ny, _ = ring.GetPoint(0)\n",
    "\n",
    "nx, ny, _"
   ]
  },
  {
   "cell_type": "code",
   "execution_count": 35,
   "id": "b6c9984c-4873-4d1f-b708-92c73a68a1f7",
   "metadata": {},
   "outputs": [
    {
     "data": {
      "text/plain": [
       "(239, 2606)"
      ]
     },
     "execution_count": 35,
     "metadata": {},
     "output_type": "execute_result"
    }
   ],
   "source": [
    "xOffset = int((nx - xOrigin) / pixelWidth)\n",
    "yOffset = int((ny - yOrigin) / pixelHeight)\n",
    "\n",
    "xOffset, yOffset\n"
   ]
  },
  {
   "cell_type": "code",
   "execution_count": 37,
   "id": "7a153061-bc96-4d6b-a938-7519a92b683a",
   "metadata": {},
   "outputs": [
    {
     "data": {
      "text/plain": [
       "([[239]], [[2606]])"
      ]
     },
     "execution_count": 37,
     "metadata": {},
     "output_type": "execute_result"
    }
   ],
   "source": [
    "parrx = [[xOffset]]\n",
    "parry = [[yOffset]]\n",
    "\n",
    "parrx, parry\n"
   ]
  },
  {
   "cell_type": "code",
   "execution_count": 38,
   "id": "36a05bca-e2cb-4593-aea6-1092ea65e478",
   "metadata": {},
   "outputs": [
    {
     "name": "stdout",
     "output_type": "stream",
     "text": [
      "(1618109.3806000017, 1922704.6578000002, 0.0)\n",
      "(1618108.8795999996, 1922705.3160999995, 0.0)\n",
      "(1618107.362399999, 1922707.3079000004, 0.0)\n",
      "(1618107.1928000003, 1922707.5310999993, 0.0)\n",
      "(1618109.4642000012, 1922709.3165000007, 0.0)\n",
      "(1618109.5769000016, 1922709.1688, 0.0)\n",
      "(1618111.2226999998, 1922707.0072000008, 0.0)\n",
      "(1618111.6521999985, 1922706.4426000006, 0.0)\n"
     ]
    },
    {
     "data": {
      "text/plain": [
       "([[239], [234], [233], [230], [230], [234], [235], [238], [239]],\n",
       " [[2606], [2610], [2608], [2604], [2604], [2600], [2601], [2605], [2606]])"
      ]
     },
     "execution_count": 38,
     "metadata": {},
     "output_type": "execute_result"
    }
   ],
   "source": [
    "for i in range(1, numpoints):\n",
    "    \n",
    "    bpt = ring.GetPoint(i)\n",
    "    \n",
    "    print(bpt)\n",
    "\n",
    "    xoff = int((bpt[0] - xOrigin) / pixelWidth)\n",
    "    yoff = int((bpt[1] - yOrigin) / pixelHeight)\n",
    "\n",
    "    parrx.append([xoff])\n",
    "    parry.append([yoff])\n",
    "\n",
    "parrx, parry\n"
   ]
  },
  {
   "cell_type": "code",
   "execution_count": 39,
   "id": "70894eb9-d8af-41bf-aa5a-ea32a8d81303",
   "metadata": {},
   "outputs": [
    {
     "data": {
      "text/plain": [
       "([239, 234, 233, 230, 230, 234, 235, 238, 239],\n",
       " [2606, 2610, 2608, 2604, 2604, 2600, 2601, 2605, 2606])"
      ]
     },
     "execution_count": 39,
     "metadata": {},
     "output_type": "execute_result"
    }
   ],
   "source": [
    "parrx[:] = [x[0] - start_x_p for x in parrx]\n",
    "parry[:] = [y[0] - start_y_p for y in parry]\n",
    "\n",
    "parrx, parry\n"
   ]
  },
  {
   "cell_type": "code",
   "execution_count": 43,
   "id": "3bb9bf0c-f732-48d7-bf75-a13da25b7730",
   "metadata": {},
   "outputs": [
    {
     "data": {
      "text/plain": [
       "array([[255, 255, 255, ..., 255, 255, 255],\n",
       "       [255, 255, 255, ..., 255, 255, 255],\n",
       "       [255, 255, 255, ..., 255, 255, 255],\n",
       "       ...,\n",
       "       [255, 255, 255, ..., 255, 255, 255],\n",
       "       [255, 255, 255, ..., 255, 255, 255],\n",
       "       [255, 255, 255, ..., 255, 255, 255]], dtype=uint16)"
      ]
     },
     "execution_count": 43,
     "metadata": {},
     "output_type": "execute_result"
    }
   ],
   "source": [
    "parrx = np.array(parrx)\n",
    "parry = np.array(parry)\n",
    "\n",
    "rr, cc = polygon(parrx, parry, [IMAGE_SIZE_Y, IMAGE_SIZE_X])\n",
    "\n",
    "buils[cc, rr] = 127\n",
    "\n",
    "buils\n"
   ]
  },
  {
   "cell_type": "code",
   "execution_count": 44,
   "id": "b1a659af-7714-4fd2-bce4-a899e37a86dd",
   "metadata": {},
   "outputs": [
    {
     "data": {
      "text/plain": [
       "(4814, 5170)"
      ]
     },
     "execution_count": 44,
     "metadata": {},
     "output_type": "execute_result"
    }
   ],
   "source": [
    "buils.shape"
   ]
  },
  {
   "cell_type": "code",
   "execution_count": 46,
   "id": "1a915bfe-7d7c-4eb8-8132-62562d0e2664",
   "metadata": {},
   "outputs": [],
   "source": [
    "feature_buil.Destroy()\n",
    "feature_buil = layer2.GetNextFeature()\n"
   ]
  },
  {
   "cell_type": "markdown",
   "id": "f0553422-645c-4e89-bb98-79396fc553c9",
   "metadata": {},
   "source": [
    "#### [0] END LOOP"
   ]
  },
  {
   "cell_type": "markdown",
   "id": "4b9db878-7d9b-4aeb-85f8-166cf4d129f9",
   "metadata": {},
   "source": [
    "#### ------------ END Option 2: break loop into parts to evaluate ------------"
   ]
  },
  {
   "cell_type": "code",
   "execution_count": null,
   "id": "cde989ee-9665-4fcd-8ee0-7b6b0af93d74",
   "metadata": {},
   "outputs": [],
   "source": []
  },
  {
   "cell_type": "code",
   "execution_count": 17,
   "id": "b0d54e8b-3ac8-41fe-b43b-540e3196a518",
   "metadata": {},
   "outputs": [],
   "source": [
    "data1 = np.where(buils != 127, data1, 127)\n"
   ]
  },
  {
   "cell_type": "code",
   "execution_count": 18,
   "id": "e39caad9-c220-447b-b7b4-daf129e58518",
   "metadata": {},
   "outputs": [
    {
     "data": {
      "image/png": "[encoded data removed]",
      "text/plain": [
       "<Figure size 432x288 with 1 Axes>"
      ]
     },
     "metadata": {
      "needs_background": "light"
     },
     "output_type": "display_data"
    },
    {
     "data": {
      "text/plain": [
       "<AxesSubplot:>"
      ]
     },
     "execution_count": 18,
     "metadata": {},
     "output_type": "execute_result"
    }
   ],
   "source": [
    "show(data1)"
   ]
  },
  {
   "cell_type": "code",
   "execution_count": 19,
   "id": "6b43d567-dd1d-4d7c-81e7-cbc6af8070f6",
   "metadata": {},
   "outputs": [],
   "source": [
    "bandOut1.WriteArray(data1, 0, 0)\n",
    "\n",
    "imgOut.SetGeoTransform((start_x, pixelWidth, 0, start_y, 0, pixelHeight))\n",
    "\n",
    "imgOut.SetProjection(proj.ExportToWkt())\n",
    "\n",
    "del imgOut\n"
   ]
  },
  {
   "cell_type": "markdown",
   "id": "50cd87e2-e250-47c6-9fd2-cfa4e7471d50",
   "metadata": {},
   "source": [
    "## Implementation process"
   ]
  },
  {
   "cell_type": "code",
   "execution_count": 6,
   "id": "8cdc4680-ab43-4060-800d-aa46ccfd5cb9",
   "metadata": {},
   "outputs": [],
   "source": [
    "import os\n",
    "\n",
    "import numpy as np\n",
    "import pandas as pd\n",
    "import rasterio\n",
    "import geopandas as gpd\n",
    "from geocube.api.core import make_geocube\n",
    "\n",
    "import matplotlib.pyplot as plt\n"
   ]
  },
  {
   "cell_type": "code",
   "execution_count": 7,
   "id": "39aa0848-56c8-4201-b076-8c97ca0a4e8c",
   "metadata": {},
   "outputs": [],
   "source": [
    "data_dir = \"/Users/d3y010/projects/naturf/data\"\n",
    "\n",
    "input_shapefile = os.path.join(data_dir, \"inputs\", \"C-5.shp\")\n",
    "raster_dir = os.path.join(data_dir, \"outputs\")\n",
    "latitude_center = 38.9\n",
    "longitude_center = -77.0\n",
    "id_field = \"OBJECTID\"\n",
    "height_field = \"Max_HOUSE_\"\n",
    "\n",
    "raster_value = 127\n",
    "no_data_value = 255\n",
    "target_resolution = 0.5\n"
   ]
  },
  {
   "cell_type": "code",
   "execution_count": 8,
   "id": "13d0d327-b08c-40aa-a065-7b5cfbcee324",
   "metadata": {},
   "outputs": [],
   "source": [
    "# read in shapefile as a geodataframe\n",
    "gdf = gpd.read_file(input_shapefile)\n"
   ]
  },
  {
   "cell_type": "code",
   "execution_count": 9,
   "id": "af73c65c-d701-41ab-bc9d-6e9ef46c473b",
   "metadata": {},
   "outputs": [],
   "source": [
    "# add in field for raster value\n",
    "gdf[\"raster_value\"] = raster_value\n"
   ]
  },
  {
   "cell_type": "markdown",
   "id": "e461fdcf-b092-4539-a0b4-10c204d878b6",
   "metadata": {},
   "source": [
    "See docs for the `make_geocube` function here:  https://corteva.github.io/geocube/stable/geocube.html?highlight=make_geocube#make-geocube"
   ]
  },
  {
   "cell_type": "code",
   "execution_count": 10,
   "id": "fc1e0bf9-068c-469e-aecb-d355896fb524",
   "metadata": {},
   "outputs": [],
   "source": [
    "cube = make_geocube(vector_data=gdf, \n",
    "                    measurements=[\"raster_value\"], \n",
    "                    resolution=(target_resolution, -target_resolution),\n",
    "                    fill=no_data_value)\n"
   ]
  },
  {
   "cell_type": "code",
   "execution_count": 11,
   "id": "ff37ea61-3ac6-426f-a6e1-944898c77d83",
   "metadata": {},
   "outputs": [
    {
     "data": {
      "text/plain": [
       "<matplotlib.collections.QuadMesh at 0x13c01c190>"
      ]
     },
     "execution_count": 11,
     "metadata": {},
     "output_type": "execute_result"
    },
    {
     "data": {
      "image/png": "[encoded data removed]",
      "text/plain": [
       "<Figure size 432x288 with 2 Axes>"
      ]
     },
     "metadata": {
      "needs_background": "light"
     },
     "output_type": "display_data"
    }
   ],
   "source": [
    "cube.raster_value.plot()"
   ]
  },
  {
   "cell_type": "code",
   "execution_count": 35,
   "id": "7a65a92b-57e9-4f6c-9149-200ba8c1e28a",
   "metadata": {},
   "outputs": [],
   "source": [
    "output_raster = os.path.join(raster_dir, f\"buildings_{os.path.splitext(os.path.basename(input_shapefile))[0]}.tif\")\n",
    "\n",
    "cube.raster_value.rio.to_raster(output_raster)\n",
    "                             "
   ]
  },
  {
   "cell_type": "code",
   "execution_count": 36,
   "id": "8746c48c-e76d-481c-a47a-36caefee4062",
   "metadata": {},
   "outputs": [
    {
     "data": {
      "text/html": [
       "<div><svg style=\"position: absolute; width: 0; height: 0; overflow: hidden\">\n",
       "<defs>\n",
       "<symbol id=\"icon-database\" viewBox=\"0 0 32 32\">\n",
       "<path d=\"M16 0c-8.837 0-16 2.239-16 5v4c0 2.761 7.163 5 16 5s16-2.239 16-5v-4c0-2.761-7.163-5-16-5z\"></path>\n",
       "<path d=\"M16 17c-8.837 0-16-2.239-16-5v6c0 2.761 7.163 5 16 5s16-2.239 16-5v-6c0 2.761-7.163 5-16 5z\"></path>\n",
       "<path d=\"M16 26c-8.837 0-16-2.239-16-5v6c0 2.761 7.163 5 16 5s16-2.239 16-5v-6c0 2.761-7.163 5-16 5z\"></path>\n",
       "</symbol>\n",
       "<symbol id=\"icon-file-text2\" viewBox=\"0 0 32 32\">\n",
       "<path d=\"M28.681 7.159c-0.694-0.947-1.662-2.053-2.724-3.116s-2.169-2.030-3.116-2.724c-1.612-1.182-2.393-1.319-2.841-1.319h-15.5c-1.378 0-2.5 1.121-2.5 2.5v27c0 1.378 1.122 2.5 2.5 2.5h23c1.378 0 2.5-1.122 2.5-2.5v-19.5c0-0.448-0.137-1.23-1.319-2.841zM24.543 5.457c0.959 0.959 1.712 1.825 2.268 2.543h-4.811v-4.811c0.718 0.556 1.584 1.309 2.543 2.268zM28 29.5c0 0.271-0.229 0.5-0.5 0.5h-23c-0.271 0-0.5-0.229-0.5-0.5v-27c0-0.271 0.229-0.5 0.5-0.5 0 0 15.499-0 15.5 0v7c0 0.552 0.448 1 1 1h7v19.5z\"></path>\n",
       "<path d=\"M23 26h-14c-0.552 0-1-0.448-1-1s0.448-1 1-1h14c0.552 0 1 0.448 1 1s-0.448 1-1 1z\"></path>\n",
       "<path d=\"M23 22h-14c-0.552 0-1-0.448-1-1s0.448-1 1-1h14c0.552 0 1 0.448 1 1s-0.448 1-1 1z\"></path>\n",
       "<path d=\"M23 18h-14c-0.552 0-1-0.448-1-1s0.448-1 1-1h14c0.552 0 1 0.448 1 1s-0.448 1-1 1z\"></path>\n",
       "</symbol>\n",
       "</defs>\n",
       "</svg>\n",
       "<style>/* CSS stylesheet for displaying xarray objects in jupyterlab.\n",
       " *\n",
       " */\n",
       "\n",
       ":root {\n",
       "  --xr-font-color0: var(--jp-content-font-color0, rgba(0, 0, 0, 1));\n",
       "  --xr-font-color2: var(--jp-content-font-color2, rgba(0, 0, 0, 0.54));\n",
       "  --xr-font-color3: var(--jp-content-font-color3, rgba(0, 0, 0, 0.38));\n",
       "  --xr-border-color: var(--jp-border-color2, #e0e0e0);\n",
       "  --xr-disabled-color: var(--jp-layout-color3, #bdbdbd);\n",
       "  --xr-background-color: var(--jp-layout-color0, white);\n",
       "  --xr-background-color-row-even: var(--jp-layout-color1, white);\n",
       "  --xr-background-color-row-odd: var(--jp-layout-color2, #eeeeee);\n",
       "}\n",
       "\n",
       "html[theme=dark],\n",
       "body.vscode-dark {\n",
       "  --xr-font-color0: rgba(255, 255, 255, 1);\n",
       "  --xr-font-color2: rgba(255, 255, 255, 0.54);\n",
       "  --xr-font-color3: rgba(255, 255, 255, 0.38);\n",
       "  --xr-border-color: #1F1F1F;\n",
       "  --xr-disabled-color: #515151;\n",
       "  --xr-background-color: #111111;\n",
       "  --xr-background-color-row-even: #111111;\n",
       "  --xr-background-color-row-odd: #313131;\n",
       "}\n",
       "\n",
       ".xr-wrap {\n",
       "  display: block !important;\n",
       "  min-width: 300px;\n",
       "  max-width: 700px;\n",
       "}\n",
       "\n",
       ".xr-text-repr-fallback {\n",
       "  /* fallback to plain text repr when CSS is not injected (untrusted notebook) */\n",
       "  display: none;\n",
       "}\n",
       "\n",
       ".xr-header {\n",
       "  padding-top: 6px;\n",
       "  padding-bottom: 6px;\n",
       "  margin-bottom: 4px;\n",
       "  border-bottom: solid 1px var(--xr-border-color);\n",
       "}\n",
       "\n",
       ".xr-header > div,\n",
       ".xr-header > ul {\n",
       "  display: inline;\n",
       "  margin-top: 0;\n",
       "  margin-bottom: 0;\n",
       "}\n",
       "\n",
       ".xr-obj-type,\n",
       ".xr-array-name {\n",
       "  margin-left: 2px;\n",
       "  margin-right: 10px;\n",
       "}\n",
       "\n",
       ".xr-obj-type {\n",
       "  color: var(--xr-font-color2);\n",
       "}\n",
       "\n",
       ".xr-sections {\n",
       "  padding-left: 0 !important;\n",
       "  display: grid;\n",
       "  grid-template-columns: 150px auto auto 1fr 20px 20px;\n",
       "}\n",
       "\n",
       ".xr-section-item {\n",
       "  display: contents;\n",
       "}\n",
       "\n",
       ".xr-section-item input {\n",
       "  display: none;\n",
       "}\n",
       "\n",
       ".xr-section-item input + label {\n",
       "  color: var(--xr-disabled-color);\n",
       "}\n",
       "\n",
       ".xr-section-item input:enabled + label {\n",
       "  cursor: pointer;\n",
       "  color: var(--xr-font-color2);\n",
       "}\n",
       "\n",
       ".xr-section-item input:enabled + label:hover {\n",
       "  color: var(--xr-font-color0);\n",
       "}\n",
       "\n",
       ".xr-section-summary {\n",
       "  grid-column: 1;\n",
       "  color: var(--xr-font-color2);\n",
       "  font-weight: 500;\n",
       "}\n",
       "\n",
       ".xr-section-summary > span {\n",
       "  display: inline-block;\n",
       "  padding-left: 0.5em;\n",
       "}\n",
       "\n",
       ".xr-section-summary-in:disabled + label {\n",
       "  color: var(--xr-font-color2);\n",
       "}\n",
       "\n",
       ".xr-section-summary-in + label:before {\n",
       "  display: inline-block;\n",
       "  content: '►';\n",
       "  font-size: 11px;\n",
       "  width: 15px;\n",
       "  text-align: center;\n",
       "}\n",
       "\n",
       ".xr-section-summary-in:disabled + label:before {\n",
       "  color: var(--xr-disabled-color);\n",
       "}\n",
       "\n",
       ".xr-section-summary-in:checked + label:before {\n",
       "  content: '▼';\n",
       "}\n",
       "\n",
       ".xr-section-summary-in:checked + label > span {\n",
       "  display: none;\n",
       "}\n",
       "\n",
       ".xr-section-summary,\n",
       ".xr-section-inline-details {\n",
       "  padding-top: 4px;\n",
       "  padding-bottom: 4px;\n",
       "}\n",
       "\n",
       ".xr-section-inline-details {\n",
       "  grid-column: 2 / -1;\n",
       "}\n",
       "\n",
       ".xr-section-details {\n",
       "  display: none;\n",
       "  grid-column: 1 / -1;\n",
       "  margin-bottom: 5px;\n",
       "}\n",
       "\n",
       ".xr-section-summary-in:checked ~ .xr-section-details {\n",
       "  display: contents;\n",
       "}\n",
       "\n",
       ".xr-array-wrap {\n",
       "  grid-column: 1 / -1;\n",
       "  display: grid;\n",
       "  grid-template-columns: 20px auto;\n",
       "}\n",
       "\n",
       ".xr-array-wrap > label {\n",
       "  grid-column: 1;\n",
       "  vertical-align: top;\n",
       "}\n",
       "\n",
       ".xr-preview {\n",
       "  color: var(--xr-font-color3);\n",
       "}\n",
       "\n",
       ".xr-array-preview,\n",
       ".xr-array-data {\n",
       "  padding: 0 5px !important;\n",
       "  grid-column: 2;\n",
       "}\n",
       "\n",
       ".xr-array-data,\n",
       ".xr-array-in:checked ~ .xr-array-preview {\n",
       "  display: none;\n",
       "}\n",
       "\n",
       ".xr-array-in:checked ~ .xr-array-data,\n",
       ".xr-array-preview {\n",
       "  display: inline-block;\n",
       "}\n",
       "\n",
       ".xr-dim-list {\n",
       "  display: inline-block !important;\n",
       "  list-style: none;\n",
       "  padding: 0 !important;\n",
       "  margin: 0;\n",
       "}\n",
       "\n",
       ".xr-dim-list li {\n",
       "  display: inline-block;\n",
       "  padding: 0;\n",
       "  margin: 0;\n",
       "}\n",
       "\n",
       ".xr-dim-list:before {\n",
       "  content: '(';\n",
       "}\n",
       "\n",
       ".xr-dim-list:after {\n",
       "  content: ')';\n",
       "}\n",
       "\n",
       ".xr-dim-list li:not(:last-child):after {\n",
       "  content: ',';\n",
       "  padding-right: 5px;\n",
       "}\n",
       "\n",
       ".xr-has-index {\n",
       "  font-weight: bold;\n",
       "}\n",
       "\n",
       ".xr-var-list,\n",
       ".xr-var-item {\n",
       "  display: contents;\n",
       "}\n",
       "\n",
       ".xr-var-item > div,\n",
       ".xr-var-item label,\n",
       ".xr-var-item > .xr-var-name span {\n",
       "  background-color: var(--xr-background-color-row-even);\n",
       "  margin-bottom: 0;\n",
       "}\n",
       "\n",
       ".xr-var-item > .xr-var-name:hover span {\n",
       "  padding-right: 5px;\n",
       "}\n",
       "\n",
       ".xr-var-list > li:nth-child(odd) > div,\n",
       ".xr-var-list > li:nth-child(odd) > label,\n",
       ".xr-var-list > li:nth-child(odd) > .xr-var-name span {\n",
       "  background-color: var(--xr-background-color-row-odd);\n",
       "}\n",
       "\n",
       ".xr-var-name {\n",
       "  grid-column: 1;\n",
       "}\n",
       "\n",
       ".xr-var-dims {\n",
       "  grid-column: 2;\n",
       "}\n",
       "\n",
       ".xr-var-dtype {\n",
       "  grid-column: 3;\n",
       "  text-align: right;\n",
       "  color: var(--xr-font-color2);\n",
       "}\n",
       "\n",
       ".xr-var-preview {\n",
       "  grid-column: 4;\n",
       "}\n",
       "\n",
       ".xr-var-name,\n",
       ".xr-var-dims,\n",
       ".xr-var-dtype,\n",
       ".xr-preview,\n",
       ".xr-attrs dt {\n",
       "  white-space: nowrap;\n",
       "  overflow: hidden;\n",
       "  text-overflow: ellipsis;\n",
       "  padding-right: 10px;\n",
       "}\n",
       "\n",
       ".xr-var-name:hover,\n",
       ".xr-var-dims:hover,\n",
       ".xr-var-dtype:hover,\n",
       ".xr-attrs dt:hover {\n",
       "  overflow: visible;\n",
       "  width: auto;\n",
       "  z-index: 1;\n",
       "}\n",
       "\n",
       ".xr-var-attrs,\n",
       ".xr-var-data {\n",
       "  display: none;\n",
       "  background-color: var(--xr-background-color) !important;\n",
       "  padding-bottom: 5px !important;\n",
       "}\n",
       "\n",
       ".xr-var-attrs-in:checked ~ .xr-var-attrs,\n",
       ".xr-var-data-in:checked ~ .xr-var-data {\n",
       "  display: block;\n",
       "}\n",
       "\n",
       ".xr-var-data > table {\n",
       "  float: right;\n",
       "}\n",
       "\n",
       ".xr-var-name span,\n",
       ".xr-var-data,\n",
       ".xr-attrs {\n",
       "  padding-left: 25px !important;\n",
       "}\n",
       "\n",
       ".xr-attrs,\n",
       ".xr-var-attrs,\n",
       ".xr-var-data {\n",
       "  grid-column: 1 / -1;\n",
       "}\n",
       "\n",
       "dl.xr-attrs {\n",
       "  padding: 0;\n",
       "  margin: 0;\n",
       "  display: grid;\n",
       "  grid-template-columns: 125px auto;\n",
       "}\n",
       "\n",
       ".xr-attrs dt,\n",
       ".xr-attrs dd {\n",
       "  padding: 0;\n",
       "  margin: 0;\n",
       "  float: left;\n",
       "  padding-right: 10px;\n",
       "  width: auto;\n",
       "}\n",
       "\n",
       ".xr-attrs dt {\n",
       "  font-weight: normal;\n",
       "  grid-column: 1;\n",
       "}\n",
       "\n",
       ".xr-attrs dt:hover span {\n",
       "  display: inline-block;\n",
       "  background: var(--xr-background-color);\n",
       "  padding-right: 10px;\n",
       "}\n",
       "\n",
       ".xr-attrs dd {\n",
       "  grid-column: 2;\n",
       "  white-space: pre-wrap;\n",
       "  word-break: break-all;\n",
       "}\n",
       "\n",
       ".xr-icon-database,\n",
       ".xr-icon-file-text2 {\n",
       "  display: inline-block;\n",
       "  vertical-align: middle;\n",
       "  width: 1em;\n",
       "  height: 1.5em !important;\n",
       "  stroke-width: 0;\n",
       "  stroke: currentColor;\n",
       "  fill: currentColor;\n",
       "}\n",
       "</style><pre class='xr-text-repr-fallback'>&lt;xarray.Dataset&gt;\n",
       "Dimensions:       (y: 4714, x: 5069)\n",
       "Coordinates:\n",
       "  * y             (y) float64 1.922e+06 1.922e+06 ... 1.924e+06 1.924e+06\n",
       "  * x             (x) float64 1.621e+06 1.621e+06 ... 1.618e+06 1.618e+06\n",
       "    spatial_ref   int64 0\n",
       "Data variables:\n",
       "    raster_value  (y, x) float64 255.0 255.0 255.0 255.0 ... 255.0 255.0 255.0</pre><div class='xr-wrap' style='display:none'><div class='xr-header'><div class='xr-obj-type'>xarray.Dataset</div></div><ul class='xr-sections'><li class='xr-section-item'><input id='section-747bc3f2-6889-4383-bd48-dfa3044bea19' class='xr-section-summary-in' type='checkbox' disabled ><label for='section-747bc3f2-6889-4383-bd48-dfa3044bea19' class='xr-section-summary'  title='Expand/collapse section'>Dimensions:</label><div class='xr-section-inline-details'><ul class='xr-dim-list'><li><span class='xr-has-index'>y</span>: 4714</li><li><span class='xr-has-index'>x</span>: 5069</li></ul></div><div class='xr-section-details'></div></li><li class='xr-section-item'><input id='section-f05f120c-77aa-4ad3-b239-ba89203dcd57' class='xr-section-summary-in' type='checkbox'  checked><label for='section-f05f120c-77aa-4ad3-b239-ba89203dcd57' class='xr-section-summary' >Coordinates: <span>(3)</span></label><div class='xr-section-inline-details'></div><div class='xr-section-details'><ul class='xr-var-list'><li class='xr-var-item'><div class='xr-var-name'><span class='xr-has-index'>y</span></div><div class='xr-var-dims'>(y)</div><div class='xr-var-dtype'>float64</div><div class='xr-var-preview xr-preview'>1.922e+06 1.922e+06 ... 1.924e+06</div><input id='attrs-e9e30dfb-746e-491e-82fe-67970c1803a7' class='xr-var-attrs-in' type='checkbox' ><label for='attrs-e9e30dfb-746e-491e-82fe-67970c1803a7' title='Show/Hide attributes'><svg class='icon xr-icon-file-text2'><use xlink:href='#icon-file-text2'></use></svg></label><input id='data-4d263511-981a-461a-9039-78b756ecccfa' class='xr-var-data-in' type='checkbox'><label for='data-4d263511-981a-461a-9039-78b756ecccfa' title='Show/Hide data repr'><svg class='icon xr-icon-database'><use xlink:href='#icon-database'></use></svg></label><div class='xr-var-attrs'><dl class='xr-attrs'><dt><span>axis :</span></dt><dd>Y</dd><dt><span>long_name :</span></dt><dd>y coordinate of projection</dd><dt><span>standard_name :</span></dt><dd>projection_y_coordinate</dd><dt><span>units :</span></dt><dd>metre</dd></dl></div><div class='xr-var-data'><pre>array([1921653.25, 1921653.75, 1921654.25, ..., 1924008.75, 1924009.25,\n",
       "       1924009.75])</pre></div></li><li class='xr-var-item'><div class='xr-var-name'><span class='xr-has-index'>x</span></div><div class='xr-var-dims'>(x)</div><div class='xr-var-dtype'>float64</div><div class='xr-var-preview xr-preview'>1.621e+06 1.621e+06 ... 1.618e+06</div><input id='attrs-fc4021ad-848f-4b1f-ad71-7c82a969fb11' class='xr-var-attrs-in' type='checkbox' ><label for='attrs-fc4021ad-848f-4b1f-ad71-7c82a969fb11' title='Show/Hide attributes'><svg class='icon xr-icon-file-text2'><use xlink:href='#icon-file-text2'></use></svg></label><input id='data-2d2625f5-8d8c-4f1d-b5ca-35f45bbc9df2' class='xr-var-data-in' type='checkbox'><label for='data-2d2625f5-8d8c-4f1d-b5ca-35f45bbc9df2' title='Show/Hide data repr'><svg class='icon xr-icon-database'><use xlink:href='#icon-database'></use></svg></label><div class='xr-var-attrs'><dl class='xr-attrs'><dt><span>axis :</span></dt><dd>X</dd><dt><span>long_name :</span></dt><dd>x coordinate of projection</dd><dt><span>standard_name :</span></dt><dd>projection_x_coordinate</dd><dt><span>units :</span></dt><dd>metre</dd></dl></div><div class='xr-var-data'><pre>array([1620526.25, 1620525.75, 1620525.25, ..., 1617993.25, 1617992.75,\n",
       "       1617992.25])</pre></div></li><li class='xr-var-item'><div class='xr-var-name'><span>spatial_ref</span></div><div class='xr-var-dims'>()</div><div class='xr-var-dtype'>int64</div><div class='xr-var-preview xr-preview'>0</div><input id='attrs-12c8f4e4-e382-4b0e-bfeb-b02eb388dafa' class='xr-var-attrs-in' type='checkbox' ><label for='attrs-12c8f4e4-e382-4b0e-bfeb-b02eb388dafa' title='Show/Hide attributes'><svg class='icon xr-icon-file-text2'><use xlink:href='#icon-file-text2'></use></svg></label><input id='data-4be34a2b-b950-4d11-ad25-eb2bb5eb2df4' class='xr-var-data-in' type='checkbox'><label for='data-4be34a2b-b950-4d11-ad25-eb2bb5eb2df4' title='Show/Hide data repr'><svg class='icon xr-icon-database'><use xlink:href='#icon-database'></use></svg></label><div class='xr-var-attrs'><dl class='xr-attrs'><dt><span>crs_wkt :</span></dt><dd>PROJCS[&quot;NAD83 / Conus Albers&quot;,GEOGCS[&quot;NAD83&quot;,DATUM[&quot;North_American_Datum_1983&quot;,SPHEROID[&quot;GRS 1980&quot;,6378137,298.257222101,AUTHORITY[&quot;EPSG&quot;,&quot;7019&quot;]],AUTHORITY[&quot;EPSG&quot;,&quot;6269&quot;]],PRIMEM[&quot;Greenwich&quot;,0,AUTHORITY[&quot;EPSG&quot;,&quot;8901&quot;]],UNIT[&quot;degree&quot;,0.0174532925199433,AUTHORITY[&quot;EPSG&quot;,&quot;9122&quot;]],AUTHORITY[&quot;EPSG&quot;,&quot;4269&quot;]],PROJECTION[&quot;Albers_Conic_Equal_Area&quot;],PARAMETER[&quot;latitude_of_center&quot;,23],PARAMETER[&quot;longitude_of_center&quot;,-96],PARAMETER[&quot;standard_parallel_1&quot;,29.5],PARAMETER[&quot;standard_parallel_2&quot;,45.5],PARAMETER[&quot;false_easting&quot;,0],PARAMETER[&quot;false_northing&quot;,0],UNIT[&quot;metre&quot;,1,AUTHORITY[&quot;EPSG&quot;,&quot;9001&quot;]],AXIS[&quot;Easting&quot;,EAST],AXIS[&quot;Northing&quot;,NORTH],AUTHORITY[&quot;EPSG&quot;,&quot;5070&quot;]]</dd><dt><span>semi_major_axis :</span></dt><dd>6378137.0</dd><dt><span>semi_minor_axis :</span></dt><dd>6356752.314140356</dd><dt><span>inverse_flattening :</span></dt><dd>298.257222101</dd><dt><span>reference_ellipsoid_name :</span></dt><dd>GRS 1980</dd><dt><span>longitude_of_prime_meridian :</span></dt><dd>0.0</dd><dt><span>prime_meridian_name :</span></dt><dd>Greenwich</dd><dt><span>geographic_crs_name :</span></dt><dd>NAD83</dd><dt><span>horizontal_datum_name :</span></dt><dd>North American Datum 1983</dd><dt><span>projected_crs_name :</span></dt><dd>NAD83 / Conus Albers</dd><dt><span>grid_mapping_name :</span></dt><dd>albers_conical_equal_area</dd><dt><span>standard_parallel :</span></dt><dd>(29.5, 45.5)</dd><dt><span>latitude_of_projection_origin :</span></dt><dd>23.0</dd><dt><span>longitude_of_central_meridian :</span></dt><dd>-96.0</dd><dt><span>false_easting :</span></dt><dd>0.0</dd><dt><span>false_northing :</span></dt><dd>0.0</dd><dt><span>spatial_ref :</span></dt><dd>PROJCS[&quot;NAD83 / Conus Albers&quot;,GEOGCS[&quot;NAD83&quot;,DATUM[&quot;North_American_Datum_1983&quot;,SPHEROID[&quot;GRS 1980&quot;,6378137,298.257222101,AUTHORITY[&quot;EPSG&quot;,&quot;7019&quot;]],AUTHORITY[&quot;EPSG&quot;,&quot;6269&quot;]],PRIMEM[&quot;Greenwich&quot;,0,AUTHORITY[&quot;EPSG&quot;,&quot;8901&quot;]],UNIT[&quot;degree&quot;,0.0174532925199433,AUTHORITY[&quot;EPSG&quot;,&quot;9122&quot;]],AUTHORITY[&quot;EPSG&quot;,&quot;4269&quot;]],PROJECTION[&quot;Albers_Conic_Equal_Area&quot;],PARAMETER[&quot;latitude_of_center&quot;,23],PARAMETER[&quot;longitude_of_center&quot;,-96],PARAMETER[&quot;standard_parallel_1&quot;,29.5],PARAMETER[&quot;standard_parallel_2&quot;,45.5],PARAMETER[&quot;false_easting&quot;,0],PARAMETER[&quot;false_northing&quot;,0],UNIT[&quot;metre&quot;,1,AUTHORITY[&quot;EPSG&quot;,&quot;9001&quot;]],AXIS[&quot;Easting&quot;,EAST],AXIS[&quot;Northing&quot;,NORTH],AUTHORITY[&quot;EPSG&quot;,&quot;5070&quot;]]</dd></dl></div><div class='xr-var-data'><pre>array(0)</pre></div></li></ul></div></li><li class='xr-section-item'><input id='section-a1d83a71-942c-4e2d-a7f7-d1cf34c72bc0' class='xr-section-summary-in' type='checkbox'  checked><label for='section-a1d83a71-942c-4e2d-a7f7-d1cf34c72bc0' class='xr-section-summary' >Data variables: <span>(1)</span></label><div class='xr-section-inline-details'></div><div class='xr-section-details'><ul class='xr-var-list'><li class='xr-var-item'><div class='xr-var-name'><span>raster_value</span></div><div class='xr-var-dims'>(y, x)</div><div class='xr-var-dtype'>float64</div><div class='xr-var-preview xr-preview'>255.0 255.0 255.0 ... 255.0 255.0</div><input id='attrs-675d19f0-aaaf-43d4-83dc-d28d78ab4f30' class='xr-var-attrs-in' type='checkbox' ><label for='attrs-675d19f0-aaaf-43d4-83dc-d28d78ab4f30' title='Show/Hide attributes'><svg class='icon xr-icon-file-text2'><use xlink:href='#icon-file-text2'></use></svg></label><input id='data-e728484e-7aed-4a67-8bf6-48e9c175dc83' class='xr-var-data-in' type='checkbox'><label for='data-e728484e-7aed-4a67-8bf6-48e9c175dc83' title='Show/Hide data repr'><svg class='icon xr-icon-database'><use xlink:href='#icon-database'></use></svg></label><div class='xr-var-attrs'><dl class='xr-attrs'><dt><span>name :</span></dt><dd>raster_value</dd><dt><span>long_name :</span></dt><dd>raster_value</dd><dt><span>_FillValue :</span></dt><dd>255</dd></dl></div><div class='xr-var-data'><pre>array([[255., 255., 255., ..., 255., 255., 255.],\n",
       "       [255., 255., 255., ..., 255., 255., 255.],\n",
       "       [255., 255., 255., ..., 255., 255., 255.],\n",
       "       ...,\n",
       "       [255., 255., 255., ..., 255., 255., 255.],\n",
       "       [255., 255., 255., ..., 255., 255., 255.],\n",
       "       [255., 255., 255., ..., 255., 255., 255.]])</pre></div></li></ul></div></li><li class='xr-section-item'><input id='section-ebe2dd7b-9f24-41e6-ba1d-91601af23573' class='xr-section-summary-in' type='checkbox' disabled ><label for='section-ebe2dd7b-9f24-41e6-ba1d-91601af23573' class='xr-section-summary'  title='Expand/collapse section'>Attributes: <span>(0)</span></label><div class='xr-section-inline-details'></div><div class='xr-section-details'><dl class='xr-attrs'></dl></div></li></ul></div></div>"
      ],
      "text/plain": [
       "<xarray.Dataset>\n",
       "Dimensions:       (y: 4714, x: 5069)\n",
       "Coordinates:\n",
       "  * y             (y) float64 1.922e+06 1.922e+06 ... 1.924e+06 1.924e+06\n",
       "  * x             (x) float64 1.621e+06 1.621e+06 ... 1.618e+06 1.618e+06\n",
       "    spatial_ref   int64 0\n",
       "Data variables:\n",
       "    raster_value  (y, x) float64 255.0 255.0 255.0 255.0 ... 255.0 255.0 255.0"
      ]
     },
     "execution_count": 36,
     "metadata": {},
     "output_type": "execute_result"
    }
   ],
   "source": [
    "cube\n"
   ]
  },
  {
   "cell_type": "markdown",
   "id": "2f91d120-7b44-4392-9c2a-177f3a346fc1",
   "metadata": {},
   "source": [
    "## Implementation function"
   ]
  },
  {
   "cell_type": "code",
   "execution_count": 38,
   "id": "0f6c2f28-d8e9-4204-8a7f-b92cb3993544",
   "metadata": {},
   "outputs": [],
   "source": [
    "import os\n",
    "from typing import Union\n",
    "\n",
    "from geocube.api.core import make_geocube\n",
    "import geopandas as gpd\n",
    "import xarray as xr\n",
    "\n",
    "\n",
    "\n",
    "def rasterize_polygon_shapefile(input_shapefile: str,\n",
    "                                target_cell_size: Union[float, int],\n",
    "                                save_raster: bool = True,\n",
    "                                output_raster_directory: Union[str, None] = None,\n",
    "                                target_field: str = \"footprint\",\n",
    "                                default_value: Union[float, int] = 127,\n",
    "                                no_data_value: int = 255) -> xr.Dataset:\n",
    "    \"\"\"Rasterize polygon shapefile to desired resolution.\n",
    "\n",
    "    :param input_shapefile:                         Full path with file name and extension to the input shapefile.\n",
    "    :type input_shapefile:                          str\n",
    "\n",
    "    :param target_cell_size:                        Target cell size of the output raster.\n",
    "    :type target_cell_size:                         Union[float, int]\n",
    "\n",
    "    :param save_raster:                             True, if writing raster to file. False, if not.\n",
    "    :type save_raster:                              bool\n",
    "\n",
    "    :param output_raster_directory:                 If save_raster is True, the full path to the directory to write the\n",
    "                                                    output raster file to.\n",
    "    :type output_raster_directory:                  Union[str, None]\n",
    "\n",
    "    :param target_field:                            Field name to use for rasterization.  Default field \"footprint\" will\n",
    "                                                    be used if none specified and written to file using the value of\n",
    "                                                    the default_value argument.\n",
    "    :type target_field:                             str\n",
    "\n",
    "    :param default_value:                           Value used to write to the target field if it does not exist in the\n",
    "                                                    input shapefile.\n",
    "    :type default_value:                            Union[float, int]\n",
    "\n",
    "    :param no_data_value:                           No data value to use as the fill value for non-populated cells.\n",
    "    :type no_data_value:                            int\n",
    "\n",
    "    :return:                                        An xarray Dataset object of the rasterized polygon.\n",
    "\n",
    "    \"\"\"\n",
    "\n",
    "    # read in shapefile as a geodataframe\n",
    "    gdf = gpd.read_file(input_shapefile)\n",
    "\n",
    "    # add in field for raster value if not exists with a default value\n",
    "    if target_field not in gdf.columns:\n",
    "        gdf[target_field] = default_value\n",
    "\n",
    "    # rasterize the polygon data into an xarray object\n",
    "    cube = make_geocube(vector_data=gdf,\n",
    "                        measurements=[target_field],\n",
    "                        resolution=(target_cell_size, -target_cell_size),\n",
    "                        fill=no_data_value)\n",
    "\n",
    "    # save raster file if so desired\n",
    "    if save_raster:\n",
    "\n",
    "        # get the file name of the input shapefile\n",
    "        basename = os.path.basename(input_shapefile)\n",
    "\n",
    "        # get the file name sans extension\n",
    "        basename_no_extension = os.path.splitext(basename)\n",
    "\n",
    "        # construct the output raster name\n",
    "        output_raster = os.path.join(output_raster_directory, f\"{basename_no_extension}_{target_field}.tif\")\n",
    "\n",
    "        # write raster to file\n",
    "        cube.raster_value.rio.to_raster(output_raster)\n",
    "\n",
    "    return cube\n"
   ]
  },
  {
   "cell_type": "markdown",
   "id": "d3841b33-4c7c-48f6-9bce-779cddc5f2fd",
   "metadata": {},
   "source": [
    "## Parameter_Calculations.py"
   ]
  },
  {
   "cell_type": "code",
   "execution_count": 21,
   "id": "745dcb78-637a-4652-a280-aaec148bf227",
   "metadata": {},
   "outputs": [],
   "source": [
    "data_dir = \"/Users/d3y010/projects/naturf/data\"\n",
    "\n",
    "input_shapefile = os.path.join(data_dir, \"inputs\", \"C-5.shp\")\n",
    "raster_dir = os.path.join(data_dir, \"outputs\")\n",
    "latitude_center = 38.9\n",
    "longitude_center = -77.0\n",
    "id_field = \"OBJECTID\"\n",
    "height_field = \"Max_HOUSE_\"\n",
    "\n",
    "raster_value = 127\n",
    "no_data_value = 255\n",
    "target_resolution = 0.5\n",
    "\n",
    "raster_ids_file = os.path.join(data_dir, \"example_naturf_outputs_v2\", \"Chris_and_Emily_C-5\", \"Tifs\", \"Building_IDs.tif\")\n"
   ]
  },
  {
   "cell_type": "code",
   "execution_count": 13,
   "id": "9372a31e-ca0e-404b-b004-11a9e3105de4",
   "metadata": {},
   "outputs": [],
   "source": [
    "# read in shapefile and take a look\n",
    "gdf = gpd.read_file(input_shapefile)\n"
   ]
  },
  {
   "cell_type": "code",
   "execution_count": 31,
   "id": "72e4fba2-b3ff-43b4-a969-1223616f3313",
   "metadata": {},
   "outputs": [],
   "source": [
    "# get ids from buildings\n",
    "with rasterio.open(raster_ids_file) as src:\n",
    "    metadata = src.meta.copy()\n",
    "    id_arr = src.read(1)\n"
   ]
  },
  {
   "cell_type": "markdown",
   "id": "dc07b736-cc85-4a5e-a3b6-598a80444b74",
   "metadata": {},
   "source": [
    "#### A note:  the gridded building area is different then the building area calculated from the raw geometry"
   ]
  },
  {
   "cell_type": "code",
   "execution_count": 65,
   "id": "9401b3de-1e0c-4fc9-9af7-7b92a9a26d2a",
   "metadata": {},
   "outputs": [
    {
     "data": {
      "text/html": [
       "<div>\n",
       "<style scoped>\n",
       "    .dataframe tbody tr th:only-of-type {\n",
       "        vertical-align: middle;\n",
       "    }\n",
       "\n",
       "    .dataframe tbody tr th {\n",
       "        vertical-align: top;\n",
       "    }\n",
       "\n",
       "    .dataframe thead th {\n",
       "        text-align: right;\n",
       "    }\n",
       "</style>\n",
       "<table border=\"1\" class=\"dataframe\">\n",
       "  <thead>\n",
       "    <tr style=\"text-align: right;\">\n",
       "      <th></th>\n",
       "      <th>xid</th>\n",
       "      <th>geometry</th>\n",
       "      <th>Max_HOUSE_</th>\n",
       "      <th>grid_bldg_area</th>\n",
       "    </tr>\n",
       "  </thead>\n",
       "  <tbody>\n",
       "    <tr>\n",
       "      <th>0</th>\n",
       "      <td>1</td>\n",
       "      <td>POLYGON ((1618111.652 1922706.443, 1618109.381...</td>\n",
       "      <td>0.00</td>\n",
       "      <td>12.50</td>\n",
       "    </tr>\n",
       "    <tr>\n",
       "      <th>1</th>\n",
       "      <td>2</td>\n",
       "      <td>POLYGON ((1618092.351 1922752.255, 1618088.410...</td>\n",
       "      <td>0.00</td>\n",
       "      <td>39.50</td>\n",
       "    </tr>\n",
       "    <tr>\n",
       "      <th>2</th>\n",
       "      <td>3</td>\n",
       "      <td>POLYGON ((1618052.020 1922797.834, 1618051.749...</td>\n",
       "      <td>2.66</td>\n",
       "      <td>326.50</td>\n",
       "    </tr>\n",
       "    <tr>\n",
       "      <th>3</th>\n",
       "      <td>4</td>\n",
       "      <td>POLYGON ((1618059.647 1922806.024, 1618058.415...</td>\n",
       "      <td>2.66</td>\n",
       "      <td>37.75</td>\n",
       "    </tr>\n",
       "    <tr>\n",
       "      <th>4</th>\n",
       "      <td>5</td>\n",
       "      <td>POLYGON ((1617996.818 1922869.925, 1617997.292...</td>\n",
       "      <td>0.00</td>\n",
       "      <td>70.75</td>\n",
       "    </tr>\n",
       "    <tr>\n",
       "      <th>...</th>\n",
       "      <td>...</td>\n",
       "      <td>...</td>\n",
       "      <td>...</td>\n",
       "      <td>...</td>\n",
       "    </tr>\n",
       "    <tr>\n",
       "      <th>255</th>\n",
       "      <td>256</td>\n",
       "      <td>POLYGON ((1618778.192 1923429.261, 1618778.104...</td>\n",
       "      <td>0.00</td>\n",
       "      <td>275.50</td>\n",
       "    </tr>\n",
       "    <tr>\n",
       "      <th>256</th>\n",
       "      <td>257</td>\n",
       "      <td>POLYGON ((1618967.172 1923713.151, 1618967.258...</td>\n",
       "      <td>36.03</td>\n",
       "      <td>2021.75</td>\n",
       "    </tr>\n",
       "    <tr>\n",
       "      <th>257</th>\n",
       "      <td>258</td>\n",
       "      <td>POLYGON ((1619927.723 1923237.626, 1619927.111...</td>\n",
       "      <td>0.00</td>\n",
       "      <td>11.00</td>\n",
       "    </tr>\n",
       "    <tr>\n",
       "      <th>258</th>\n",
       "      <td>259</td>\n",
       "      <td>POLYGON ((1618167.345 1922942.420, 1618168.818...</td>\n",
       "      <td>0.00</td>\n",
       "      <td>84.25</td>\n",
       "    </tr>\n",
       "    <tr>\n",
       "      <th>259</th>\n",
       "      <td>260</td>\n",
       "      <td>POLYGON ((1619357.797 1923445.956, 1619344.502...</td>\n",
       "      <td>7.28</td>\n",
       "      <td>2997.00</td>\n",
       "    </tr>\n",
       "  </tbody>\n",
       "</table>\n",
       "<p>260 rows × 4 columns</p>\n",
       "</div>"
      ],
      "text/plain": [
       "     xid                                           geometry  Max_HOUSE_  \\\n",
       "0      1  POLYGON ((1618111.652 1922706.443, 1618109.381...        0.00   \n",
       "1      2  POLYGON ((1618092.351 1922752.255, 1618088.410...        0.00   \n",
       "2      3  POLYGON ((1618052.020 1922797.834, 1618051.749...        2.66   \n",
       "3      4  POLYGON ((1618059.647 1922806.024, 1618058.415...        2.66   \n",
       "4      5  POLYGON ((1617996.818 1922869.925, 1617997.292...        0.00   \n",
       "..   ...                                                ...         ...   \n",
       "255  256  POLYGON ((1618778.192 1923429.261, 1618778.104...        0.00   \n",
       "256  257  POLYGON ((1618967.172 1923713.151, 1618967.258...       36.03   \n",
       "257  258  POLYGON ((1619927.723 1923237.626, 1619927.111...        0.00   \n",
       "258  259  POLYGON ((1618167.345 1922942.420, 1618168.818...        0.00   \n",
       "259  260  POLYGON ((1619357.797 1923445.956, 1619344.502...        7.28   \n",
       "\n",
       "     grid_bldg_area  \n",
       "0             12.50  \n",
       "1             39.50  \n",
       "2            326.50  \n",
       "3             37.75  \n",
       "4             70.75  \n",
       "..              ...  \n",
       "255          275.50  \n",
       "256         2021.75  \n",
       "257           11.00  \n",
       "258           84.25  \n",
       "259         2997.00  \n",
       "\n",
       "[260 rows x 4 columns]"
      ]
     },
     "execution_count": 65,
     "metadata": {},
     "output_type": "execute_result"
    }
   ],
   "source": [
    "gdf[\"xid\"] = gdf.index + 1\n",
    "gdf[\"grid_bldg_area\"] = gdf[\"xid\"].apply(lambda x: id_arr[id_arr == x].shape[0] * target_resolution**2)\n",
    "\n",
    "gdf[[\"xid\", \"geometry\", height_field, \"grid_bldg_area\"]]\n"
   ]
  },
  {
   "cell_type": "code",
   "execution_count": 76,
   "id": "ee932983-8773-45a5-a2db-a23a31966eff",
   "metadata": {},
   "outputs": [],
   "source": [
    "cents = gdf.set_index(\"xid\")[\"geometry\"].centroid.to_dict()\n",
    "\n",
    "hts = gdf.set_index(\"xid\")[height_field].to_dict()\n",
    "\n",
    "areas = gdf.set_index(\"xid\")[\"grid_bldg_area\"].to_dict()\n"
   ]
  },
  {
   "cell_type": "code",
   "execution_count": null,
   "id": "155139af-a895-4f61-b9e9-163649c00a05",
   "metadata": {},
   "outputs": [],
   "source": []
  }
 ],
 "metadata": {
  "kernelspec": {
   "display_name": "py3.9.4_naturf",
   "language": "python",
   "name": "py3.9.4_naturf"
  },
  "language_info": {
   "codemirror_mode": {
    "name": "ipython",
    "version": 3
   },
   "file_extension": ".py",
   "mimetype": "text/x-python",
   "name": "python",
   "nbconvert_exporter": "python",
   "pygments_lexer": "ipython3",
   "version": "3.9.4"
  }
 },
 "nbformat": 4,
 "nbformat_minor": 5
}
